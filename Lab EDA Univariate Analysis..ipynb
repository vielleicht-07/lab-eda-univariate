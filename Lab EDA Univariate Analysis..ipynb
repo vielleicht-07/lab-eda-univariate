{
 "cells": [
  {
   "cell_type": "code",
   "execution_count": null,
   "id": "86306bb7-8aed-4fc8-bb77-350d65074e6a",
   "metadata": {},
   "outputs": [],
   "source": []
  },
  {
   "cell_type": "markdown",
   "id": "6bdc50f7-6138-4693-9337-239203df53e9",
   "metadata": {},
   "source": [
    "## Lab - EDA Univariate Analysis: Diving into Amazon UK Product Insights"
   ]
  },
  {
   "cell_type": "markdown",
   "id": "356e6c88-a700-4a09-97a2-77fe93cc1497",
   "metadata": {},
   "source": [
    "### Lab - EDA Univariate Analysis: Diving into Amazon UK Product Insights\n",
    "\n",
    "**Objective**: Explore the product listing dynamics on Amazon UK to extract actionable business insights. By understanding the distribution, central tendencies, and relationships of various product attributes, businesses can make more informed decisions on product positioning, pricing strategies, and inventory management.\n",
    "\n",
    "**Dataset**: This lab utilizes the [Amazon UK product dataset](https://www.kaggle.com/datasets/asaniczka/uk-optimal-product-price-prediction/)\n",
    "which provides information on product categories, brands, prices, ratings, and more from from Amazon UK. You'll need to download it to start working with it.\n",
    "\n",
    "\n",
    "---\n",
    "\n",
    "### Part 1: Understanding Product Categories\n",
    "\n",
    "**Business Question**: What are the most popular product categories on Amazon UK, and how do they compare in terms of listing frequency?\n",
    "\n",
    "1. **Frequency Tables**:\n",
    "    - Generate a frequency table for the product `category`.\n",
    "    - Which are the top 5 most listed product categories?\n",
    "\n",
    "2. **Visualizations**:\n",
    "    - Display the distribution of products across different categories using a bar chart. *If you face problems understanding the chart, do it for a subset of top categories.*\n",
    "    - For a subset of top categories, visualize their proportions using a pie chart. Does any category dominate the listings?\n",
    "\n",
    "---\n",
    "\n",
    "### Part 2: Delving into Product Pricing\n",
    "\n",
    "**Business Question**: How are products priced on Amazon UK, and are there specific price points or ranges that are more common?\n",
    "\n",
    "1. **Measures of Centrality**:\n",
    "    - Calculate the mean, median, and mode for the `price` of products.\n",
    "    - What's the average price point of products listed? How does this compare with the most common price point (mode)?\n",
    "\n",
    "2. **Measures of Dispersion**:\n",
    "    - Determine the variance, standard deviation, range, and interquartile range for product `price`.\n",
    "    - How varied are the product prices? Are there any indicators of a significant spread in prices?\n",
    "\n",
    "3. **Visualizations**:\n",
    "    - Is there a specific price range where most products fall? Plot a histogram to visualize the distribution of product prices. *If its hard to read these diagrams, think why this is, and explain how it could be solved.*.\n",
    "    - Are there products that are priced significantly higher than the rest? Use a box plot to showcase the spread and potential outliers in product pricing. \n",
    "\n",
    "---\n",
    "\n",
    "### Part 3: Unpacking Product Ratings\n",
    "\n",
    "**Business Question**: How do customers rate products on Amazon UK, and are there any patterns or tendencies in the ratings?\n",
    "\n",
    "1. **Measures of Centrality**:\n",
    "    - Calculate the mean, median, and mode for the `rating` of products.\n",
    "    - How do customers generally rate products? Is there a common trend?\n",
    "\n",
    "2. **Measures of Dispersion**:\n",
    "    - Determine the variance, standard deviation, and interquartile range for product `rating`.\n",
    "    - Are the ratings consistent, or is there a wide variation in customer feedback?\n",
    "\n",
    "3. **Shape of the Distribution**:\n",
    "    - Calculate the skewness and kurtosis for the `rating` column. \n",
    "    - Are the ratings normally distributed, or do they lean towards higher or lower values?\n",
    "\n",
    "4. **Visualizations**:\n",
    "    - Plot a histogram to visualize the distribution of product ratings. Is there a specific rating that is more common?\n",
    "\n",
    "---\n",
    "\n",
    "**Submission**: Submit a Jupyter Notebook which contains code and a business-centric report summarizing your findings. \n",
    "\n"
   ]
  },
  {
   "cell_type": "code",
   "execution_count": null,
   "id": "3c8edb83-4f81-4ce1-be80-4fb39a081b3a",
   "metadata": {},
   "outputs": [],
   "source": []
  },
  {
   "cell_type": "code",
   "execution_count": null,
   "id": "06cec77f-09f3-42fe-8715-81a82e877642",
   "metadata": {},
   "outputs": [],
   "source": []
  },
  {
   "cell_type": "code",
   "execution_count": null,
   "id": "d0094d38-e3cb-4f7e-bb2c-462e63b6870f",
   "metadata": {},
   "outputs": [],
   "source": []
  },
  {
   "cell_type": "markdown",
   "id": "a67d32f7-6010-4377-9469-d6ea75ab8ca2",
   "metadata": {},
   "source": [
    "## Project "
   ]
  },
  {
   "cell_type": "code",
   "execution_count": 1,
   "id": "d3f48aaf-0a9a-4aca-8646-f24530e71a8a",
   "metadata": {},
   "outputs": [],
   "source": [
    "import pandas as pd\n",
    "import matplotlib.pyplot as plt\n",
    "import seaborn as sns\n",
    "import numpy as np"
   ]
  },
  {
   "cell_type": "code",
   "execution_count": null,
   "id": "1719ef2a-2837-409c-a69b-04eba28523cb",
   "metadata": {},
   "outputs": [],
   "source": []
  },
  {
   "cell_type": "code",
   "execution_count": 3,
   "id": "eb97028d-41cb-4d04-9bdd-64128689cbe4",
   "metadata": {},
   "outputs": [],
   "source": [
    "df = pd.read_csv(\"amz_uk_price_prediction_dataset.csv\")"
   ]
  },
  {
   "cell_type": "code",
   "execution_count": 5,
   "id": "91598329-9625-4c99-bfaf-3d6f4129422f",
   "metadata": {},
   "outputs": [
    {
     "data": {
      "text/html": [
       "<div>\n",
       "<style scoped>\n",
       "    .dataframe tbody tr th:only-of-type {\n",
       "        vertical-align: middle;\n",
       "    }\n",
       "\n",
       "    .dataframe tbody tr th {\n",
       "        vertical-align: top;\n",
       "    }\n",
       "\n",
       "    .dataframe thead th {\n",
       "        text-align: right;\n",
       "    }\n",
       "</style>\n",
       "<table border=\"1\" class=\"dataframe\">\n",
       "  <thead>\n",
       "    <tr style=\"text-align: right;\">\n",
       "      <th></th>\n",
       "      <th>uid</th>\n",
       "      <th>asin</th>\n",
       "      <th>title</th>\n",
       "      <th>stars</th>\n",
       "      <th>reviews</th>\n",
       "      <th>price</th>\n",
       "      <th>isBestSeller</th>\n",
       "      <th>boughtInLastMonth</th>\n",
       "      <th>category</th>\n",
       "    </tr>\n",
       "  </thead>\n",
       "  <tbody>\n",
       "    <tr>\n",
       "      <th>0</th>\n",
       "      <td>1</td>\n",
       "      <td>B09B96TG33</td>\n",
       "      <td>Echo Dot (5th generation, 2022 release) | Big ...</td>\n",
       "      <td>4.7</td>\n",
       "      <td>15308</td>\n",
       "      <td>21.99</td>\n",
       "      <td>False</td>\n",
       "      <td>0</td>\n",
       "      <td>Hi-Fi Speakers</td>\n",
       "    </tr>\n",
       "    <tr>\n",
       "      <th>1</th>\n",
       "      <td>2</td>\n",
       "      <td>B01HTH3C8S</td>\n",
       "      <td>Anker Soundcore mini, Super-Portable Bluetooth...</td>\n",
       "      <td>4.7</td>\n",
       "      <td>98099</td>\n",
       "      <td>23.99</td>\n",
       "      <td>True</td>\n",
       "      <td>0</td>\n",
       "      <td>Hi-Fi Speakers</td>\n",
       "    </tr>\n",
       "  </tbody>\n",
       "</table>\n",
       "</div>"
      ],
      "text/plain": [
       "   uid        asin                                              title  stars  \\\n",
       "0    1  B09B96TG33  Echo Dot (5th generation, 2022 release) | Big ...    4.7   \n",
       "1    2  B01HTH3C8S  Anker Soundcore mini, Super-Portable Bluetooth...    4.7   \n",
       "\n",
       "   reviews  price  isBestSeller  boughtInLastMonth        category  \n",
       "0    15308  21.99         False                  0  Hi-Fi Speakers  \n",
       "1    98099  23.99          True                  0  Hi-Fi Speakers  "
      ]
     },
     "execution_count": 5,
     "metadata": {},
     "output_type": "execute_result"
    }
   ],
   "source": [
    "df.head(2)"
   ]
  },
  {
   "cell_type": "code",
   "execution_count": null,
   "id": "4fb429c3-8f84-4072-9cad-9bdcca07ed1b",
   "metadata": {},
   "outputs": [],
   "source": []
  },
  {
   "cell_type": "markdown",
   "id": "e9e408b2-c74c-4ec3-b96c-e7b39bc61ca1",
   "metadata": {},
   "source": [
    "## Part 1: Understanding Product Categories\n",
    "- Business Question: What are the most popular product categories on Amazon UK, and how do they compare in terms of listing frequency?"
   ]
  },
  {
   "cell_type": "code",
   "execution_count": 102,
   "id": "f248c764-8d69-4829-89de-7143ec57a81f",
   "metadata": {},
   "outputs": [],
   "source": [
    "# category\tproportion\n",
    "# 0\tSports & Outdoors\t0.342219\n",
    "# 1\tBeauty\t0.007903\n",
    "# 2\tHandmade Clothing, Shoes & Accessories\t0.007869\n",
    "# 3\tBath & Body\t0.007813\n",
    "# 4\tBirthday Gifts\t0.007766"
   ]
  },
  {
   "cell_type": "markdown",
   "id": "10b67a64-3b5a-4be7-b8fd-3e8f0a538b35",
   "metadata": {},
   "source": [
    "### 1. Frequency Tables:\n",
    "\n",
    "- Generate a frequency table for the product category.\n",
    "- Which are the top 5 most listed product categories?\n",
    "\n",
    "                    \n",
    " "
   ]
  },
  {
   "cell_type": "code",
   "execution_count": 8,
   "id": "d0f6a4b6-e560-4aa3-b6b1-bdfb41c5a935",
   "metadata": {},
   "outputs": [],
   "source": [
    "df_frequency = df.copy()"
   ]
  },
  {
   "cell_type": "code",
   "execution_count": 10,
   "id": "988b5eae-f858-4976-9c28-61b570d6e204",
   "metadata": {},
   "outputs": [
    {
     "data": {
      "text/html": [
       "<div>\n",
       "<style scoped>\n",
       "    .dataframe tbody tr th:only-of-type {\n",
       "        vertical-align: middle;\n",
       "    }\n",
       "\n",
       "    .dataframe tbody tr th {\n",
       "        vertical-align: top;\n",
       "    }\n",
       "\n",
       "    .dataframe thead th {\n",
       "        text-align: right;\n",
       "    }\n",
       "</style>\n",
       "<table border=\"1\" class=\"dataframe\">\n",
       "  <thead>\n",
       "    <tr style=\"text-align: right;\">\n",
       "      <th></th>\n",
       "      <th>uid</th>\n",
       "      <th>asin</th>\n",
       "      <th>title</th>\n",
       "      <th>stars</th>\n",
       "      <th>reviews</th>\n",
       "      <th>price</th>\n",
       "      <th>isBestSeller</th>\n",
       "      <th>boughtInLastMonth</th>\n",
       "      <th>category</th>\n",
       "    </tr>\n",
       "  </thead>\n",
       "  <tbody>\n",
       "    <tr>\n",
       "      <th>0</th>\n",
       "      <td>1</td>\n",
       "      <td>B09B96TG33</td>\n",
       "      <td>Echo Dot (5th generation, 2022 release) | Big ...</td>\n",
       "      <td>4.7</td>\n",
       "      <td>15308</td>\n",
       "      <td>21.99</td>\n",
       "      <td>False</td>\n",
       "      <td>0</td>\n",
       "      <td>Hi-Fi Speakers</td>\n",
       "    </tr>\n",
       "    <tr>\n",
       "      <th>1</th>\n",
       "      <td>2</td>\n",
       "      <td>B01HTH3C8S</td>\n",
       "      <td>Anker Soundcore mini, Super-Portable Bluetooth...</td>\n",
       "      <td>4.7</td>\n",
       "      <td>98099</td>\n",
       "      <td>23.99</td>\n",
       "      <td>True</td>\n",
       "      <td>0</td>\n",
       "      <td>Hi-Fi Speakers</td>\n",
       "    </tr>\n",
       "  </tbody>\n",
       "</table>\n",
       "</div>"
      ],
      "text/plain": [
       "   uid        asin                                              title  stars  \\\n",
       "0    1  B09B96TG33  Echo Dot (5th generation, 2022 release) | Big ...    4.7   \n",
       "1    2  B01HTH3C8S  Anker Soundcore mini, Super-Portable Bluetooth...    4.7   \n",
       "\n",
       "   reviews  price  isBestSeller  boughtInLastMonth        category  \n",
       "0    15308  21.99         False                  0  Hi-Fi Speakers  \n",
       "1    98099  23.99          True                  0  Hi-Fi Speakers  "
      ]
     },
     "execution_count": 10,
     "metadata": {},
     "output_type": "execute_result"
    }
   ],
   "source": [
    "df_frequency.head(2)"
   ]
  },
  {
   "cell_type": "code",
   "execution_count": 12,
   "id": "5e60d032-9e27-406c-9105-412d6353aa85",
   "metadata": {},
   "outputs": [],
   "source": [
    "df_frequency_category = df_frequency[\"category\"]"
   ]
  },
  {
   "cell_type": "code",
   "execution_count": 14,
   "id": "3f64c5f9-e793-4044-bafe-bb47812471a2",
   "metadata": {},
   "outputs": [
    {
     "data": {
      "text/plain": [
       "category\n",
       "Sports & Outdoors                         836265\n",
       "Beauty                                     19312\n",
       "Handmade Clothing, Shoes & Accessories     19229\n",
       "Bath & Body                                19092\n",
       "Birthday Gifts                             18978\n",
       "Name: count, dtype: int64"
      ]
     },
     "execution_count": 14,
     "metadata": {},
     "output_type": "execute_result"
    }
   ],
   "source": [
    "df_frequency_category.value_counts() [:5]"
   ]
  },
  {
   "cell_type": "code",
   "execution_count": null,
   "id": "7d2fa90f-e134-4d7c-b121-9168b2b227e9",
   "metadata": {},
   "outputs": [],
   "source": [
    " "
   ]
  },
  {
   "cell_type": "code",
   "execution_count": null,
   "id": "76a1f86b-ee8b-4f32-85ae-e0c09962d161",
   "metadata": {},
   "outputs": [],
   "source": []
  },
  {
   "cell_type": "code",
   "execution_count": 47,
   "id": "5cec4d00-3cd1-4ad2-a6af-dd3171bc3507",
   "metadata": {},
   "outputs": [
    {
     "data": {
      "text/html": [
       "<div>\n",
       "<style scoped>\n",
       "    .dataframe tbody tr th:only-of-type {\n",
       "        vertical-align: middle;\n",
       "    }\n",
       "\n",
       "    .dataframe tbody tr th {\n",
       "        vertical-align: top;\n",
       "    }\n",
       "\n",
       "    .dataframe thead th {\n",
       "        text-align: right;\n",
       "    }\n",
       "</style>\n",
       "<table border=\"1\" class=\"dataframe\">\n",
       "  <thead>\n",
       "    <tr style=\"text-align: right;\">\n",
       "      <th></th>\n",
       "      <th>uid</th>\n",
       "      <th>asin</th>\n",
       "      <th>title</th>\n",
       "      <th>stars</th>\n",
       "      <th>reviews</th>\n",
       "      <th>price</th>\n",
       "      <th>isBestSeller</th>\n",
       "      <th>boughtInLastMonth</th>\n",
       "      <th>category</th>\n",
       "    </tr>\n",
       "  </thead>\n",
       "  <tbody>\n",
       "    <tr>\n",
       "      <th>0</th>\n",
       "      <td>1</td>\n",
       "      <td>B09B96TG33</td>\n",
       "      <td>Echo Dot (5th generation, 2022 release) | Big ...</td>\n",
       "      <td>4.7</td>\n",
       "      <td>15308</td>\n",
       "      <td>21.99</td>\n",
       "      <td>False</td>\n",
       "      <td>0</td>\n",
       "      <td>Hi-Fi Speakers</td>\n",
       "    </tr>\n",
       "    <tr>\n",
       "      <th>1</th>\n",
       "      <td>2</td>\n",
       "      <td>B01HTH3C8S</td>\n",
       "      <td>Anker Soundcore mini, Super-Portable Bluetooth...</td>\n",
       "      <td>4.7</td>\n",
       "      <td>98099</td>\n",
       "      <td>23.99</td>\n",
       "      <td>True</td>\n",
       "      <td>0</td>\n",
       "      <td>Hi-Fi Speakers</td>\n",
       "    </tr>\n",
       "  </tbody>\n",
       "</table>\n",
       "</div>"
      ],
      "text/plain": [
       "   uid        asin                                              title  stars  \\\n",
       "0    1  B09B96TG33  Echo Dot (5th generation, 2022 release) | Big ...    4.7   \n",
       "1    2  B01HTH3C8S  Anker Soundcore mini, Super-Portable Bluetooth...    4.7   \n",
       "\n",
       "   reviews  price  isBestSeller  boughtInLastMonth        category  \n",
       "0    15308  21.99         False                  0  Hi-Fi Speakers  \n",
       "1    98099  23.99          True                  0  Hi-Fi Speakers  "
      ]
     },
     "execution_count": 47,
     "metadata": {},
     "output_type": "execute_result"
    }
   ],
   "source": [
    "df_frequency.head(2)"
   ]
  },
  {
   "cell_type": "code",
   "execution_count": null,
   "id": "ad9bf283-a021-49e9-8df6-4d6d5dad4fd6",
   "metadata": {},
   "outputs": [],
   "source": []
  },
  {
   "cell_type": "code",
   "execution_count": 57,
   "id": "f7052c51-0abc-485a-955e-86d73d0eda6e",
   "metadata": {},
   "outputs": [],
   "source": [
    "df_frequency_table = df_frequency.category.value_counts(normalize=True)"
   ]
  },
  {
   "cell_type": "code",
   "execution_count": 66,
   "id": "5addf5be-d9c0-4a99-b785-15d8183703d3",
   "metadata": {},
   "outputs": [
    {
     "data": {
      "text/html": [
       "<div>\n",
       "<style scoped>\n",
       "    .dataframe tbody tr th:only-of-type {\n",
       "        vertical-align: middle;\n",
       "    }\n",
       "\n",
       "    .dataframe tbody tr th {\n",
       "        vertical-align: top;\n",
       "    }\n",
       "\n",
       "    .dataframe thead th {\n",
       "        text-align: right;\n",
       "    }\n",
       "</style>\n",
       "<table border=\"1\" class=\"dataframe\">\n",
       "  <thead>\n",
       "    <tr style=\"text-align: right;\">\n",
       "      <th></th>\n",
       "      <th>category</th>\n",
       "      <th>proportion</th>\n",
       "    </tr>\n",
       "  </thead>\n",
       "  <tbody>\n",
       "    <tr>\n",
       "      <th>0</th>\n",
       "      <td>Sports &amp; Outdoors</td>\n",
       "      <td>0.342219</td>\n",
       "    </tr>\n",
       "    <tr>\n",
       "      <th>1</th>\n",
       "      <td>Beauty</td>\n",
       "      <td>0.007903</td>\n",
       "    </tr>\n",
       "    <tr>\n",
       "      <th>2</th>\n",
       "      <td>Handmade Clothing, Shoes &amp; Accessories</td>\n",
       "      <td>0.007869</td>\n",
       "    </tr>\n",
       "    <tr>\n",
       "      <th>3</th>\n",
       "      <td>Bath &amp; Body</td>\n",
       "      <td>0.007813</td>\n",
       "    </tr>\n",
       "    <tr>\n",
       "      <th>4</th>\n",
       "      <td>Birthday Gifts</td>\n",
       "      <td>0.007766</td>\n",
       "    </tr>\n",
       "    <tr>\n",
       "      <th>...</th>\n",
       "      <td>...</td>\n",
       "      <td>...</td>\n",
       "    </tr>\n",
       "    <tr>\n",
       "      <th>291</th>\n",
       "      <td>Alexa Built-In Devices</td>\n",
       "      <td>0.000044</td>\n",
       "    </tr>\n",
       "    <tr>\n",
       "      <th>292</th>\n",
       "      <td>Motorbike Chassis</td>\n",
       "      <td>0.000044</td>\n",
       "    </tr>\n",
       "    <tr>\n",
       "      <th>293</th>\n",
       "      <td>Plugs</td>\n",
       "      <td>0.000044</td>\n",
       "    </tr>\n",
       "    <tr>\n",
       "      <th>294</th>\n",
       "      <td>Smart Home Security &amp; Lighting</td>\n",
       "      <td>0.000043</td>\n",
       "    </tr>\n",
       "    <tr>\n",
       "      <th>295</th>\n",
       "      <td>Smart Speakers</td>\n",
       "      <td>0.000022</td>\n",
       "    </tr>\n",
       "  </tbody>\n",
       "</table>\n",
       "<p>296 rows × 2 columns</p>\n",
       "</div>"
      ],
      "text/plain": [
       "                                   category  proportion\n",
       "0                         Sports & Outdoors    0.342219\n",
       "1                                    Beauty    0.007903\n",
       "2    Handmade Clothing, Shoes & Accessories    0.007869\n",
       "3                               Bath & Body    0.007813\n",
       "4                            Birthday Gifts    0.007766\n",
       "..                                      ...         ...\n",
       "291                  Alexa Built-In Devices    0.000044\n",
       "292                       Motorbike Chassis    0.000044\n",
       "293                                   Plugs    0.000044\n",
       "294          Smart Home Security & Lighting    0.000043\n",
       "295                          Smart Speakers    0.000022\n",
       "\n",
       "[296 rows x 2 columns]"
      ]
     },
     "execution_count": 66,
     "metadata": {},
     "output_type": "execute_result"
    }
   ],
   "source": [
    "df_frequency_table = df_frequency_table.reset_index()\n",
    "df_frequency_table"
   ]
  },
  {
   "cell_type": "code",
   "execution_count": 72,
   "id": "de16ce3c-8706-44cc-a9a0-3962fd7cb17c",
   "metadata": {},
   "outputs": [
    {
     "data": {
      "text/plain": [
       "2.2098081927411074e-05"
      ]
     },
     "execution_count": 72,
     "metadata": {},
     "output_type": "execute_result"
    }
   ],
   "source": [
    "df_frequency_table[\"proportion\"].min()"
   ]
  },
  {
   "cell_type": "code",
   "execution_count": null,
   "id": "a7e24cd4-597b-45bf-9fcf-27cbeb133377",
   "metadata": {},
   "outputs": [],
   "source": [
    " "
   ]
  },
  {
   "cell_type": "code",
   "execution_count": 74,
   "id": "030b2441-56ab-48be-81f1-0257596f307a",
   "metadata": {},
   "outputs": [
    {
     "data": {
      "text/html": [
       "<div>\n",
       "<style scoped>\n",
       "    .dataframe tbody tr th:only-of-type {\n",
       "        vertical-align: middle;\n",
       "    }\n",
       "\n",
       "    .dataframe tbody tr th {\n",
       "        vertical-align: top;\n",
       "    }\n",
       "\n",
       "    .dataframe thead th {\n",
       "        text-align: right;\n",
       "    }\n",
       "</style>\n",
       "<table border=\"1\" class=\"dataframe\">\n",
       "  <thead>\n",
       "    <tr style=\"text-align: right;\">\n",
       "      <th></th>\n",
       "      <th>uid</th>\n",
       "      <th>asin</th>\n",
       "      <th>title</th>\n",
       "      <th>stars</th>\n",
       "      <th>reviews</th>\n",
       "      <th>price</th>\n",
       "      <th>isBestSeller</th>\n",
       "      <th>boughtInLastMonth</th>\n",
       "      <th>category</th>\n",
       "    </tr>\n",
       "  </thead>\n",
       "  <tbody>\n",
       "    <tr>\n",
       "      <th>0</th>\n",
       "      <td>1</td>\n",
       "      <td>B09B96TG33</td>\n",
       "      <td>Echo Dot (5th generation, 2022 release) | Big ...</td>\n",
       "      <td>4.7</td>\n",
       "      <td>15308</td>\n",
       "      <td>21.99</td>\n",
       "      <td>False</td>\n",
       "      <td>0</td>\n",
       "      <td>Hi-Fi Speakers</td>\n",
       "    </tr>\n",
       "    <tr>\n",
       "      <th>1</th>\n",
       "      <td>2</td>\n",
       "      <td>B01HTH3C8S</td>\n",
       "      <td>Anker Soundcore mini, Super-Portable Bluetooth...</td>\n",
       "      <td>4.7</td>\n",
       "      <td>98099</td>\n",
       "      <td>23.99</td>\n",
       "      <td>True</td>\n",
       "      <td>0</td>\n",
       "      <td>Hi-Fi Speakers</td>\n",
       "    </tr>\n",
       "  </tbody>\n",
       "</table>\n",
       "</div>"
      ],
      "text/plain": [
       "   uid        asin                                              title  stars  \\\n",
       "0    1  B09B96TG33  Echo Dot (5th generation, 2022 release) | Big ...    4.7   \n",
       "1    2  B01HTH3C8S  Anker Soundcore mini, Super-Portable Bluetooth...    4.7   \n",
       "\n",
       "   reviews  price  isBestSeller  boughtInLastMonth        category  \n",
       "0    15308  21.99         False                  0  Hi-Fi Speakers  \n",
       "1    98099  23.99          True                  0  Hi-Fi Speakers  "
      ]
     },
     "execution_count": 74,
     "metadata": {},
     "output_type": "execute_result"
    }
   ],
   "source": [
    "df_frequency.head(2)"
   ]
  },
  {
   "cell_type": "code",
   "execution_count": 104,
   "id": "5ce81f05-4e8f-407d-9fcd-248a34320d8e",
   "metadata": {},
   "outputs": [
    {
     "data": {
      "text/html": [
       "<div>\n",
       "<style scoped>\n",
       "    .dataframe tbody tr th:only-of-type {\n",
       "        vertical-align: middle;\n",
       "    }\n",
       "\n",
       "    .dataframe tbody tr th {\n",
       "        vertical-align: top;\n",
       "    }\n",
       "\n",
       "    .dataframe thead th {\n",
       "        text-align: right;\n",
       "    }\n",
       "</style>\n",
       "<table border=\"1\" class=\"dataframe\">\n",
       "  <thead>\n",
       "    <tr style=\"text-align: right;\">\n",
       "      <th></th>\n",
       "      <th>category</th>\n",
       "      <th>title</th>\n",
       "    </tr>\n",
       "  </thead>\n",
       "  <tbody>\n",
       "    <tr>\n",
       "      <th>0</th>\n",
       "      <td>Hi-Fi Speakers</td>\n",
       "      <td>Echo Dot (5th generation, 2022 release) | Big ...</td>\n",
       "    </tr>\n",
       "    <tr>\n",
       "      <th>1</th>\n",
       "      <td>Hi-Fi Speakers</td>\n",
       "      <td>Anker Soundcore mini, Super-Portable Bluetooth...</td>\n",
       "    </tr>\n",
       "    <tr>\n",
       "      <th>2</th>\n",
       "      <td>Hi-Fi Speakers</td>\n",
       "      <td>Echo Dot (5th generation, 2022 release) | Big ...</td>\n",
       "    </tr>\n",
       "    <tr>\n",
       "      <th>3</th>\n",
       "      <td>Hi-Fi Speakers</td>\n",
       "      <td>Echo Dot with clock (5th generation, 2022 rele...</td>\n",
       "    </tr>\n",
       "    <tr>\n",
       "      <th>4</th>\n",
       "      <td>Hi-Fi Speakers</td>\n",
       "      <td>Introducing Echo Pop | Full sound compact Wi-F...</td>\n",
       "    </tr>\n",
       "    <tr>\n",
       "      <th>...</th>\n",
       "      <td>...</td>\n",
       "      <td>...</td>\n",
       "    </tr>\n",
       "    <tr>\n",
       "      <th>2443646</th>\n",
       "      <td>Motorbike Clothing</td>\n",
       "      <td>Motorbike Armour, Motorbike Clothing, Cycling ...</td>\n",
       "    </tr>\n",
       "    <tr>\n",
       "      <th>2443647</th>\n",
       "      <td>Motorbike Clothing</td>\n",
       "      <td>PROFIRST Waterproof Motorcycle 2 Piece Ladies ...</td>\n",
       "    </tr>\n",
       "    <tr>\n",
       "      <th>2443648</th>\n",
       "      <td>Motorbike Clothing</td>\n",
       "      <td>Men’s Motorcycle Motorbike Biker Trousers Kevl...</td>\n",
       "    </tr>\n",
       "    <tr>\n",
       "      <th>2443649</th>\n",
       "      <td>Motorbike Clothing</td>\n",
       "      <td>Texpeed Mens Motorcycle Motorbike Biker Trouse...</td>\n",
       "    </tr>\n",
       "    <tr>\n",
       "      <th>2443650</th>\n",
       "      <td>Motorbike Clothing</td>\n",
       "      <td>RIDEX CJ223 Motorcycle Motorbike Jacket Armour...</td>\n",
       "    </tr>\n",
       "  </tbody>\n",
       "</table>\n",
       "<p>2443651 rows × 2 columns</p>\n",
       "</div>"
      ],
      "text/plain": [
       "                   category                                              title\n",
       "0            Hi-Fi Speakers  Echo Dot (5th generation, 2022 release) | Big ...\n",
       "1            Hi-Fi Speakers  Anker Soundcore mini, Super-Portable Bluetooth...\n",
       "2            Hi-Fi Speakers  Echo Dot (5th generation, 2022 release) | Big ...\n",
       "3            Hi-Fi Speakers  Echo Dot with clock (5th generation, 2022 rele...\n",
       "4            Hi-Fi Speakers  Introducing Echo Pop | Full sound compact Wi-F...\n",
       "...                     ...                                                ...\n",
       "2443646  Motorbike Clothing  Motorbike Armour, Motorbike Clothing, Cycling ...\n",
       "2443647  Motorbike Clothing  PROFIRST Waterproof Motorcycle 2 Piece Ladies ...\n",
       "2443648  Motorbike Clothing  Men’s Motorcycle Motorbike Biker Trousers Kevl...\n",
       "2443649  Motorbike Clothing  Texpeed Mens Motorcycle Motorbike Biker Trouse...\n",
       "2443650  Motorbike Clothing  RIDEX CJ223 Motorcycle Motorbike Jacket Armour...\n",
       "\n",
       "[2443651 rows x 2 columns]"
      ]
     },
     "execution_count": 104,
     "metadata": {},
     "output_type": "execute_result"
    }
   ],
   "source": [
    "df_frequency_tittle_cat = df_frequency[[\"category\", \"title\"]]\n",
    "df_frequency_tittle_cat"
   ]
  },
  {
   "cell_type": "code",
   "execution_count": null,
   "id": "953a9eaf-37b5-4363-b098-396ebc2091b0",
   "metadata": {},
   "outputs": [],
   "source": []
  },
  {
   "cell_type": "code",
   "execution_count": null,
   "id": "759d78a3-56ca-42fa-985b-6d2974bf10e6",
   "metadata": {},
   "outputs": [],
   "source": []
  },
  {
   "cell_type": "code",
   "execution_count": null,
   "id": "fbd00ce0-1b77-403d-9b93-aeb23873e330",
   "metadata": {},
   "outputs": [],
   "source": []
  },
  {
   "cell_type": "code",
   "execution_count": null,
   "id": "74f27c5e-ca4e-43f9-bc48-0786827f3c81",
   "metadata": {},
   "outputs": [],
   "source": []
  },
  {
   "cell_type": "code",
   "execution_count": null,
   "id": "9b28dd43-956a-4a3f-a59b-7376783b9233",
   "metadata": {},
   "outputs": [],
   "source": []
  },
  {
   "cell_type": "code",
   "execution_count": null,
   "id": "81fdd824-02ad-4a17-91ff-8796d8f5796f",
   "metadata": {},
   "outputs": [],
   "source": []
  },
  {
   "cell_type": "code",
   "execution_count": 97,
   "id": "33975f04-e45d-4fb5-a5eb-2c42deaee5c5",
   "metadata": {},
   "outputs": [],
   "source": [
    "#rosstab_result = pd.crosstab(index=df_frequency_tittle_cat[\"title\"], columns=df_frequency_tittle_cat[\"category\"])\n",
    "#rosstab_result.head(2)"
   ]
  },
  {
   "cell_type": "code",
   "execution_count": null,
   "id": "41fed674-54e8-4fd8-9f9f-fbc2605691cc",
   "metadata": {},
   "outputs": [],
   "source": []
  },
  {
   "cell_type": "markdown",
   "id": "e8af0370-10f1-460c-aeee-d84052eb4257",
   "metadata": {},
   "source": [
    "### 2. Visualizations:\n",
    "\n",
    "- Display the distribution of products across different categories using a bar chart. If you face problems understanding the chart, do it for a subset of top categories.\n",
    "- For a subset of top categories, visualize their proportions using a pie chart. Does any category dominate the listings?"
   ]
  },
  {
   "cell_type": "code",
   "execution_count": 115,
   "id": "4a421831-6312-47d1-af4b-27da1cd329a4",
   "metadata": {},
   "outputs": [
    {
     "data": {
      "text/plain": [
       "category\n",
       "Sports & Outdoors                         836265\n",
       "Beauty                                     19312\n",
       "Handmade Clothing, Shoes & Accessories     19229\n",
       "Bath & Body                                19092\n",
       "Birthday Gifts                             18978\n",
       "Name: count, dtype: int64"
      ]
     },
     "execution_count": 115,
     "metadata": {},
     "output_type": "execute_result"
    }
   ],
   "source": [
    "xd = df_frequency_category.value_counts() [:5]\n",
    "xd\n",
    "\n"
   ]
  },
  {
   "cell_type": "code",
   "execution_count": null,
   "id": "988e9706-9d86-4136-980d-0459c1af0f41",
   "metadata": {},
   "outputs": [],
   "source": []
  },
  {
   "cell_type": "code",
   "execution_count": 117,
   "id": "267eb03d-2e7b-4bc9-aefc-c22cd81fc956",
   "metadata": {},
   "outputs": [
    {
     "data": {
      "image/png": "[encoded data removed]",
      "text/plain": [
       "<Figure size 640x480 with 1 Axes>"
      ]
     },
     "metadata": {},
     "output_type": "display_data"
    }
   ],
   "source": [
    "xd.plot(kind=\"bar\")\n",
    "plt.show()"
   ]
  },
  {
   "cell_type": "code",
   "execution_count": null,
   "id": "b2a3a272-44f5-4cea-97cc-0d3028b76a49",
   "metadata": {},
   "outputs": [],
   "source": []
  },
  {
   "cell_type": "code",
   "execution_count": 27,
   "id": "3224a54a-f267-41b0-8a7a-f5feb6d486f4",
   "metadata": {},
   "outputs": [
    {
     "data": {
      "image/png": "[encoded data removed]",
      "text/plain": [
       "<Figure size 640x480 with 1 Axes>"
      ]
     },
     "metadata": {},
     "output_type": "display_data"
    }
   ],
   "source": [
    "xd.plot(kind=\"pie\")\n",
    "plt.show()"
   ]
  },
  {
   "cell_type": "code",
   "execution_count": null,
   "id": "238cf218-839c-45eb-9e83-40068d2984a2",
   "metadata": {},
   "outputs": [],
   "source": []
  },
  {
   "cell_type": "code",
   "execution_count": null,
   "id": "31d9be9f-5ab0-4e14-a8c7-7aac4e5e5d06",
   "metadata": {},
   "outputs": [],
   "source": []
  },
  {
   "cell_type": "code",
   "execution_count": null,
   "id": "d916c4f5-1236-4259-b1e0-2ab78b239174",
   "metadata": {},
   "outputs": [],
   "source": []
  },
  {
   "cell_type": "code",
   "execution_count": null,
   "id": "77a417da-565a-49a3-af58-950e67409e43",
   "metadata": {},
   "outputs": [],
   "source": []
  },
  {
   "cell_type": "code",
   "execution_count": null,
   "id": "c95ceb48-c01a-4eba-a4c1-c7aa68b40b3e",
   "metadata": {},
   "outputs": [],
   "source": []
  },
  {
   "cell_type": "markdown",
   "id": "d4c8dc56-3eb9-46d8-9310-9eaebfcff537",
   "metadata": {},
   "source": [
    " \n",
    "## Part 2: Delving into Product Pricing\n",
    "- Business Question: How are products priced on Amazon UK, and are there specific price points or ranges that are more common?\n",
    "\n",
    " "
   ]
  },
  {
   "cell_type": "code",
   "execution_count": null,
   "id": "8ddcdf34-f93d-4759-8a5e-8939c237f829",
   "metadata": {},
   "outputs": [],
   "source": []
  },
  {
   "cell_type": "code",
   "execution_count": null,
   "id": "dfabf695-70b4-4037-bcfb-6dad8f97e4cf",
   "metadata": {},
   "outputs": [],
   "source": []
  },
  {
   "cell_type": "markdown",
   "id": "5c9e412d-ffec-4d9e-beda-000acbf98fa8",
   "metadata": {},
   "source": [
    "### 1. Measures of Centrality:\n",
    "\n",
    "- Calculate the mean, median, and mode for the price of products.\n",
    "- What's the average price point of products listed? How does this compare with the most common price point (mode)?"
   ]
  },
  {
   "cell_type": "code",
   "execution_count": 1237,
   "id": "2f9cddd3-429a-44f4-b396-0d11dc955ffc",
   "metadata": {},
   "outputs": [],
   "source": [
    "part2 = df.copy()\n"
   ]
  },
  {
   "cell_type": "code",
   "execution_count": 1239,
   "id": "0443be10-8f84-449e-94f1-2f2642095c8e",
   "metadata": {},
   "outputs": [
    {
     "data": {
      "text/html": [
       "<div>\n",
       "<style scoped>\n",
       "    .dataframe tbody tr th:only-of-type {\n",
       "        vertical-align: middle;\n",
       "    }\n",
       "\n",
       "    .dataframe tbody tr th {\n",
       "        vertical-align: top;\n",
       "    }\n",
       "\n",
       "    .dataframe thead th {\n",
       "        text-align: right;\n",
       "    }\n",
       "</style>\n",
       "<table border=\"1\" class=\"dataframe\">\n",
       "  <thead>\n",
       "    <tr style=\"text-align: right;\">\n",
       "      <th></th>\n",
       "      <th>uid</th>\n",
       "      <th>asin</th>\n",
       "      <th>title</th>\n",
       "      <th>stars</th>\n",
       "      <th>reviews</th>\n",
       "      <th>price</th>\n",
       "      <th>isBestSeller</th>\n",
       "      <th>boughtInLastMonth</th>\n",
       "      <th>category</th>\n",
       "    </tr>\n",
       "  </thead>\n",
       "  <tbody>\n",
       "    <tr>\n",
       "      <th>0</th>\n",
       "      <td>1</td>\n",
       "      <td>B09B96TG33</td>\n",
       "      <td>Echo Dot (5th generation, 2022 release) | Big ...</td>\n",
       "      <td>4.7</td>\n",
       "      <td>15308</td>\n",
       "      <td>21.99</td>\n",
       "      <td>False</td>\n",
       "      <td>0</td>\n",
       "      <td>Hi-Fi Speakers</td>\n",
       "    </tr>\n",
       "    <tr>\n",
       "      <th>1</th>\n",
       "      <td>2</td>\n",
       "      <td>B01HTH3C8S</td>\n",
       "      <td>Anker Soundcore mini, Super-Portable Bluetooth...</td>\n",
       "      <td>4.7</td>\n",
       "      <td>98099</td>\n",
       "      <td>23.99</td>\n",
       "      <td>True</td>\n",
       "      <td>0</td>\n",
       "      <td>Hi-Fi Speakers</td>\n",
       "    </tr>\n",
       "  </tbody>\n",
       "</table>\n",
       "</div>"
      ],
      "text/plain": [
       "   uid        asin                                              title  stars  \\\n",
       "0    1  B09B96TG33  Echo Dot (5th generation, 2022 release) | Big ...    4.7   \n",
       "1    2  B01HTH3C8S  Anker Soundcore mini, Super-Portable Bluetooth...    4.7   \n",
       "\n",
       "   reviews  price  isBestSeller  boughtInLastMonth        category  \n",
       "0    15308  21.99         False                  0  Hi-Fi Speakers  \n",
       "1    98099  23.99          True                  0  Hi-Fi Speakers  "
      ]
     },
     "execution_count": 1239,
     "metadata": {},
     "output_type": "execute_result"
    }
   ],
   "source": [
    "part2.head(2)"
   ]
  },
  {
   "cell_type": "code",
   "execution_count": null,
   "id": "67b96079-f6d9-4112-9f25-1689c9451db6",
   "metadata": {},
   "outputs": [],
   "source": []
  },
  {
   "cell_type": "markdown",
   "id": "f32f4e24-e658-47af-8293-65d02d70d912",
   "metadata": {
    "jp-MarkdownHeadingCollapsed": true
   },
   "source": [
    "#### test"
   ]
  },
  {
   "cell_type": "code",
   "execution_count": 812,
   "id": "c20ebab0-a41b-4d4f-a00f-3f37d69a1aca",
   "metadata": {},
   "outputs": [],
   "source": [
    "testpart2 = part2.copy()\n",
    "test = testpart2"
   ]
  },
  {
   "cell_type": "code",
   "execution_count": 814,
   "id": "1772ab21-bea9-4002-9262-d9153f28709e",
   "metadata": {},
   "outputs": [],
   "source": [
    "test = part2[[\"title\", \"price\"]]"
   ]
  },
  {
   "cell_type": "code",
   "execution_count": 1204,
   "id": "db9d5293-1e3d-40a2-b6a0-06b86a1f2c16",
   "metadata": {},
   "outputs": [
    {
     "data": {
      "text/html": [
       "<div>\n",
       "<style scoped>\n",
       "    .dataframe tbody tr th:only-of-type {\n",
       "        vertical-align: middle;\n",
       "    }\n",
       "\n",
       "    .dataframe tbody tr th {\n",
       "        vertical-align: top;\n",
       "    }\n",
       "\n",
       "    .dataframe thead th {\n",
       "        text-align: right;\n",
       "    }\n",
       "</style>\n",
       "<table border=\"1\" class=\"dataframe\">\n",
       "  <thead>\n",
       "    <tr style=\"text-align: right;\">\n",
       "      <th></th>\n",
       "      <th>title</th>\n",
       "      <th>price</th>\n",
       "    </tr>\n",
       "  </thead>\n",
       "  <tbody>\n",
       "    <tr>\n",
       "      <th>0</th>\n",
       "      <td>Echo Dot (5th generation, 2022 release) | Big ...</td>\n",
       "      <td>21.99</td>\n",
       "    </tr>\n",
       "    <tr>\n",
       "      <th>1</th>\n",
       "      <td>Anker Soundcore mini, Super-Portable Bluetooth...</td>\n",
       "      <td>23.99</td>\n",
       "    </tr>\n",
       "  </tbody>\n",
       "</table>\n",
       "</div>"
      ],
      "text/plain": [
       "                                               title  price\n",
       "0  Echo Dot (5th generation, 2022 release) | Big ...  21.99\n",
       "1  Anker Soundcore mini, Super-Portable Bluetooth...  23.99"
      ]
     },
     "execution_count": 1204,
     "metadata": {},
     "output_type": "execute_result"
    }
   ],
   "source": [
    "test.head(2)"
   ]
  },
  {
   "cell_type": "code",
   "execution_count": null,
   "id": "00d68736-6f53-4f9d-b1ee-00ae80b7eb16",
   "metadata": {},
   "outputs": [],
   "source": []
  },
  {
   "cell_type": "code",
   "execution_count": 1206,
   "id": "23b7b002-cc37-4bff-8d1d-64dabca988ae",
   "metadata": {},
   "outputs": [
    {
     "data": {
      "text/html": [
       "<div>\n",
       "<style scoped>\n",
       "    .dataframe tbody tr th:only-of-type {\n",
       "        vertical-align: middle;\n",
       "    }\n",
       "\n",
       "    .dataframe tbody tr th {\n",
       "        vertical-align: top;\n",
       "    }\n",
       "\n",
       "    .dataframe thead th {\n",
       "        text-align: right;\n",
       "    }\n",
       "</style>\n",
       "<table border=\"1\" class=\"dataframe\">\n",
       "  <thead>\n",
       "    <tr style=\"text-align: right;\">\n",
       "      <th></th>\n",
       "      <th>title</th>\n",
       "      <th>count</th>\n",
       "    </tr>\n",
       "  </thead>\n",
       "  <tbody>\n",
       "    <tr>\n",
       "      <th>0</th>\n",
       "      <td>OYhmc Portable Pedal Exerc</td>\n",
       "      <td>723</td>\n",
       "    </tr>\n",
       "    <tr>\n",
       "      <th>1</th>\n",
       "      <td>ScibOr Outdoor Sleeveless Fishing Vest</td>\n",
       "      <td>322</td>\n",
       "    </tr>\n",
       "    <tr>\n",
       "      <th>2</th>\n",
       "      <td>SHOPPRO Kids Golf Shoes Set, White, with Shoes...</td>\n",
       "      <td>224</td>\n",
       "    </tr>\n",
       "    <tr>\n",
       "      <th>3</th>\n",
       "      <td>Mens Breathable Lace-Up Football Shoes Non-Sli...</td>\n",
       "      <td>144</td>\n",
       "    </tr>\n",
       "    <tr>\n",
       "      <th>4</th>\n",
       "      <td>CMP Women's T-shirt</td>\n",
       "      <td>129</td>\n",
       "    </tr>\n",
       "    <tr>\n",
       "      <th>5</th>\n",
       "      <td>Paris PSG Football Kit for Kids,2023/24 PSG Je...</td>\n",
       "      <td>121</td>\n",
       "    </tr>\n",
       "  </tbody>\n",
       "</table>\n",
       "</div>"
      ],
      "text/plain": [
       "                                               title  count\n",
       "0                         OYhmc Portable Pedal Exerc    723\n",
       "1             ScibOr Outdoor Sleeveless Fishing Vest    322\n",
       "2  SHOPPRO Kids Golf Shoes Set, White, with Shoes...    224\n",
       "3  Mens Breathable Lace-Up Football Shoes Non-Sli...    144\n",
       "4                                CMP Women's T-shirt    129\n",
       "5  Paris PSG Football Kit for Kids,2023/24 PSG Je...    121"
      ]
     },
     "execution_count": 1206,
     "metadata": {},
     "output_type": "execute_result"
    }
   ],
   "source": [
    "df_part2 = part2[[\"title\",\"price\"]]\n",
    "test555 = df_part2[\"title\"].value_counts()\n",
    "\n",
    "test555 = test555.head(6)\n",
    " \n",
    "test555 = pd.DataFrame(test555)\n",
    "test555 = test555.reset_index()\n",
    "test555"
   ]
  },
  {
   "cell_type": "code",
   "execution_count": 818,
   "id": "a448d5b1-f8ad-422e-92ee-0d414eade2ed",
   "metadata": {},
   "outputs": [
    {
     "data": {
      "text/plain": [
       "title\n",
       "OYhmc Portable Pedal Exerc                                                                                                                                                                        723\n",
       "ScibOr Outdoor Sleeveless Fishing Vest                                                                                                                                                            322\n",
       "SHOPPRO Kids Golf Shoes Set, White, with Shoes Bag, UV Sun Protection Arm Sleeves, Golf Pro Cap and Instant Cooling Towel, Outdoor Sneakers, Girls Sport Training, POSMA GSH007WHT39_B (White)    224\n",
       "Mens Breathable Lace-Up Football Shoes Non-Slip Outdoor Boys Junior Soccer Shoes Training Professional Boots Soccer Sneakers Athletics Training Shoes for Teenager                                144\n",
       "CMP Women's T-shirt                                                                                                                                                                               129\n",
       "                                                                                                                                                                                                 ... \n",
       "Barbie FDB33 Club Chelsea Ice Cream Cart Doll & Playset                                                                                                                                             1\n",
       "Disney Princess Royal Shimmer Rapunzel Doll                                                                                                                                                         1\n",
       "Disney Princess Royal Shimmer Jasmine Doll                                                                                                                                                          1\n",
       "Small Foot 10873 Wooden Furniture Dollhouse, incl. Fridge, Kitchen Unit, Table and Chairs, Suitable for Bending, Ideal Doll Accessories for Children from 3 Years and up                            1\n",
       "RIDEX CJ223 Motorcycle Motorbike Jacket Armoured Waterproof for Mens                                                                                                                                1\n",
       "Name: count, Length: 2077591, dtype: int64"
      ]
     },
     "execution_count": 818,
     "metadata": {},
     "output_type": "execute_result"
    }
   ],
   "source": [
    "test[\"title\"].value_counts()"
   ]
  },
  {
   "cell_type": "code",
   "execution_count": 819,
   "id": "f7fd5a9d-1682-4564-ae5c-4899403b0fba",
   "metadata": {},
   "outputs": [],
   "source": [
    "test2 = test[test[\"title\"] == \"OYhmc Portable Pedal Exerc\"]"
   ]
  },
  {
   "cell_type": "code",
   "execution_count": 820,
   "id": "afc97b0b-0276-4ea8-8e9c-c4307dd62202",
   "metadata": {},
   "outputs": [
    {
     "data": {
      "text/plain": [
       "title\n",
       "OYhmc Portable Pedal Exerc    723\n",
       "Name: count, dtype: int64"
      ]
     },
     "execution_count": 820,
     "metadata": {},
     "output_type": "execute_result"
    }
   ],
   "source": [
    "test2[\"title\"].value_counts()"
   ]
  },
  {
   "cell_type": "code",
   "execution_count": 821,
   "id": "1a273c99-63bf-4971-a3c7-77dbd2a1dea9",
   "metadata": {},
   "outputs": [
    {
     "data": {
      "text/plain": [
       "price\n",
       "117.99    10\n",
       "199.99     7\n",
       "598.99     7\n",
       "289.99     7\n",
       "159.99     7\n",
       "          ..\n",
       "577.99     1\n",
       "468.99     1\n",
       "490.99     1\n",
       "247.99     1\n",
       "140.99     1\n",
       "Name: count, Length: 358, dtype: int64"
      ]
     },
     "execution_count": 821,
     "metadata": {},
     "output_type": "execute_result"
    }
   ],
   "source": [
    "test2[\"price\"].value_counts() "
   ]
  },
  {
   "cell_type": "code",
   "execution_count": null,
   "id": "dad7f914-51eb-4ccb-9829-150e7877078a",
   "metadata": {},
   "outputs": [],
   "source": []
  },
  {
   "cell_type": "code",
   "execution_count": null,
   "id": "e0ff4942-d6fd-411d-af65-70be2af1803d",
   "metadata": {},
   "outputs": [],
   "source": []
  },
  {
   "cell_type": "code",
   "execution_count": 859,
   "id": "8ebfc018-0ff3-4b25-a7ba-fef144538449",
   "metadata": {},
   "outputs": [],
   "source": [
    "import pandas as pd\n",
    "\n",
    "def calculate_price_mean(df_part2, df_names):\n",
    "    price_means = {}\n",
    "    \n",
    "    names_list = df_names[\"title\"].tolist()\n",
    "    \n",
    "    for i in names_list:\n",
    "        mean_test = df_part2[df_part2[\"title\"] == name][[\"title\", \"price\"]]\n",
    "        if not mean_test.empty:\n",
    "            mean = mean_test[\"price\"].mode()\n",
    "            price_means[name] = mean\n",
    "    return price_means\n"
   ]
  },
  {
   "cell_type": "code",
   "execution_count": 861,
   "id": "890c8727-af51-4dc3-b7bd-ed2797c6f6c1",
   "metadata": {},
   "outputs": [],
   "source": [
    "ttt = calcular_media_precio(part2, test888)"
   ]
  },
  {
   "cell_type": "code",
   "execution_count": 863,
   "id": "27728c6b-2c73-4f9b-b2c6-31522d2dbcec",
   "metadata": {},
   "outputs": [],
   "source": [
    "ttt = pd.DataFrame(ttt)"
   ]
  },
  {
   "cell_type": "code",
   "execution_count": 865,
   "id": "2a99b92d-c974-4b05-a439-3354b140f9e3",
   "metadata": {},
   "outputs": [
    {
     "data": {
      "text/html": [
       "<div>\n",
       "<style scoped>\n",
       "    .dataframe tbody tr th:only-of-type {\n",
       "        vertical-align: middle;\n",
       "    }\n",
       "\n",
       "    .dataframe tbody tr th {\n",
       "        vertical-align: top;\n",
       "    }\n",
       "\n",
       "    .dataframe thead th {\n",
       "        text-align: right;\n",
       "    }\n",
       "</style>\n",
       "<table border=\"1\" class=\"dataframe\">\n",
       "  <thead>\n",
       "    <tr style=\"text-align: right;\">\n",
       "      <th></th>\n",
       "      <th>Echo Dot (5th generation, 2022 release) | Big vibrant sound Wi-Fi and Bluetooth smart speaker with Alexa | Charcoal</th>\n",
       "      <th>Anker Soundcore mini, Super-Portable Bluetooth Speaker with 15-Hour Playtime, 66-Foot Bluetooth Range, Wireless Speaker with Enhanced Bass, Noise-Cancelling Microphone, for Outdoor, Travel, Home</th>\n",
       "    </tr>\n",
       "  </thead>\n",
       "  <tbody>\n",
       "    <tr>\n",
       "      <th>0</th>\n",
       "      <td>21.99</td>\n",
       "      <td>23.99</td>\n",
       "    </tr>\n",
       "  </tbody>\n",
       "</table>\n",
       "</div>"
      ],
      "text/plain": [
       "   Echo Dot (5th generation, 2022 release) | Big vibrant sound Wi-Fi and Bluetooth smart speaker with Alexa | Charcoal  \\\n",
       "0                                              21.99                                                                     \n",
       "\n",
       "   Anker Soundcore mini, Super-Portable Bluetooth Speaker with 15-Hour Playtime, 66-Foot Bluetooth Range, Wireless Speaker with Enhanced Bass, Noise-Cancelling Microphone, for Outdoor, Travel, Home  \n",
       "0                                              23.99                                                                                                                                                   "
      ]
     },
     "execution_count": 865,
     "metadata": {},
     "output_type": "execute_result"
    }
   ],
   "source": [
    "ttt"
   ]
  },
  {
   "cell_type": "code",
   "execution_count": null,
   "id": "7c8807e7-b119-4e14-8783-659e0d36d789",
   "metadata": {},
   "outputs": [],
   "source": []
  },
  {
   "cell_type": "code",
   "execution_count": null,
   "id": "224ec5fa-e473-48dc-9dd3-477a1309677f",
   "metadata": {},
   "outputs": [],
   "source": [
    "def calculate_mean_median_mode_test(df, list_name):\n",
    "    calculate_df = {}\n",
    "    list_name = list_name[\"title\"].tolist()\n",
    "    for i in list_name:\n",
    "        data = df[df[\"title\"] == i][\"price\"]\n",
    "        data_mean = data.mean()\n",
    "        calculate_df[i] = {\"mean\": data_mean}\n",
    "    return calculate_df\n",
    "    "
   ]
  },
  {
   "cell_type": "code",
   "execution_count": null,
   "id": "a155de8b-b8d2-41a7-b293-9c2abdb787ac",
   "metadata": {},
   "outputs": [],
   "source": [
    "rrrr = calculate_mean_median_mode_test(df, test555)"
   ]
  },
  {
   "cell_type": "code",
   "execution_count": 1195,
   "id": "90d994a5-9d80-4ed1-9ea9-7f0bc86fd96e",
   "metadata": {},
   "outputs": [
    {
     "data": {
      "text/html": [
       "<div>\n",
       "<style scoped>\n",
       "    .dataframe tbody tr th:only-of-type {\n",
       "        vertical-align: middle;\n",
       "    }\n",
       "\n",
       "    .dataframe tbody tr th {\n",
       "        vertical-align: top;\n",
       "    }\n",
       "\n",
       "    .dataframe thead th {\n",
       "        text-align: right;\n",
       "    }\n",
       "</style>\n",
       "<table border=\"1\" class=\"dataframe\">\n",
       "  <thead>\n",
       "    <tr style=\"text-align: right;\">\n",
       "      <th></th>\n",
       "      <th>OYhmc Portable Pedal Exerc</th>\n",
       "      <th>ScibOr Outdoor Sleeveless Fishing Vest</th>\n",
       "      <th>SHOPPRO Kids Golf Shoes Set, White, with Shoes Bag, UV Sun Protection Arm Sleeves, Golf Pro Cap and Instant Cooling Towel, Outdoor Sneakers, Girls Sport Training, POSMA GSH007WHT39_B (White)</th>\n",
       "      <th>Mens Breathable Lace-Up Football Shoes Non-Slip Outdoor Boys Junior Soccer Shoes Training Professional Boots Soccer Sneakers Athletics Training Shoes for Teenager</th>\n",
       "      <th>CMP Women's T-shirt</th>\n",
       "      <th>Paris PSG Football Kit for Kids,2023/24 PSG Jerseys Football Kits Home/Away,No.7/10/30 Football Training Set T-shirts Shorts and Socks,2023 Outdoor Sportswear Soccer Tracksuit for boy Adult</th>\n",
       "    </tr>\n",
       "  </thead>\n",
       "  <tbody>\n",
       "    <tr>\n",
       "      <th>mean</th>\n",
       "      <td>332.34408</td>\n",
       "      <td>30.472764</td>\n",
       "      <td>77.625</td>\n",
       "      <td>34.3125</td>\n",
       "      <td>28.098992</td>\n",
       "      <td>9.006529</td>\n",
       "    </tr>\n",
       "  </tbody>\n",
       "</table>\n",
       "</div>"
      ],
      "text/plain": [
       "      OYhmc Portable Pedal Exerc  ScibOr Outdoor Sleeveless Fishing Vest  \\\n",
       "mean                   332.34408                               30.472764   \n",
       "\n",
       "      SHOPPRO Kids Golf Shoes Set, White, with Shoes Bag, UV Sun Protection Arm Sleeves, Golf Pro Cap and Instant Cooling Towel, Outdoor Sneakers, Girls Sport Training, POSMA GSH007WHT39_B (White)  \\\n",
       "mean                                             77.625                                                                                                                                                \n",
       "\n",
       "      Mens Breathable Lace-Up Football Shoes Non-Slip Outdoor Boys Junior Soccer Shoes Training Professional Boots Soccer Sneakers Athletics Training Shoes for Teenager  \\\n",
       "mean                                            34.3125                                                                                                                    \n",
       "\n",
       "      CMP Women's T-shirt  \\\n",
       "mean            28.098992   \n",
       "\n",
       "      Paris PSG Football Kit for Kids,2023/24 PSG Jerseys Football Kits Home/Away,No.7/10/30 Football Training Set T-shirts Shorts and Socks,2023 Outdoor Sportswear Soccer Tracksuit for boy Adult  \n",
       "mean                                           9.006529                                                                                                                                              "
      ]
     },
     "execution_count": 1195,
     "metadata": {},
     "output_type": "execute_result"
    }
   ],
   "source": [
    "rrrr = pd.DataFrame(rrrr)\n",
    "rrrr"
   ]
  },
  {
   "cell_type": "code",
   "execution_count": null,
   "id": "0c5f06fa-2e16-4ae8-9de5-1297e626fc5c",
   "metadata": {},
   "outputs": [],
   "source": []
  },
  {
   "cell_type": "code",
   "execution_count": null,
   "id": "a28365bf-84b1-4cee-8f8a-4756aa03a35d",
   "metadata": {},
   "outputs": [],
   "source": []
  },
  {
   "cell_type": "code",
   "execution_count": null,
   "id": "f582cb13-9632-449c-8874-0167186f9c81",
   "metadata": {},
   "outputs": [],
   "source": []
  },
  {
   "cell_type": "markdown",
   "id": "1d501435-1a9c-47af-a6f9-43ddf8baf651",
   "metadata": {},
   "source": [
    "#### good"
   ]
  },
  {
   "cell_type": "code",
   "execution_count": null,
   "id": "22a8eb51-0f95-4300-a84c-3c72ea545d40",
   "metadata": {},
   "outputs": [],
   "source": []
  },
  {
   "cell_type": "code",
   "execution_count": 1273,
   "id": "2e421bcb-1afe-4164-ad31-ac2b895b7c18",
   "metadata": {},
   "outputs": [
    {
     "data": {
      "text/html": [
       "<div>\n",
       "<style scoped>\n",
       "    .dataframe tbody tr th:only-of-type {\n",
       "        vertical-align: middle;\n",
       "    }\n",
       "\n",
       "    .dataframe tbody tr th {\n",
       "        vertical-align: top;\n",
       "    }\n",
       "\n",
       "    .dataframe thead th {\n",
       "        text-align: right;\n",
       "    }\n",
       "</style>\n",
       "<table border=\"1\" class=\"dataframe\">\n",
       "  <thead>\n",
       "    <tr style=\"text-align: right;\">\n",
       "      <th></th>\n",
       "      <th>title</th>\n",
       "      <th>count</th>\n",
       "    </tr>\n",
       "  </thead>\n",
       "  <tbody>\n",
       "    <tr>\n",
       "      <th>0</th>\n",
       "      <td>OYhmc Portable Pedal Exerc</td>\n",
       "      <td>723</td>\n",
       "    </tr>\n",
       "    <tr>\n",
       "      <th>1</th>\n",
       "      <td>ScibOr Outdoor Sleeveless Fishing Vest</td>\n",
       "      <td>322</td>\n",
       "    </tr>\n",
       "    <tr>\n",
       "      <th>2</th>\n",
       "      <td>SHOPPRO Kids Golf Shoes Set, White, with Shoes...</td>\n",
       "      <td>224</td>\n",
       "    </tr>\n",
       "    <tr>\n",
       "      <th>3</th>\n",
       "      <td>Mens Breathable Lace-Up Football Shoes Non-Sli...</td>\n",
       "      <td>144</td>\n",
       "    </tr>\n",
       "    <tr>\n",
       "      <th>4</th>\n",
       "      <td>CMP Women's T-shirt</td>\n",
       "      <td>129</td>\n",
       "    </tr>\n",
       "    <tr>\n",
       "      <th>5</th>\n",
       "      <td>Paris PSG Football Kit for Kids,2023/24 PSG Je...</td>\n",
       "      <td>121</td>\n",
       "    </tr>\n",
       "  </tbody>\n",
       "</table>\n",
       "</div>"
      ],
      "text/plain": [
       "                                               title  count\n",
       "0                         OYhmc Portable Pedal Exerc    723\n",
       "1             ScibOr Outdoor Sleeveless Fishing Vest    322\n",
       "2  SHOPPRO Kids Golf Shoes Set, White, with Shoes...    224\n",
       "3  Mens Breathable Lace-Up Football Shoes Non-Sli...    144\n",
       "4                                CMP Women's T-shirt    129\n",
       "5  Paris PSG Football Kit for Kids,2023/24 PSG Je...    121"
      ]
     },
     "execution_count": 1273,
     "metadata": {},
     "output_type": "execute_result"
    }
   ],
   "source": [
    "#list products intitle\n",
    "\n",
    "\n",
    "title_list_part2 = df.copy()\n",
    "\n",
    "title_list_part2 = title_list_part2[[\"title\",\"price\"]]\n",
    "title_list_part2 = title_list_part2[\"title\"].value_counts()\n",
    "\n",
    "title_list_part2 =  title_list_part2.reset_index()\n",
    "title_list_part2 = title_list_part2.head(6)\n",
    "\n",
    "#test\n",
    "title_list_part2"
   ]
  },
  {
   "cell_type": "code",
   "execution_count": null,
   "id": "7584c039-3050-4311-a19a-b432d6652874",
   "metadata": {},
   "outputs": [],
   "source": []
  },
  {
   "cell_type": "code",
   "execution_count": 1275,
   "id": "94bff5e3-2e2f-4cd3-af12-f9c714ce1d62",
   "metadata": {},
   "outputs": [],
   "source": [
    "#function to calculate the mean median mode different products\n",
    "\n",
    "def calculate_price_mean_median_mode(df, df_title_list):\n",
    "    price_mean_median_mode = {}\n",
    "    df_title_list = df_title_list[\"title\"].tolist()\n",
    "    \n",
    "    for i in df_title_list:  \n",
    "        filtered_prices = df[df[\"title\"] == i][\"price\"]\n",
    "        mean_price = filtered_prices.mean()\n",
    "        median_price = filtered_prices.median()\n",
    "        mode_price = filtered_prices.mode().tolist()  \n",
    "        price_mean_median_mode[i] = {\"mean\": mean_price, \"median\": median_price, \"mode\": mode_price}\n",
    "    return price_mean_median_mode  "
   ]
  },
  {
   "cell_type": "code",
   "execution_count": 1277,
   "id": "668a4933-b38b-444b-93ff-9cd11755361c",
   "metadata": {},
   "outputs": [],
   "source": [
    "products_title_calculate = calculate_price_mean_median_mode(df, title_list_part2)"
   ]
  },
  {
   "cell_type": "code",
   "execution_count": 1278,
   "id": "6dd3ec94-dad8-4059-91d1-02c75559226f",
   "metadata": {},
   "outputs": [
    {
     "data": {
      "text/html": [
       "<div>\n",
       "<style scoped>\n",
       "    .dataframe tbody tr th:only-of-type {\n",
       "        vertical-align: middle;\n",
       "    }\n",
       "\n",
       "    .dataframe tbody tr th {\n",
       "        vertical-align: top;\n",
       "    }\n",
       "\n",
       "    .dataframe thead th {\n",
       "        text-align: right;\n",
       "    }\n",
       "</style>\n",
       "<table border=\"1\" class=\"dataframe\">\n",
       "  <thead>\n",
       "    <tr style=\"text-align: right;\">\n",
       "      <th></th>\n",
       "      <th>OYhmc Portable Pedal Exerc</th>\n",
       "      <th>ScibOr Outdoor Sleeveless Fishing Vest</th>\n",
       "      <th>SHOPPRO Kids Golf Shoes Set, White, with Shoes Bag, UV Sun Protection Arm Sleeves, Golf Pro Cap and Instant Cooling Towel, Outdoor Sneakers, Girls Sport Training, POSMA GSH007WHT39_B (White)</th>\n",
       "      <th>Mens Breathable Lace-Up Football Shoes Non-Slip Outdoor Boys Junior Soccer Shoes Training Professional Boots Soccer Sneakers Athletics Training Shoes for Teenager</th>\n",
       "      <th>CMP Women's T-shirt</th>\n",
       "      <th>Paris PSG Football Kit for Kids,2023/24 PSG Jerseys Football Kits Home/Away,No.7/10/30 Football Training Set T-shirts Shorts and Socks,2023 Outdoor Sportswear Soccer Tracksuit for boy Adult</th>\n",
       "    </tr>\n",
       "  </thead>\n",
       "  <tbody>\n",
       "    <tr>\n",
       "      <th>mean</th>\n",
       "      <td>332.34408</td>\n",
       "      <td>30.472764</td>\n",
       "      <td>77.625</td>\n",
       "      <td>34.3125</td>\n",
       "      <td>28.098992</td>\n",
       "      <td>9.006529</td>\n",
       "    </tr>\n",
       "    <tr>\n",
       "      <th>median</th>\n",
       "      <td>309.99</td>\n",
       "      <td>30.35</td>\n",
       "      <td>78.0</td>\n",
       "      <td>34.66</td>\n",
       "      <td>27.99</td>\n",
       "      <td>8.99</td>\n",
       "    </tr>\n",
       "    <tr>\n",
       "      <th>mode</th>\n",
       "      <td>[117.99]</td>\n",
       "      <td>[35.01]</td>\n",
       "      <td>[78.0]</td>\n",
       "      <td>[34.66]</td>\n",
       "      <td>[27.99]</td>\n",
       "      <td>[8.99]</td>\n",
       "    </tr>\n",
       "  </tbody>\n",
       "</table>\n",
       "</div>"
      ],
      "text/plain": [
       "       OYhmc Portable Pedal Exerc ScibOr Outdoor Sleeveless Fishing Vest  \\\n",
       "mean                    332.34408                              30.472764   \n",
       "median                     309.99                                  30.35   \n",
       "mode                     [117.99]                                [35.01]   \n",
       "\n",
       "       SHOPPRO Kids Golf Shoes Set, White, with Shoes Bag, UV Sun Protection Arm Sleeves, Golf Pro Cap and Instant Cooling Towel, Outdoor Sneakers, Girls Sport Training, POSMA GSH007WHT39_B (White)  \\\n",
       "mean                                               77.625                                                                                                                                               \n",
       "median                                               78.0                                                                                                                                               \n",
       "mode                                               [78.0]                                                                                                                                               \n",
       "\n",
       "       Mens Breathable Lace-Up Football Shoes Non-Slip Outdoor Boys Junior Soccer Shoes Training Professional Boots Soccer Sneakers Athletics Training Shoes for Teenager  \\\n",
       "mean                                              34.3125                                                                                                                   \n",
       "median                                              34.66                                                                                                                   \n",
       "mode                                              [34.66]                                                                                                                   \n",
       "\n",
       "       CMP Women's T-shirt  \\\n",
       "mean             28.098992   \n",
       "median               27.99   \n",
       "mode               [27.99]   \n",
       "\n",
       "       Paris PSG Football Kit for Kids,2023/24 PSG Jerseys Football Kits Home/Away,No.7/10/30 Football Training Set T-shirts Shorts and Socks,2023 Outdoor Sportswear Soccer Tracksuit for boy Adult  \n",
       "mean                                             9.006529                                                                                                                                             \n",
       "median                                               8.99                                                                                                                                             \n",
       "mode                                               [8.99]                                                                                                                                             "
      ]
     },
     "execution_count": 1278,
     "metadata": {},
     "output_type": "execute_result"
    }
   ],
   "source": [
    "products_title_calculate = pd.DataFrame(products_title_calculate)\n",
    "products_title_calculate"
   ]
  },
  {
   "cell_type": "code",
   "execution_count": null,
   "id": "e418ff78-3bc5-46bd-9bf0-457993bea646",
   "metadata": {},
   "outputs": [],
   "source": [
    "products_title_calculate.index"
   ]
  },
  {
   "cell_type": "code",
   "execution_count": null,
   "id": "0d5912c2-f106-4278-afb6-9a8b45b33111",
   "metadata": {},
   "outputs": [],
   "source": [
    " "
   ]
  },
  {
   "cell_type": "markdown",
   "id": "1d488c79-60bb-4430-95b5-24be6afe3228",
   "metadata": {},
   "source": [
    "- Calculate the mean, median, and mode for the price of products.\n",
    "- What's the average price point of products listed? How does this compare with the most common price point (mode)?\n",
    "- answer: There are products deviate from the others, resulting in higher average price \"OYhmc Portable Pedal Exerc\""
   ]
  },
  {
   "cell_type": "code",
   "execution_count": null,
   "id": "6b2749e7-bdd3-49d8-b901-0f8bdce1b407",
   "metadata": {},
   "outputs": [],
   "source": []
  },
  {
   "cell_type": "code",
   "execution_count": null,
   "id": "8c31dc41-c97e-4feb-a947-62be56cc304a",
   "metadata": {},
   "outputs": [],
   "source": []
  },
  {
   "cell_type": "code",
   "execution_count": null,
   "id": "7b6ef805-97a6-4660-931e-a772c00acff1",
   "metadata": {},
   "outputs": [],
   "source": []
  },
  {
   "cell_type": "code",
   "execution_count": null,
   "id": "4c7dddb5-5b6e-4051-ad7f-d4b10047c006",
   "metadata": {},
   "outputs": [],
   "source": []
  },
  {
   "cell_type": "markdown",
   "id": "c2425337-6226-4d8e-871e-8bc40c7e719b",
   "metadata": {},
   "source": [
    "### 2. Measures of Dispersion:\n",
    "\n",
    "- Determine the variance, standard deviation, range, and interquartile range for product price.\n",
    "- How varied are the product prices? Are there any indicators of a significant spread in prices?"
   ]
  },
  {
   "cell_type": "code",
   "execution_count": null,
   "id": "5f264dfd-7de7-445a-9c2d-3ec45304de1e",
   "metadata": {},
   "outputs": [],
   "source": []
  },
  {
   "cell_type": "code",
   "execution_count": 2874,
   "id": "df9d616f-5d70-4d7d-8018-d4c9ca998ec3",
   "metadata": {},
   "outputs": [
    {
     "data": {
      "text/html": [
       "<div>\n",
       "<style scoped>\n",
       "    .dataframe tbody tr th:only-of-type {\n",
       "        vertical-align: middle;\n",
       "    }\n",
       "\n",
       "    .dataframe tbody tr th {\n",
       "        vertical-align: top;\n",
       "    }\n",
       "\n",
       "    .dataframe thead th {\n",
       "        text-align: right;\n",
       "    }\n",
       "</style>\n",
       "<table border=\"1\" class=\"dataframe\">\n",
       "  <thead>\n",
       "    <tr style=\"text-align: right;\">\n",
       "      <th></th>\n",
       "      <th>uid</th>\n",
       "      <th>asin</th>\n",
       "      <th>title</th>\n",
       "      <th>stars</th>\n",
       "      <th>reviews</th>\n",
       "      <th>price</th>\n",
       "      <th>isBestSeller</th>\n",
       "      <th>boughtInLastMonth</th>\n",
       "      <th>category</th>\n",
       "    </tr>\n",
       "  </thead>\n",
       "  <tbody>\n",
       "    <tr>\n",
       "      <th>0</th>\n",
       "      <td>1</td>\n",
       "      <td>B09B96TG33</td>\n",
       "      <td>Echo Dot (5th generation, 2022 release) | Big ...</td>\n",
       "      <td>4.7</td>\n",
       "      <td>15308</td>\n",
       "      <td>21.99</td>\n",
       "      <td>False</td>\n",
       "      <td>0</td>\n",
       "      <td>Hi-Fi Speakers</td>\n",
       "    </tr>\n",
       "    <tr>\n",
       "      <th>1</th>\n",
       "      <td>2</td>\n",
       "      <td>B01HTH3C8S</td>\n",
       "      <td>Anker Soundcore mini, Super-Portable Bluetooth...</td>\n",
       "      <td>4.7</td>\n",
       "      <td>98099</td>\n",
       "      <td>23.99</td>\n",
       "      <td>True</td>\n",
       "      <td>0</td>\n",
       "      <td>Hi-Fi Speakers</td>\n",
       "    </tr>\n",
       "  </tbody>\n",
       "</table>\n",
       "</div>"
      ],
      "text/plain": [
       "   uid        asin                                              title  stars  \\\n",
       "0    1  B09B96TG33  Echo Dot (5th generation, 2022 release) | Big ...    4.7   \n",
       "1    2  B01HTH3C8S  Anker Soundcore mini, Super-Portable Bluetooth...    4.7   \n",
       "\n",
       "   reviews  price  isBestSeller  boughtInLastMonth        category  \n",
       "0    15308  21.99         False                  0  Hi-Fi Speakers  \n",
       "1    98099  23.99          True                  0  Hi-Fi Speakers  "
      ]
     },
     "execution_count": 2874,
     "metadata": {},
     "output_type": "execute_result"
    }
   ],
   "source": [
    "measures_of_dispersion = df.copy()\n",
    "measures_of_dispersion.head(2)"
   ]
  },
  {
   "cell_type": "code",
   "execution_count": 3089,
   "id": "97a73cf3-ad62-4a60-9fc4-3d6f9c69cab4",
   "metadata": {},
   "outputs": [
    {
     "data": {
      "text/html": [
       "<div>\n",
       "<style scoped>\n",
       "    .dataframe tbody tr th:only-of-type {\n",
       "        vertical-align: middle;\n",
       "    }\n",
       "\n",
       "    .dataframe tbody tr th {\n",
       "        vertical-align: top;\n",
       "    }\n",
       "\n",
       "    .dataframe thead th {\n",
       "        text-align: right;\n",
       "    }\n",
       "</style>\n",
       "<table border=\"1\" class=\"dataframe\">\n",
       "  <thead>\n",
       "    <tr style=\"text-align: right;\">\n",
       "      <th></th>\n",
       "      <th>title</th>\n",
       "      <th>category</th>\n",
       "      <th>price</th>\n",
       "    </tr>\n",
       "  </thead>\n",
       "  <tbody>\n",
       "    <tr>\n",
       "      <th>0</th>\n",
       "      <td>Echo Dot (5th generation, 2022 release) | Big ...</td>\n",
       "      <td>Hi-Fi Speakers</td>\n",
       "      <td>21.99</td>\n",
       "    </tr>\n",
       "    <tr>\n",
       "      <th>1</th>\n",
       "      <td>Anker Soundcore mini, Super-Portable Bluetooth...</td>\n",
       "      <td>Hi-Fi Speakers</td>\n",
       "      <td>23.99</td>\n",
       "    </tr>\n",
       "  </tbody>\n",
       "</table>\n",
       "</div>"
      ],
      "text/plain": [
       "                                               title        category  price\n",
       "0  Echo Dot (5th generation, 2022 release) | Big ...  Hi-Fi Speakers  21.99\n",
       "1  Anker Soundcore mini, Super-Portable Bluetooth...  Hi-Fi Speakers  23.99"
      ]
     },
     "execution_count": 3089,
     "metadata": {},
     "output_type": "execute_result"
    }
   ],
   "source": [
    "#list products intitle\n",
    "test_measures_of_dispersion = df.copy()\n",
    "test_measures_of_dispersion = test_measures_of_dispersion[[\"title\",\"category\", \"price\"]]\n",
    "#test_measures_of_dispersion =  test_measures_of_dispersion.reset_index()\n",
    "#test_measures_of_dispersion = test_measures_of_dispersion.head(10)\n",
    "#test\n",
    "test_measures_of_dispersion.head(2)"
   ]
  },
  {
   "cell_type": "code",
   "execution_count": null,
   "id": "a7afb24d-3ba3-44ad-a884-1d5414c67e98",
   "metadata": {},
   "outputs": [],
   "source": []
  },
  {
   "cell_type": "markdown",
   "id": "3d4b6567-4358-41a3-acfc-0196d8a3ad1d",
   "metadata": {
    "jp-MarkdownHeadingCollapsed": true
   },
   "source": [
    "#### test "
   ]
  },
  {
   "cell_type": "code",
   "execution_count": 1654,
   "id": "44e3b76e-b92a-4a80-9889-51d2a48608ff",
   "metadata": {},
   "outputs": [
    {
     "data": {
      "text/html": [
       "<div>\n",
       "<style scoped>\n",
       "    .dataframe tbody tr th:only-of-type {\n",
       "        vertical-align: middle;\n",
       "    }\n",
       "\n",
       "    .dataframe tbody tr th {\n",
       "        vertical-align: top;\n",
       "    }\n",
       "\n",
       "    .dataframe thead th {\n",
       "        text-align: right;\n",
       "    }\n",
       "</style>\n",
       "<table border=\"1\" class=\"dataframe\">\n",
       "  <thead>\n",
       "    <tr style=\"text-align: right;\">\n",
       "      <th></th>\n",
       "      <th>uid</th>\n",
       "      <th>asin</th>\n",
       "      <th>title</th>\n",
       "      <th>stars</th>\n",
       "      <th>reviews</th>\n",
       "      <th>price</th>\n",
       "      <th>isBestSeller</th>\n",
       "      <th>boughtInLastMonth</th>\n",
       "      <th>category</th>\n",
       "    </tr>\n",
       "  </thead>\n",
       "  <tbody>\n",
       "    <tr>\n",
       "      <th>0</th>\n",
       "      <td>1</td>\n",
       "      <td>B09B96TG33</td>\n",
       "      <td>Echo Dot (5th generation, 2022 release) | Big ...</td>\n",
       "      <td>4.7</td>\n",
       "      <td>15308</td>\n",
       "      <td>21.99</td>\n",
       "      <td>False</td>\n",
       "      <td>0</td>\n",
       "      <td>Hi-Fi Speakers</td>\n",
       "    </tr>\n",
       "    <tr>\n",
       "      <th>1</th>\n",
       "      <td>2</td>\n",
       "      <td>B01HTH3C8S</td>\n",
       "      <td>Anker Soundcore mini, Super-Portable Bluetooth...</td>\n",
       "      <td>4.7</td>\n",
       "      <td>98099</td>\n",
       "      <td>23.99</td>\n",
       "      <td>True</td>\n",
       "      <td>0</td>\n",
       "      <td>Hi-Fi Speakers</td>\n",
       "    </tr>\n",
       "    <tr>\n",
       "      <th>2</th>\n",
       "      <td>3</td>\n",
       "      <td>B09B8YWXDF</td>\n",
       "      <td>Echo Dot (5th generation, 2022 release) | Big ...</td>\n",
       "      <td>4.7</td>\n",
       "      <td>15308</td>\n",
       "      <td>21.99</td>\n",
       "      <td>False</td>\n",
       "      <td>0</td>\n",
       "      <td>Hi-Fi Speakers</td>\n",
       "    </tr>\n",
       "  </tbody>\n",
       "</table>\n",
       "</div>"
      ],
      "text/plain": [
       "   uid        asin                                              title  stars  \\\n",
       "0    1  B09B96TG33  Echo Dot (5th generation, 2022 release) | Big ...    4.7   \n",
       "1    2  B01HTH3C8S  Anker Soundcore mini, Super-Portable Bluetooth...    4.7   \n",
       "2    3  B09B8YWXDF  Echo Dot (5th generation, 2022 release) | Big ...    4.7   \n",
       "\n",
       "   reviews  price  isBestSeller  boughtInLastMonth        category  \n",
       "0    15308  21.99         False                  0  Hi-Fi Speakers  \n",
       "1    98099  23.99          True                  0  Hi-Fi Speakers  \n",
       "2    15308  21.99         False                  0  Hi-Fi Speakers  "
      ]
     },
     "execution_count": 1654,
     "metadata": {},
     "output_type": "execute_result"
    }
   ],
   "source": [
    "measures_of_dispersion.head(3)"
   ]
  },
  {
   "cell_type": "code",
   "execution_count": 1655,
   "id": "0fe92639-3e06-4318-97cb-181a819ea78f",
   "metadata": {},
   "outputs": [],
   "source": [
    "measures_of_dispersion = measures_of_dispersion[[\"title\", \"category\"]]"
   ]
  },
  {
   "cell_type": "code",
   "execution_count": 1656,
   "id": "28999d2f-7090-4543-98b1-40f834672681",
   "metadata": {},
   "outputs": [
    {
     "data": {
      "text/html": [
       "<div>\n",
       "<style scoped>\n",
       "    .dataframe tbody tr th:only-of-type {\n",
       "        vertical-align: middle;\n",
       "    }\n",
       "\n",
       "    .dataframe tbody tr th {\n",
       "        vertical-align: top;\n",
       "    }\n",
       "\n",
       "    .dataframe thead th {\n",
       "        text-align: right;\n",
       "    }\n",
       "</style>\n",
       "<table border=\"1\" class=\"dataframe\">\n",
       "  <thead>\n",
       "    <tr style=\"text-align: right;\">\n",
       "      <th></th>\n",
       "      <th>title</th>\n",
       "      <th>category</th>\n",
       "    </tr>\n",
       "  </thead>\n",
       "  <tbody>\n",
       "    <tr>\n",
       "      <th>0</th>\n",
       "      <td>Echo Dot (5th generation, 2022 release) | Big ...</td>\n",
       "      <td>Hi-Fi Speakers</td>\n",
       "    </tr>\n",
       "    <tr>\n",
       "      <th>1</th>\n",
       "      <td>Anker Soundcore mini, Super-Portable Bluetooth...</td>\n",
       "      <td>Hi-Fi Speakers</td>\n",
       "    </tr>\n",
       "  </tbody>\n",
       "</table>\n",
       "</div>"
      ],
      "text/plain": [
       "                                               title        category\n",
       "0  Echo Dot (5th generation, 2022 release) | Big ...  Hi-Fi Speakers\n",
       "1  Anker Soundcore mini, Super-Portable Bluetooth...  Hi-Fi Speakers"
      ]
     },
     "execution_count": 1656,
     "metadata": {},
     "output_type": "execute_result"
    }
   ],
   "source": [
    "measures_of_dispersion = measures_of_dispersion[:5000]\n",
    "measures_of_dispersion.head(2)\n"
   ]
  },
  {
   "cell_type": "code",
   "execution_count": 1657,
   "id": "e3c912e0-caad-4db0-bd36-fc0df5e86f34",
   "metadata": {},
   "outputs": [
    {
     "data": {
      "text/plain": [
       "(5000, 2)"
      ]
     },
     "execution_count": 1657,
     "metadata": {},
     "output_type": "execute_result"
    }
   ],
   "source": [
    "measures_of_dispersion.shape"
   ]
  },
  {
   "cell_type": "code",
   "execution_count": 2236,
   "id": "9913a718-cd40-411c-a769-49953e6311d2",
   "metadata": {},
   "outputs": [],
   "source": [
    "#test_measures_of_dispersion"
   ]
  },
  {
   "cell_type": "code",
   "execution_count": 2238,
   "id": "4a7e3a0e-8f3b-4ab3-aac9-53298a974b56",
   "metadata": {},
   "outputs": [],
   "source": [
    "#   crosstab_result = pd.crosstab(index=cat.MSZoning, columns=cat.SaleCondition)\n",
    "# pd.crosstab(index=cat.MSZoning, columns='count')"
   ]
  },
  {
   "cell_type": "code",
   "execution_count": 2853,
   "id": "943a9ece-df14-406e-a41d-963da722912a",
   "metadata": {},
   "outputs": [],
   "source": [
    "test2323 = pd.crosstab( df.price, df.category )"
   ]
  },
  {
   "cell_type": "code",
   "execution_count": 2854,
   "id": "c2b5fc64-13fc-4f67-a645-287eb35ca973",
   "metadata": {},
   "outputs": [
    {
     "data": {
      "text/html": [
       "<div>\n",
       "<style scoped>\n",
       "    .dataframe tbody tr th:only-of-type {\n",
       "        vertical-align: middle;\n",
       "    }\n",
       "\n",
       "    .dataframe tbody tr th {\n",
       "        vertical-align: top;\n",
       "    }\n",
       "\n",
       "    .dataframe thead th {\n",
       "        text-align: right;\n",
       "    }\n",
       "</style>\n",
       "<table border=\"1\" class=\"dataframe\">\n",
       "  <thead>\n",
       "    <tr style=\"text-align: right;\">\n",
       "      <th>category</th>\n",
       "      <th>3D Printers</th>\n",
       "      <th>3D Printing &amp; Scanning</th>\n",
       "      <th>Abrasive &amp; Finishing Products</th>\n",
       "      <th>Action Cameras</th>\n",
       "      <th>Adapters</th>\n",
       "      <th>Agricultural Equipment &amp; Supplies</th>\n",
       "      <th>Alexa Built-In Devices</th>\n",
       "      <th>Art &amp; Craft Supplies</th>\n",
       "      <th>Arts &amp; Crafts</th>\n",
       "      <th>Baby</th>\n",
       "      <th>...</th>\n",
       "      <th>Uninterruptible Power Supply Units &amp; Accessories</th>\n",
       "      <th>Vacuums &amp; Floorcare</th>\n",
       "      <th>Vases</th>\n",
       "      <th>Water Coolers, Filters &amp; Cartridges</th>\n",
       "      <th>Wearable Technology</th>\n",
       "      <th>Wind Instruments</th>\n",
       "      <th>Window Treatments</th>\n",
       "      <th>Women</th>\n",
       "      <th>Women's Sports &amp; Outdoor Shoes</th>\n",
       "      <th>eBook Readers &amp; Accessories</th>\n",
       "    </tr>\n",
       "    <tr>\n",
       "      <th>price</th>\n",
       "      <th></th>\n",
       "      <th></th>\n",
       "      <th></th>\n",
       "      <th></th>\n",
       "      <th></th>\n",
       "      <th></th>\n",
       "      <th></th>\n",
       "      <th></th>\n",
       "      <th></th>\n",
       "      <th></th>\n",
       "      <th></th>\n",
       "      <th></th>\n",
       "      <th></th>\n",
       "      <th></th>\n",
       "      <th></th>\n",
       "      <th></th>\n",
       "      <th></th>\n",
       "      <th></th>\n",
       "      <th></th>\n",
       "      <th></th>\n",
       "      <th></th>\n",
       "    </tr>\n",
       "  </thead>\n",
       "  <tbody>\n",
       "    <tr>\n",
       "      <th>0.00</th>\n",
       "      <td>0</td>\n",
       "      <td>0</td>\n",
       "      <td>0</td>\n",
       "      <td>0</td>\n",
       "      <td>0</td>\n",
       "      <td>0</td>\n",
       "      <td>0</td>\n",
       "      <td>0</td>\n",
       "      <td>0</td>\n",
       "      <td>0</td>\n",
       "      <td>...</td>\n",
       "      <td>0</td>\n",
       "      <td>0</td>\n",
       "      <td>0</td>\n",
       "      <td>0</td>\n",
       "      <td>0</td>\n",
       "      <td>0</td>\n",
       "      <td>0</td>\n",
       "      <td>0</td>\n",
       "      <td>0</td>\n",
       "      <td>0</td>\n",
       "    </tr>\n",
       "    <tr>\n",
       "      <th>0.01</th>\n",
       "      <td>0</td>\n",
       "      <td>0</td>\n",
       "      <td>0</td>\n",
       "      <td>0</td>\n",
       "      <td>0</td>\n",
       "      <td>0</td>\n",
       "      <td>0</td>\n",
       "      <td>0</td>\n",
       "      <td>0</td>\n",
       "      <td>0</td>\n",
       "      <td>...</td>\n",
       "      <td>0</td>\n",
       "      <td>0</td>\n",
       "      <td>0</td>\n",
       "      <td>0</td>\n",
       "      <td>0</td>\n",
       "      <td>0</td>\n",
       "      <td>0</td>\n",
       "      <td>0</td>\n",
       "      <td>0</td>\n",
       "      <td>0</td>\n",
       "    </tr>\n",
       "    <tr>\n",
       "      <th>0.02</th>\n",
       "      <td>0</td>\n",
       "      <td>0</td>\n",
       "      <td>0</td>\n",
       "      <td>0</td>\n",
       "      <td>0</td>\n",
       "      <td>0</td>\n",
       "      <td>0</td>\n",
       "      <td>0</td>\n",
       "      <td>0</td>\n",
       "      <td>0</td>\n",
       "      <td>...</td>\n",
       "      <td>0</td>\n",
       "      <td>0</td>\n",
       "      <td>0</td>\n",
       "      <td>0</td>\n",
       "      <td>0</td>\n",
       "      <td>0</td>\n",
       "      <td>0</td>\n",
       "      <td>0</td>\n",
       "      <td>0</td>\n",
       "      <td>0</td>\n",
       "    </tr>\n",
       "    <tr>\n",
       "      <th>0.03</th>\n",
       "      <td>0</td>\n",
       "      <td>0</td>\n",
       "      <td>0</td>\n",
       "      <td>0</td>\n",
       "      <td>0</td>\n",
       "      <td>0</td>\n",
       "      <td>0</td>\n",
       "      <td>0</td>\n",
       "      <td>0</td>\n",
       "      <td>0</td>\n",
       "      <td>...</td>\n",
       "      <td>0</td>\n",
       "      <td>0</td>\n",
       "      <td>0</td>\n",
       "      <td>0</td>\n",
       "      <td>0</td>\n",
       "      <td>0</td>\n",
       "      <td>0</td>\n",
       "      <td>0</td>\n",
       "      <td>0</td>\n",
       "      <td>0</td>\n",
       "    </tr>\n",
       "    <tr>\n",
       "      <th>0.04</th>\n",
       "      <td>0</td>\n",
       "      <td>0</td>\n",
       "      <td>0</td>\n",
       "      <td>0</td>\n",
       "      <td>0</td>\n",
       "      <td>0</td>\n",
       "      <td>0</td>\n",
       "      <td>0</td>\n",
       "      <td>0</td>\n",
       "      <td>0</td>\n",
       "      <td>...</td>\n",
       "      <td>0</td>\n",
       "      <td>0</td>\n",
       "      <td>0</td>\n",
       "      <td>0</td>\n",
       "      <td>0</td>\n",
       "      <td>0</td>\n",
       "      <td>0</td>\n",
       "      <td>0</td>\n",
       "      <td>0</td>\n",
       "      <td>0</td>\n",
       "    </tr>\n",
       "    <tr>\n",
       "      <th>...</th>\n",
       "      <td>...</td>\n",
       "      <td>...</td>\n",
       "      <td>...</td>\n",
       "      <td>...</td>\n",
       "      <td>...</td>\n",
       "      <td>...</td>\n",
       "      <td>...</td>\n",
       "      <td>...</td>\n",
       "      <td>...</td>\n",
       "      <td>...</td>\n",
       "      <td>...</td>\n",
       "      <td>...</td>\n",
       "      <td>...</td>\n",
       "      <td>...</td>\n",
       "      <td>...</td>\n",
       "      <td>...</td>\n",
       "      <td>...</td>\n",
       "      <td>...</td>\n",
       "      <td>...</td>\n",
       "      <td>...</td>\n",
       "      <td>...</td>\n",
       "    </tr>\n",
       "    <tr>\n",
       "      <th>22933.42</th>\n",
       "      <td>0</td>\n",
       "      <td>0</td>\n",
       "      <td>0</td>\n",
       "      <td>0</td>\n",
       "      <td>0</td>\n",
       "      <td>0</td>\n",
       "      <td>0</td>\n",
       "      <td>0</td>\n",
       "      <td>0</td>\n",
       "      <td>0</td>\n",
       "      <td>...</td>\n",
       "      <td>0</td>\n",
       "      <td>0</td>\n",
       "      <td>0</td>\n",
       "      <td>0</td>\n",
       "      <td>0</td>\n",
       "      <td>0</td>\n",
       "      <td>0</td>\n",
       "      <td>0</td>\n",
       "      <td>0</td>\n",
       "      <td>0</td>\n",
       "    </tr>\n",
       "    <tr>\n",
       "      <th>23482.73</th>\n",
       "      <td>0</td>\n",
       "      <td>0</td>\n",
       "      <td>0</td>\n",
       "      <td>0</td>\n",
       "      <td>0</td>\n",
       "      <td>0</td>\n",
       "      <td>0</td>\n",
       "      <td>0</td>\n",
       "      <td>0</td>\n",
       "      <td>0</td>\n",
       "      <td>...</td>\n",
       "      <td>0</td>\n",
       "      <td>0</td>\n",
       "      <td>0</td>\n",
       "      <td>0</td>\n",
       "      <td>0</td>\n",
       "      <td>0</td>\n",
       "      <td>0</td>\n",
       "      <td>0</td>\n",
       "      <td>0</td>\n",
       "      <td>0</td>\n",
       "    </tr>\n",
       "    <tr>\n",
       "      <th>24674.59</th>\n",
       "      <td>0</td>\n",
       "      <td>0</td>\n",
       "      <td>0</td>\n",
       "      <td>0</td>\n",
       "      <td>0</td>\n",
       "      <td>0</td>\n",
       "      <td>0</td>\n",
       "      <td>0</td>\n",
       "      <td>0</td>\n",
       "      <td>0</td>\n",
       "      <td>...</td>\n",
       "      <td>0</td>\n",
       "      <td>0</td>\n",
       "      <td>0</td>\n",
       "      <td>0</td>\n",
       "      <td>0</td>\n",
       "      <td>0</td>\n",
       "      <td>0</td>\n",
       "      <td>0</td>\n",
       "      <td>0</td>\n",
       "      <td>0</td>\n",
       "    </tr>\n",
       "    <tr>\n",
       "      <th>77752.00</th>\n",
       "      <td>0</td>\n",
       "      <td>0</td>\n",
       "      <td>0</td>\n",
       "      <td>0</td>\n",
       "      <td>0</td>\n",
       "      <td>0</td>\n",
       "      <td>0</td>\n",
       "      <td>0</td>\n",
       "      <td>0</td>\n",
       "      <td>0</td>\n",
       "      <td>...</td>\n",
       "      <td>0</td>\n",
       "      <td>0</td>\n",
       "      <td>0</td>\n",
       "      <td>0</td>\n",
       "      <td>0</td>\n",
       "      <td>0</td>\n",
       "      <td>0</td>\n",
       "      <td>0</td>\n",
       "      <td>0</td>\n",
       "      <td>0</td>\n",
       "    </tr>\n",
       "    <tr>\n",
       "      <th>100000.00</th>\n",
       "      <td>0</td>\n",
       "      <td>0</td>\n",
       "      <td>0</td>\n",
       "      <td>0</td>\n",
       "      <td>0</td>\n",
       "      <td>0</td>\n",
       "      <td>0</td>\n",
       "      <td>0</td>\n",
       "      <td>0</td>\n",
       "      <td>0</td>\n",
       "      <td>...</td>\n",
       "      <td>0</td>\n",
       "      <td>0</td>\n",
       "      <td>0</td>\n",
       "      <td>0</td>\n",
       "      <td>0</td>\n",
       "      <td>0</td>\n",
       "      <td>0</td>\n",
       "      <td>0</td>\n",
       "      <td>0</td>\n",
       "      <td>0</td>\n",
       "    </tr>\n",
       "  </tbody>\n",
       "</table>\n",
       "<p>82916 rows × 296 columns</p>\n",
       "</div>"
      ],
      "text/plain": [
       "category   3D Printers  3D Printing & Scanning  Abrasive & Finishing Products  \\\n",
       "price                                                                           \n",
       "0.00                 0                       0                              0   \n",
       "0.01                 0                       0                              0   \n",
       "0.02                 0                       0                              0   \n",
       "0.03                 0                       0                              0   \n",
       "0.04                 0                       0                              0   \n",
       "...                ...                     ...                            ...   \n",
       "22933.42             0                       0                              0   \n",
       "23482.73             0                       0                              0   \n",
       "24674.59             0                       0                              0   \n",
       "77752.00             0                       0                              0   \n",
       "100000.00            0                       0                              0   \n",
       "\n",
       "category   Action Cameras  Adapters  Agricultural Equipment & Supplies  \\\n",
       "price                                                                    \n",
       "0.00                    0         0                                  0   \n",
       "0.01                    0         0                                  0   \n",
       "0.02                    0         0                                  0   \n",
       "0.03                    0         0                                  0   \n",
       "0.04                    0         0                                  0   \n",
       "...                   ...       ...                                ...   \n",
       "22933.42                0         0                                  0   \n",
       "23482.73                0         0                                  0   \n",
       "24674.59                0         0                                  0   \n",
       "77752.00                0         0                                  0   \n",
       "100000.00               0         0                                  0   \n",
       "\n",
       "category   Alexa Built-In Devices  Art & Craft Supplies  Arts & Crafts  Baby  \\\n",
       "price                                                                          \n",
       "0.00                            0                     0              0     0   \n",
       "0.01                            0                     0              0     0   \n",
       "0.02                            0                     0              0     0   \n",
       "0.03                            0                     0              0     0   \n",
       "0.04                            0                     0              0     0   \n",
       "...                           ...                   ...            ...   ...   \n",
       "22933.42                        0                     0              0     0   \n",
       "23482.73                        0                     0              0     0   \n",
       "24674.59                        0                     0              0     0   \n",
       "77752.00                        0                     0              0     0   \n",
       "100000.00                       0                     0              0     0   \n",
       "\n",
       "category   ...  Uninterruptible Power Supply Units & Accessories  \\\n",
       "price      ...                                                     \n",
       "0.00       ...                                                 0   \n",
       "0.01       ...                                                 0   \n",
       "0.02       ...                                                 0   \n",
       "0.03       ...                                                 0   \n",
       "0.04       ...                                                 0   \n",
       "...        ...                                               ...   \n",
       "22933.42   ...                                                 0   \n",
       "23482.73   ...                                                 0   \n",
       "24674.59   ...                                                 0   \n",
       "77752.00   ...                                                 0   \n",
       "100000.00  ...                                                 0   \n",
       "\n",
       "category   Vacuums & Floorcare  Vases  Water Coolers, Filters & Cartridges  \\\n",
       "price                                                                        \n",
       "0.00                         0      0                                    0   \n",
       "0.01                         0      0                                    0   \n",
       "0.02                         0      0                                    0   \n",
       "0.03                         0      0                                    0   \n",
       "0.04                         0      0                                    0   \n",
       "...                        ...    ...                                  ...   \n",
       "22933.42                     0      0                                    0   \n",
       "23482.73                     0      0                                    0   \n",
       "24674.59                     0      0                                    0   \n",
       "77752.00                     0      0                                    0   \n",
       "100000.00                    0      0                                    0   \n",
       "\n",
       "category   Wearable Technology  Wind Instruments  Window Treatments  Women  \\\n",
       "price                                                                        \n",
       "0.00                         0                 0                  0      0   \n",
       "0.01                         0                 0                  0      0   \n",
       "0.02                         0                 0                  0      0   \n",
       "0.03                         0                 0                  0      0   \n",
       "0.04                         0                 0                  0      0   \n",
       "...                        ...               ...                ...    ...   \n",
       "22933.42                     0                 0                  0      0   \n",
       "23482.73                     0                 0                  0      0   \n",
       "24674.59                     0                 0                  0      0   \n",
       "77752.00                     0                 0                  0      0   \n",
       "100000.00                    0                 0                  0      0   \n",
       "\n",
       "category   Women's Sports & Outdoor Shoes  eBook Readers & Accessories  \n",
       "price                                                                   \n",
       "0.00                                    0                            0  \n",
       "0.01                                    0                            0  \n",
       "0.02                                    0                            0  \n",
       "0.03                                    0                            0  \n",
       "0.04                                    0                            0  \n",
       "...                                   ...                          ...  \n",
       "22933.42                                0                            0  \n",
       "23482.73                                0                            0  \n",
       "24674.59                                0                            0  \n",
       "77752.00                                0                            0  \n",
       "100000.00                               0                            0  \n",
       "\n",
       "[82916 rows x 296 columns]"
      ]
     },
     "execution_count": 2854,
     "metadata": {},
     "output_type": "execute_result"
    }
   ],
   "source": [
    "#test2323 = test2323.reset_index()\n",
    "#test2323 = test2323[[\"category\", \"count\"]].reset_index()\n",
    "test2323"
   ]
  },
  {
   "cell_type": "code",
   "execution_count": 2861,
   "id": "2405ca88-20eb-42b9-87a0-713b2ab65e22",
   "metadata": {},
   "outputs": [
    {
     "data": {
      "text/plain": [
       "Adapters\n",
       "0     82812\n",
       "1        74\n",
       "2        12\n",
       "3         5\n",
       "4         4\n",
       "5         2\n",
       "12        1\n",
       "14        1\n",
       "18        1\n",
       "19        1\n",
       "23        1\n",
       "8         1\n",
       "21        1\n",
       "Name: count, dtype: int64"
      ]
     },
     "execution_count": 2861,
     "metadata": {},
     "output_type": "execute_result"
    }
   ],
   "source": [
    "test2323[\"Adapters\"].value_counts()"
   ]
  },
  {
   "cell_type": "code",
   "execution_count": null,
   "id": "87df8b3d-4f9e-4af0-a702-e04d7a025e12",
   "metadata": {},
   "outputs": [],
   "source": []
  },
  {
   "cell_type": "code",
   "execution_count": null,
   "id": "826b3106-50c3-44b5-838a-3fcb5ae1c02d",
   "metadata": {},
   "outputs": [],
   "source": []
  },
  {
   "cell_type": "code",
   "execution_count": 2827,
   "id": "3b08b484-81ff-463b-a77f-60ec37a514e8",
   "metadata": {},
   "outputs": [
    {
     "data": {
      "text/html": [
       "<div>\n",
       "<style scoped>\n",
       "    .dataframe tbody tr th:only-of-type {\n",
       "        vertical-align: middle;\n",
       "    }\n",
       "\n",
       "    .dataframe tbody tr th {\n",
       "        vertical-align: top;\n",
       "    }\n",
       "\n",
       "    .dataframe thead th {\n",
       "        text-align: right;\n",
       "    }\n",
       "</style>\n",
       "<table border=\"1\" class=\"dataframe\">\n",
       "  <thead>\n",
       "    <tr style=\"text-align: right;\">\n",
       "      <th>col_0</th>\n",
       "      <th>category</th>\n",
       "      <th>index</th>\n",
       "    </tr>\n",
       "  </thead>\n",
       "  <tbody>\n",
       "    <tr>\n",
       "      <th>0</th>\n",
       "      <td>3D Printers</td>\n",
       "      <td>0</td>\n",
       "    </tr>\n",
       "    <tr>\n",
       "      <th>1</th>\n",
       "      <td>3D Printing &amp; Scanning</td>\n",
       "      <td>1</td>\n",
       "    </tr>\n",
       "    <tr>\n",
       "      <th>2</th>\n",
       "      <td>Abrasive &amp; Finishing Products</td>\n",
       "      <td>2</td>\n",
       "    </tr>\n",
       "    <tr>\n",
       "      <th>3</th>\n",
       "      <td>Action Cameras</td>\n",
       "      <td>3</td>\n",
       "    </tr>\n",
       "    <tr>\n",
       "      <th>4</th>\n",
       "      <td>Adapters</td>\n",
       "      <td>4</td>\n",
       "    </tr>\n",
       "    <tr>\n",
       "      <th>...</th>\n",
       "      <td>...</td>\n",
       "      <td>...</td>\n",
       "    </tr>\n",
       "    <tr>\n",
       "      <th>291</th>\n",
       "      <td>Wind Instruments</td>\n",
       "      <td>291</td>\n",
       "    </tr>\n",
       "    <tr>\n",
       "      <th>292</th>\n",
       "      <td>Window Treatments</td>\n",
       "      <td>292</td>\n",
       "    </tr>\n",
       "    <tr>\n",
       "      <th>293</th>\n",
       "      <td>Women</td>\n",
       "      <td>293</td>\n",
       "    </tr>\n",
       "    <tr>\n",
       "      <th>294</th>\n",
       "      <td>Women's Sports &amp; Outdoor Shoes</td>\n",
       "      <td>294</td>\n",
       "    </tr>\n",
       "    <tr>\n",
       "      <th>295</th>\n",
       "      <td>eBook Readers &amp; Accessories</td>\n",
       "      <td>295</td>\n",
       "    </tr>\n",
       "  </tbody>\n",
       "</table>\n",
       "<p>296 rows × 2 columns</p>\n",
       "</div>"
      ],
      "text/plain": [
       "col_0                        category  index\n",
       "0                         3D Printers      0\n",
       "1              3D Printing & Scanning      1\n",
       "2       Abrasive & Finishing Products      2\n",
       "3                      Action Cameras      3\n",
       "4                            Adapters      4\n",
       "..                                ...    ...\n",
       "291                  Wind Instruments    291\n",
       "292                 Window Treatments    292\n",
       "293                             Women    293\n",
       "294    Women's Sports & Outdoor Shoes    294\n",
       "295       eBook Readers & Accessories    295\n",
       "\n",
       "[296 rows x 2 columns]"
      ]
     },
     "execution_count": 2827,
     "metadata": {},
     "output_type": "execute_result"
    }
   ],
   "source": [
    "#test2323 = test2323.reset_index()\n",
    "test2323 = test2323[[\"category\", \"index\"]]\n",
    "\n",
    "test2323"
   ]
  },
  {
   "cell_type": "code",
   "execution_count": null,
   "id": "d376d624-5a42-48f7-a50c-848436f36394",
   "metadata": {},
   "outputs": [],
   "source": []
  },
  {
   "cell_type": "code",
   "execution_count": 2685,
   "id": "686acbae-9087-4c54-969e-21ef333c7c1c",
   "metadata": {},
   "outputs": [
    {
     "data": {
      "text/html": [
       "<div>\n",
       "<style scoped>\n",
       "    .dataframe tbody tr th:only-of-type {\n",
       "        vertical-align: middle;\n",
       "    }\n",
       "\n",
       "    .dataframe tbody tr th {\n",
       "        vertical-align: top;\n",
       "    }\n",
       "\n",
       "    .dataframe thead th {\n",
       "        text-align: right;\n",
       "    }\n",
       "</style>\n",
       "<table border=\"1\" class=\"dataframe\">\n",
       "  <thead>\n",
       "    <tr style=\"text-align: right;\">\n",
       "      <th>col_0</th>\n",
       "      <th>category</th>\n",
       "      <th>count</th>\n",
       "    </tr>\n",
       "  </thead>\n",
       "  <tbody>\n",
       "    <tr>\n",
       "      <th>262</th>\n",
       "      <td>Sports &amp; Outdoors</td>\n",
       "      <td>836265</td>\n",
       "    </tr>\n",
       "    <tr>\n",
       "      <th>20</th>\n",
       "      <td>Beauty</td>\n",
       "      <td>19312</td>\n",
       "    </tr>\n",
       "    <tr>\n",
       "      <th>116</th>\n",
       "      <td>Handmade Clothing, Shoes &amp; Accessories</td>\n",
       "      <td>19229</td>\n",
       "    </tr>\n",
       "    <tr>\n",
       "      <th>16</th>\n",
       "      <td>Bath &amp; Body</td>\n",
       "      <td>19092</td>\n",
       "    </tr>\n",
       "    <tr>\n",
       "      <th>29</th>\n",
       "      <td>Birthday Gifts</td>\n",
       "      <td>18978</td>\n",
       "    </tr>\n",
       "    <tr>\n",
       "      <th>...</th>\n",
       "      <td>...</td>\n",
       "      <td>...</td>\n",
       "    </tr>\n",
       "    <tr>\n",
       "      <th>195</th>\n",
       "      <td>Motorbike Chassis</td>\n",
       "      <td>107</td>\n",
       "    </tr>\n",
       "    <tr>\n",
       "      <th>226</th>\n",
       "      <td>Plugs</td>\n",
       "      <td>107</td>\n",
       "    </tr>\n",
       "    <tr>\n",
       "      <th>6</th>\n",
       "      <td>Alexa Built-In Devices</td>\n",
       "      <td>107</td>\n",
       "    </tr>\n",
       "    <tr>\n",
       "      <th>254</th>\n",
       "      <td>Smart Home Security &amp; Lighting</td>\n",
       "      <td>104</td>\n",
       "    </tr>\n",
       "    <tr>\n",
       "      <th>255</th>\n",
       "      <td>Smart Speakers</td>\n",
       "      <td>54</td>\n",
       "    </tr>\n",
       "  </tbody>\n",
       "</table>\n",
       "<p>296 rows × 2 columns</p>\n",
       "</div>"
      ],
      "text/plain": [
       "col_0                                category   count\n",
       "262                         Sports & Outdoors  836265\n",
       "20                                     Beauty   19312\n",
       "116    Handmade Clothing, Shoes & Accessories   19229\n",
       "16                                Bath & Body   19092\n",
       "29                             Birthday Gifts   18978\n",
       "..                                        ...     ...\n",
       "195                         Motorbike Chassis     107\n",
       "226                                     Plugs     107\n",
       "6                      Alexa Built-In Devices     107\n",
       "254            Smart Home Security & Lighting     104\n",
       "255                            Smart Speakers      54\n",
       "\n",
       "[296 rows x 2 columns]"
      ]
     },
     "execution_count": 2685,
     "metadata": {},
     "output_type": "execute_result"
    }
   ],
   "source": [
    "#test2323 = test2323[[\"category\", \"count\"]].sort_values(by=\"count\", ascending=False)\n",
    " \n",
    "test2323 = test2323.sort_values(by=\"count\", ascending=False)\n",
    "test2323\n"
   ]
  },
  {
   "cell_type": "code",
   "execution_count": null,
   "id": "6bc568f3-33e1-49d1-a171-7df6e4b7eac3",
   "metadata": {},
   "outputs": [],
   "source": []
  },
  {
   "cell_type": "code",
   "execution_count": null,
   "id": "6395c93f-34ac-4228-9711-2a98e226fa8e",
   "metadata": {},
   "outputs": [],
   "source": []
  },
  {
   "cell_type": "code",
   "execution_count": null,
   "id": "15714d88-6714-42d7-97ce-2fd12f17210e",
   "metadata": {},
   "outputs": [],
   "source": []
  },
  {
   "cell_type": "code",
   "execution_count": null,
   "id": "5a014ddc-dfd7-400f-8fcd-035edafd33ae",
   "metadata": {},
   "outputs": [],
   "source": []
  },
  {
   "cell_type": "code",
   "execution_count": null,
   "id": "512c3575-1153-4265-98c6-d294c362d81d",
   "metadata": {},
   "outputs": [],
   "source": []
  },
  {
   "cell_type": "code",
   "execution_count": null,
   "id": "779d4cbb-cf58-473a-8e76-ab1555d895bb",
   "metadata": {},
   "outputs": [],
   "source": []
  },
  {
   "cell_type": "code",
   "execution_count": null,
   "id": "1766c797-1a2b-49be-ab66-6ec07fffe546",
   "metadata": {},
   "outputs": [],
   "source": []
  },
  {
   "cell_type": "code",
   "execution_count": null,
   "id": "505d8252-9e16-44e9-ac24-1ecd14489f95",
   "metadata": {},
   "outputs": [],
   "source": []
  },
  {
   "cell_type": "code",
   "execution_count": null,
   "id": "20380408-1e4b-42e6-b446-f8067cafb34e",
   "metadata": {},
   "outputs": [],
   "source": []
  },
  {
   "cell_type": "code",
   "execution_count": 2560,
   "id": "9cf34cf1-c93b-43fc-88e9-11637f0631f0",
   "metadata": {},
   "outputs": [
    {
     "data": {
      "text/plain": [
       "723"
      ]
     },
     "execution_count": 2560,
     "metadata": {},
     "output_type": "execute_result"
    }
   ],
   "source": [
    "testvvvv[\"count\"].max()"
   ]
  },
  {
   "cell_type": "code",
   "execution_count": 2562,
   "id": "ff63c6d2-c705-4adf-8d91-69e66076a041",
   "metadata": {},
   "outputs": [],
   "source": [
    "testvvvv = testvvvv.sort_values(by=\"count\", ascending=False)"
   ]
  },
  {
   "cell_type": "code",
   "execution_count": 2535,
   "id": "87a03f98-cb54-4eb0-a263-7a7b53703966",
   "metadata": {},
   "outputs": [
    {
     "data": {
      "text/html": [
       "<div>\n",
       "<style scoped>\n",
       "    .dataframe tbody tr th:only-of-type {\n",
       "        vertical-align: middle;\n",
       "    }\n",
       "\n",
       "    .dataframe tbody tr th {\n",
       "        vertical-align: top;\n",
       "    }\n",
       "\n",
       "    .dataframe thead th {\n",
       "        text-align: right;\n",
       "    }\n",
       "</style>\n",
       "<table border=\"1\" class=\"dataframe\">\n",
       "  <thead>\n",
       "    <tr style=\"text-align: right;\">\n",
       "      <th>col_0</th>\n",
       "      <th>count</th>\n",
       "    </tr>\n",
       "    <tr>\n",
       "      <th>title</th>\n",
       "      <th></th>\n",
       "    </tr>\n",
       "  </thead>\n",
       "  <tbody>\n",
       "    <tr>\n",
       "      <th>OYhmc Portable Pedal Exerc</th>\n",
       "      <td>723</td>\n",
       "    </tr>\n",
       "    <tr>\n",
       "      <th>ScibOr Outdoor Sleeveless Fishing Vest</th>\n",
       "      <td>322</td>\n",
       "    </tr>\n",
       "    <tr>\n",
       "      <th>SHOPPRO Kids Golf Shoes Set, White, with Shoes Bag, UV Sun Protection Arm Sleeves, Golf Pro Cap and Instant Cooling Towel, Outdoor Sneakers, Girls Sport Training, POSMA GSH007WHT39_B (White)</th>\n",
       "      <td>224</td>\n",
       "    </tr>\n",
       "    <tr>\n",
       "      <th>Mens Breathable Lace-Up Football Shoes Non-Slip Outdoor Boys Junior Soccer Shoes Training Professional Boots Soccer Sneakers Athletics Training Shoes for Teenager</th>\n",
       "      <td>144</td>\n",
       "    </tr>\n",
       "    <tr>\n",
       "      <th>CMP Women's T-shirt</th>\n",
       "      <td>129</td>\n",
       "    </tr>\n",
       "    <tr>\n",
       "      <th>...</th>\n",
       "      <td>...</td>\n",
       "    </tr>\n",
       "    <tr>\n",
       "      <th>Glysolid Body Lotion Classic With Musk 500 ML</th>\n",
       "      <td>1</td>\n",
       "    </tr>\n",
       "    <tr>\n",
       "      <th>Glysolid Body Lotion 500Ml by Glysolid</th>\n",
       "      <td>1</td>\n",
       "    </tr>\n",
       "    <tr>\n",
       "      <th>Glysolid - Crema Classica Mani Screpolate, Idratazione Intensiva - 100 ml</th>\n",
       "      <td>1</td>\n",
       "    </tr>\n",
       "    <tr>\n",
       "      <th>Glynt VOLUME Energy Shampoo 2 for Fine and Thin Hair, 250 ml</th>\n",
       "      <td>1</td>\n",
       "    </tr>\n",
       "    <tr>\n",
       "      <th>🥧 RLS 11pcs Wooden Toy Microwave oven with pretend food play set fully built no assembly required</th>\n",
       "      <td>1</td>\n",
       "    </tr>\n",
       "  </tbody>\n",
       "</table>\n",
       "<p>2077591 rows × 1 columns</p>\n",
       "</div>"
      ],
      "text/plain": [
       "col_0                                               count\n",
       "title                                                    \n",
       "OYhmc Portable Pedal Exerc                            723\n",
       "ScibOr Outdoor Sleeveless Fishing Vest                322\n",
       "SHOPPRO Kids Golf Shoes Set, White, with Shoes ...    224\n",
       "Mens Breathable Lace-Up Football Shoes Non-Slip...    144\n",
       "CMP Women's T-shirt                                   129\n",
       "...                                                   ...\n",
       "Glysolid Body Lotion Classic With Musk 500 ML           1\n",
       "Glysolid Body Lotion 500Ml by Glysolid                  1\n",
       "Glysolid - Crema Classica Mani Screpolate, Idra...      1\n",
       "Glynt VOLUME Energy Shampoo 2 for Fine and Thin...      1\n",
       "🥧 RLS 11pcs Wooden Toy Microwave oven with pret...      1\n",
       "\n",
       "[2077591 rows x 1 columns]"
      ]
     },
     "execution_count": 2535,
     "metadata": {},
     "output_type": "execute_result"
    }
   ],
   "source": [
    "testvvvv"
   ]
  },
  {
   "cell_type": "code",
   "execution_count": 2537,
   "id": "b4ec1f81-74b0-48b2-ab1b-13aae28f73db",
   "metadata": {},
   "outputs": [
    {
     "data": {
      "text/html": [
       "<div>\n",
       "<style scoped>\n",
       "    .dataframe tbody tr th:only-of-type {\n",
       "        vertical-align: middle;\n",
       "    }\n",
       "\n",
       "    .dataframe tbody tr th {\n",
       "        vertical-align: top;\n",
       "    }\n",
       "\n",
       "    .dataframe thead th {\n",
       "        text-align: right;\n",
       "    }\n",
       "</style>\n",
       "<table border=\"1\" class=\"dataframe\">\n",
       "  <thead>\n",
       "    <tr style=\"text-align: right;\">\n",
       "      <th>col_0</th>\n",
       "      <th>index</th>\n",
       "      <th>title</th>\n",
       "      <th>count</th>\n",
       "    </tr>\n",
       "  </thead>\n",
       "  <tbody>\n",
       "    <tr>\n",
       "      <th>0</th>\n",
       "      <td>0</td>\n",
       "      <td>OYhmc Portable Pedal Exerc</td>\n",
       "      <td>723</td>\n",
       "    </tr>\n",
       "    <tr>\n",
       "      <th>1</th>\n",
       "      <td>1</td>\n",
       "      <td>ScibOr Outdoor Sleeveless Fishing Vest</td>\n",
       "      <td>322</td>\n",
       "    </tr>\n",
       "    <tr>\n",
       "      <th>2</th>\n",
       "      <td>2</td>\n",
       "      <td>SHOPPRO Kids Golf Shoes Set, White, with Shoes...</td>\n",
       "      <td>224</td>\n",
       "    </tr>\n",
       "    <tr>\n",
       "      <th>3</th>\n",
       "      <td>3</td>\n",
       "      <td>Mens Breathable Lace-Up Football Shoes Non-Sli...</td>\n",
       "      <td>144</td>\n",
       "    </tr>\n",
       "    <tr>\n",
       "      <th>4</th>\n",
       "      <td>4</td>\n",
       "      <td>CMP Women's T-shirt</td>\n",
       "      <td>129</td>\n",
       "    </tr>\n",
       "    <tr>\n",
       "      <th>...</th>\n",
       "      <td>...</td>\n",
       "      <td>...</td>\n",
       "      <td>...</td>\n",
       "    </tr>\n",
       "    <tr>\n",
       "      <th>2077586</th>\n",
       "      <td>2077586</td>\n",
       "      <td>Glysolid Body Lotion Classic With Musk 500 ML</td>\n",
       "      <td>1</td>\n",
       "    </tr>\n",
       "    <tr>\n",
       "      <th>2077587</th>\n",
       "      <td>2077587</td>\n",
       "      <td>Glysolid Body Lotion 500Ml by Glysolid</td>\n",
       "      <td>1</td>\n",
       "    </tr>\n",
       "    <tr>\n",
       "      <th>2077588</th>\n",
       "      <td>2077588</td>\n",
       "      <td>Glysolid - Crema Classica Mani Screpolate, Idr...</td>\n",
       "      <td>1</td>\n",
       "    </tr>\n",
       "    <tr>\n",
       "      <th>2077589</th>\n",
       "      <td>2077589</td>\n",
       "      <td>Glynt VOLUME Energy Shampoo 2 for Fine and Thi...</td>\n",
       "      <td>1</td>\n",
       "    </tr>\n",
       "    <tr>\n",
       "      <th>2077590</th>\n",
       "      <td>2077590</td>\n",
       "      <td>🥧 RLS 11pcs Wooden Toy Microwave oven with pre...</td>\n",
       "      <td>1</td>\n",
       "    </tr>\n",
       "  </tbody>\n",
       "</table>\n",
       "<p>2077591 rows × 3 columns</p>\n",
       "</div>"
      ],
      "text/plain": [
       "col_0      index                                              title  count\n",
       "0              0                         OYhmc Portable Pedal Exerc    723\n",
       "1              1             ScibOr Outdoor Sleeveless Fishing Vest    322\n",
       "2              2  SHOPPRO Kids Golf Shoes Set, White, with Shoes...    224\n",
       "3              3  Mens Breathable Lace-Up Football Shoes Non-Sli...    144\n",
       "4              4                                CMP Women's T-shirt    129\n",
       "...          ...                                                ...    ...\n",
       "2077586  2077586      Glysolid Body Lotion Classic With Musk 500 ML      1\n",
       "2077587  2077587             Glysolid Body Lotion 500Ml by Glysolid      1\n",
       "2077588  2077588  Glysolid - Crema Classica Mani Screpolate, Idr...      1\n",
       "2077589  2077589  Glynt VOLUME Energy Shampoo 2 for Fine and Thi...      1\n",
       "2077590  2077590  🥧 RLS 11pcs Wooden Toy Microwave oven with pre...      1\n",
       "\n",
       "[2077591 rows x 3 columns]"
      ]
     },
     "execution_count": 2537,
     "metadata": {},
     "output_type": "execute_result"
    }
   ],
   "source": [
    "testvvvv = testvvvv.reset_index()\n",
    "testvvvv\n",
    "testvvvv = testvvvv.reset_index()\n",
    "testvvvv"
   ]
  },
  {
   "cell_type": "code",
   "execution_count": 2539,
   "id": "edc8a195-9ee5-4722-88de-d871a8275cd9",
   "metadata": {},
   "outputs": [],
   "source": [
    "#est2323 = test2323.rename(columns={\"count\": \"conteo\"})\n",
    "#test2323 = test2323.rename(columns={\"level_0\": \"count\"})\n",
    "#test2323"
   ]
  },
  {
   "cell_type": "code",
   "execution_count": null,
   "id": "3c7928ca-9a15-4285-b9d9-77af0bc77bd3",
   "metadata": {},
   "outputs": [],
   "source": [
    " \n",
    " "
   ]
  },
  {
   "cell_type": "code",
   "execution_count": 2553,
   "id": "0b9f5379-c71b-4674-87e0-d9f108ee430c",
   "metadata": {},
   "outputs": [
    {
     "data": {
      "text/plain": [
       "title\n",
       "OYhmc Portable Pedal Exerc                                                                                                                                                                                 0.0\n",
       "AOLALA Black Ceiling Lights Chandelier 6 Lights Light Fittings Ceilings, Industrial Sputnik Flush Fitting Ceiling Lights, Modern Ceiling Lamp for Living Room Kitchen Bedroom Dining Room Hallway E27      0.0\n",
       "AOMIG Baby Reins, Baby Walking Reins and Toddler Safety Harness, Dinosaur Baby Reins Safety Leash for Toddlers Boys and Girls (Green)                                                                      0.0\n",
       "AOMIG Girls White Snow Costume, Deluxe White Snow Princess Fancy Dress With Crown Wand and Red Cape, White Snow Princess Dress Up for Girls Birthday Bridesmaid Christmas Carnival Halloween Cosplay       0.0\n",
       "AOMEKIE Rifle Scope 4X32mm Red/Green/Blue Illuminated Rapid Range Reticle Airsoft Red Dot Sight Scope with Top Fiber Optic Sight and 11mm/22mm Picatinny Rail Mount for Hunting                            0.0\n",
       "                                                                                                                                                                                                          ... \n",
       "Vanmor Domino Train Toy Sets, Automatic Domino Rally Train Model with Light, Kids Domino Blocks Building Stacking Toy, Domino Sets Stacker Game STEM Creative Gift for 3 4 5 6 7 Years Old Boys Girls      0.0\n",
       "Vanmor Montessori Toys for 1 Year Old, Baby Sensory Toy for 6-12 Months, UFO Pull String Toy for 12-18 Months Fine Motor Skills, Travel Toys for Toddler's 1st Flight, Boys Girl 1st Birthday Xmas Gift    0.0\n",
       "Vanmor Toys for 1 Years Old Boys, Baby Toys 6 Months Plus, Infant Crawling Toys Penguin with Music and Lights, Early Educational Birthday Presents 9 12 24 Months Plus                                     0.0\n",
       "Vannico Kids Smart Watch Phone SOS for Kids Music Touch Screen 16 Games MP3 Alculator Alarm with SD Card, Smartwatch for Boys & Girls 3-12Y Gifts                                                          0.0\n",
       "🥧 RLS 11pcs Wooden Toy Microwave oven with pretend food play set fully built no assembly required                                                                                                          0.0\n",
       "Name: proportion, Length: 2077591, dtype: float64"
      ]
     },
     "execution_count": 2553,
     "metadata": {},
     "output_type": "execute_result"
    }
   ],
   "source": [
    "testaaaaa = testvvvv[\"title\"].value_counts(normalize=True).round(5)\n",
    "testaaaaa"
   ]
  },
  {
   "cell_type": "code",
   "execution_count": 2544,
   "id": "6e9754dc-cdc5-4011-aa41-a6c9f961c6fa",
   "metadata": {},
   "outputs": [],
   "source": [
    "#resultado[\"frequency\"] = resultado[\"frequency\"].round(8)"
   ]
  },
  {
   "cell_type": "code",
   "execution_count": 2546,
   "id": "0c2b56f0-0bd9-4d90-badd-763455fec6de",
   "metadata": {},
   "outputs": [
    {
     "data": {
      "text/html": [
       "<div>\n",
       "<style scoped>\n",
       "    .dataframe tbody tr th:only-of-type {\n",
       "        vertical-align: middle;\n",
       "    }\n",
       "\n",
       "    .dataframe tbody tr th {\n",
       "        vertical-align: top;\n",
       "    }\n",
       "\n",
       "    .dataframe thead th {\n",
       "        text-align: right;\n",
       "    }\n",
       "</style>\n",
       "<table border=\"1\" class=\"dataframe\">\n",
       "  <thead>\n",
       "    <tr style=\"text-align: right;\">\n",
       "      <th></th>\n",
       "      <th>count</th>\n",
       "      <th>proportion</th>\n",
       "    </tr>\n",
       "  </thead>\n",
       "  <tbody>\n",
       "    <tr>\n",
       "      <th>0</th>\n",
       "      <td>1</td>\n",
       "      <td>0.88121</td>\n",
       "    </tr>\n",
       "    <tr>\n",
       "      <th>1</th>\n",
       "      <td>2</td>\n",
       "      <td>0.08925</td>\n",
       "    </tr>\n",
       "    <tr>\n",
       "      <th>2</th>\n",
       "      <td>3</td>\n",
       "      <td>0.01989</td>\n",
       "    </tr>\n",
       "    <tr>\n",
       "      <th>3</th>\n",
       "      <td>4</td>\n",
       "      <td>0.00575</td>\n",
       "    </tr>\n",
       "    <tr>\n",
       "      <th>4</th>\n",
       "      <td>5</td>\n",
       "      <td>0.00156</td>\n",
       "    </tr>\n",
       "    <tr>\n",
       "      <th>...</th>\n",
       "      <td>...</td>\n",
       "      <td>...</td>\n",
       "    </tr>\n",
       "    <tr>\n",
       "      <th>85</th>\n",
       "      <td>62</td>\n",
       "      <td>0.00000</td>\n",
       "    </tr>\n",
       "    <tr>\n",
       "      <th>86</th>\n",
       "      <td>59</td>\n",
       "      <td>0.00000</td>\n",
       "    </tr>\n",
       "    <tr>\n",
       "      <th>87</th>\n",
       "      <td>53</td>\n",
       "      <td>0.00000</td>\n",
       "    </tr>\n",
       "    <tr>\n",
       "      <th>88</th>\n",
       "      <td>52</td>\n",
       "      <td>0.00000</td>\n",
       "    </tr>\n",
       "    <tr>\n",
       "      <th>89</th>\n",
       "      <td>723</td>\n",
       "      <td>0.00000</td>\n",
       "    </tr>\n",
       "  </tbody>\n",
       "</table>\n",
       "<p>90 rows × 2 columns</p>\n",
       "</div>"
      ],
      "text/plain": [
       "    count  proportion\n",
       "0       1     0.88121\n",
       "1       2     0.08925\n",
       "2       3     0.01989\n",
       "3       4     0.00575\n",
       "4       5     0.00156\n",
       "..    ...         ...\n",
       "85     62     0.00000\n",
       "86     59     0.00000\n",
       "87     53     0.00000\n",
       "88     52     0.00000\n",
       "89    723     0.00000\n",
       "\n",
       "[90 rows x 2 columns]"
      ]
     },
     "execution_count": 2546,
     "metadata": {},
     "output_type": "execute_result"
    }
   ],
   "source": [
    "testaaaaa = testaaaaa.reset_index()\n",
    "testaaaaa\n",
    "\n",
    " \n"
   ]
  },
  {
   "cell_type": "code",
   "execution_count": 2548,
   "id": "476c076e-61f0-4c73-8ecb-8ca33dc60ccf",
   "metadata": {},
   "outputs": [
    {
     "data": {
      "text/html": [
       "<div>\n",
       "<style scoped>\n",
       "    .dataframe tbody tr th:only-of-type {\n",
       "        vertical-align: middle;\n",
       "    }\n",
       "\n",
       "    .dataframe tbody tr th {\n",
       "        vertical-align: top;\n",
       "    }\n",
       "\n",
       "    .dataframe thead th {\n",
       "        text-align: right;\n",
       "    }\n",
       "</style>\n",
       "<table border=\"1\" class=\"dataframe\">\n",
       "  <thead>\n",
       "    <tr style=\"text-align: right;\">\n",
       "      <th></th>\n",
       "      <th>col_0</th>\n",
       "      <th>count</th>\n",
       "      <th>proportion</th>\n",
       "    </tr>\n",
       "  </thead>\n",
       "  <tbody>\n",
       "    <tr>\n",
       "      <th>0</th>\n",
       "      <td>0</td>\n",
       "      <td>1</td>\n",
       "      <td>0.88121</td>\n",
       "    </tr>\n",
       "    <tr>\n",
       "      <th>1</th>\n",
       "      <td>1</td>\n",
       "      <td>2</td>\n",
       "      <td>0.08925</td>\n",
       "    </tr>\n",
       "    <tr>\n",
       "      <th>2</th>\n",
       "      <td>2</td>\n",
       "      <td>3</td>\n",
       "      <td>0.01989</td>\n",
       "    </tr>\n",
       "    <tr>\n",
       "      <th>3</th>\n",
       "      <td>3</td>\n",
       "      <td>4</td>\n",
       "      <td>0.00575</td>\n",
       "    </tr>\n",
       "    <tr>\n",
       "      <th>4</th>\n",
       "      <td>4</td>\n",
       "      <td>5</td>\n",
       "      <td>0.00156</td>\n",
       "    </tr>\n",
       "    <tr>\n",
       "      <th>...</th>\n",
       "      <td>...</td>\n",
       "      <td>...</td>\n",
       "      <td>...</td>\n",
       "    </tr>\n",
       "    <tr>\n",
       "      <th>85</th>\n",
       "      <td>85</td>\n",
       "      <td>62</td>\n",
       "      <td>0.00000</td>\n",
       "    </tr>\n",
       "    <tr>\n",
       "      <th>86</th>\n",
       "      <td>86</td>\n",
       "      <td>59</td>\n",
       "      <td>0.00000</td>\n",
       "    </tr>\n",
       "    <tr>\n",
       "      <th>87</th>\n",
       "      <td>87</td>\n",
       "      <td>53</td>\n",
       "      <td>0.00000</td>\n",
       "    </tr>\n",
       "    <tr>\n",
       "      <th>88</th>\n",
       "      <td>88</td>\n",
       "      <td>52</td>\n",
       "      <td>0.00000</td>\n",
       "    </tr>\n",
       "    <tr>\n",
       "      <th>89</th>\n",
       "      <td>89</td>\n",
       "      <td>723</td>\n",
       "      <td>0.00000</td>\n",
       "    </tr>\n",
       "  </tbody>\n",
       "</table>\n",
       "<p>90 rows × 3 columns</p>\n",
       "</div>"
      ],
      "text/plain": [
       "    col_0  count  proportion\n",
       "0       0      1     0.88121\n",
       "1       1      2     0.08925\n",
       "2       2      3     0.01989\n",
       "3       3      4     0.00575\n",
       "4       4      5     0.00156\n",
       "..    ...    ...         ...\n",
       "85     85     62     0.00000\n",
       "86     86     59     0.00000\n",
       "87     87     53     0.00000\n",
       "88     88     52     0.00000\n",
       "89     89    723     0.00000\n",
       "\n",
       "[90 rows x 3 columns]"
      ]
     },
     "execution_count": 2548,
     "metadata": {},
     "output_type": "execute_result"
    }
   ],
   "source": [
    "testaaaaa = testaaaaa.reset_index()\n",
    "testaaaaa = testaaaaa.rename(columns={\"index\": \"col_0\"})\n",
    "testaaaaa"
   ]
  },
  {
   "cell_type": "code",
   "execution_count": null,
   "id": "ee38d62a-13e4-4f64-baa2-ebd1e94d47d4",
   "metadata": {},
   "outputs": [],
   "source": [
    " "
   ]
  },
  {
   "cell_type": "code",
   "execution_count": 2551,
   "id": "0680abb3-076f-46ce-a38a-c4953c7b1462",
   "metadata": {},
   "outputs": [
    {
     "ename": "KeyError",
     "evalue": "'col_0'",
     "output_type": "error",
     "traceback": [
      "\u001b[1;31m---------------------------------------------------------------------------\u001b[0m",
      "\u001b[1;31mKeyError\u001b[0m                                  Traceback (most recent call last)",
      "\u001b[1;32m~\\AppData\\Local\\Temp\\ipykernel_1752\\1297428079.py\u001b[0m in \u001b[0;36m?\u001b[1;34m()\u001b[0m\n\u001b[1;32m----> 1\u001b[1;33m \u001b[0mresult\u001b[0m \u001b[1;33m=\u001b[0m \u001b[0mpd\u001b[0m\u001b[1;33m.\u001b[0m\u001b[0mmerge\u001b[0m\u001b[1;33m(\u001b[0m\u001b[0mtestaaaaa\u001b[0m\u001b[1;33m,\u001b[0m \u001b[0mtestvvvv\u001b[0m\u001b[1;33m,\u001b[0m \u001b[0mon\u001b[0m\u001b[1;33m=\u001b[0m\u001b[1;34m\"col_0\"\u001b[0m\u001b[1;33m)\u001b[0m\u001b[1;33m\u001b[0m\u001b[1;33m\u001b[0m\u001b[0m\n\u001b[0m\u001b[0;32m      2\u001b[0m \u001b[1;33m\u001b[0m\u001b[0m\n",
      "\u001b[1;32m~\\anaconda3\\Lib\\site-packages\\pandas\\core\\reshape\\merge.py\u001b[0m in \u001b[0;36m?\u001b[1;34m(left, right, how, on, left_on, right_on, left_index, right_index, sort, suffixes, copy, indicator, validate)\u001b[0m\n\u001b[0;32m    166\u001b[0m             \u001b[0mvalidate\u001b[0m\u001b[1;33m=\u001b[0m\u001b[0mvalidate\u001b[0m\u001b[1;33m,\u001b[0m\u001b[1;33m\u001b[0m\u001b[1;33m\u001b[0m\u001b[0m\n\u001b[0;32m    167\u001b[0m             \u001b[0mcopy\u001b[0m\u001b[1;33m=\u001b[0m\u001b[0mcopy\u001b[0m\u001b[1;33m,\u001b[0m\u001b[1;33m\u001b[0m\u001b[1;33m\u001b[0m\u001b[0m\n\u001b[0;32m    168\u001b[0m         \u001b[1;33m)\u001b[0m\u001b[1;33m\u001b[0m\u001b[1;33m\u001b[0m\u001b[0m\n\u001b[0;32m    169\u001b[0m     \u001b[1;32melse\u001b[0m\u001b[1;33m:\u001b[0m\u001b[1;33m\u001b[0m\u001b[1;33m\u001b[0m\u001b[0m\n\u001b[1;32m--> 170\u001b[1;33m         op = _MergeOperation(\n\u001b[0m\u001b[0;32m    171\u001b[0m             \u001b[0mleft_df\u001b[0m\u001b[1;33m,\u001b[0m\u001b[1;33m\u001b[0m\u001b[1;33m\u001b[0m\u001b[0m\n\u001b[0;32m    172\u001b[0m             \u001b[0mright_df\u001b[0m\u001b[1;33m,\u001b[0m\u001b[1;33m\u001b[0m\u001b[1;33m\u001b[0m\u001b[0m\n\u001b[0;32m    173\u001b[0m             \u001b[0mhow\u001b[0m\u001b[1;33m=\u001b[0m\u001b[0mhow\u001b[0m\u001b[1;33m,\u001b[0m\u001b[1;33m\u001b[0m\u001b[1;33m\u001b[0m\u001b[0m\n",
      "\u001b[1;32m~\\anaconda3\\Lib\\site-packages\\pandas\\core\\reshape\\merge.py\u001b[0m in \u001b[0;36m?\u001b[1;34m(self, left, right, how, on, left_on, right_on, left_index, right_index, sort, suffixes, indicator, validate)\u001b[0m\n\u001b[0;32m    790\u001b[0m             \u001b[0mself\u001b[0m\u001b[1;33m.\u001b[0m\u001b[0mright_join_keys\u001b[0m\u001b[1;33m,\u001b[0m\u001b[1;33m\u001b[0m\u001b[1;33m\u001b[0m\u001b[0m\n\u001b[0;32m    791\u001b[0m             \u001b[0mself\u001b[0m\u001b[1;33m.\u001b[0m\u001b[0mjoin_names\u001b[0m\u001b[1;33m,\u001b[0m\u001b[1;33m\u001b[0m\u001b[1;33m\u001b[0m\u001b[0m\n\u001b[0;32m    792\u001b[0m             \u001b[0mleft_drop\u001b[0m\u001b[1;33m,\u001b[0m\u001b[1;33m\u001b[0m\u001b[1;33m\u001b[0m\u001b[0m\n\u001b[0;32m    793\u001b[0m             \u001b[0mright_drop\u001b[0m\u001b[1;33m,\u001b[0m\u001b[1;33m\u001b[0m\u001b[1;33m\u001b[0m\u001b[0m\n\u001b[1;32m--> 794\u001b[1;33m         \u001b[1;33m)\u001b[0m \u001b[1;33m=\u001b[0m \u001b[0mself\u001b[0m\u001b[1;33m.\u001b[0m\u001b[0m_get_merge_keys\u001b[0m\u001b[1;33m(\u001b[0m\u001b[1;33m)\u001b[0m\u001b[1;33m\u001b[0m\u001b[1;33m\u001b[0m\u001b[0m\n\u001b[0m\u001b[0;32m    795\u001b[0m \u001b[1;33m\u001b[0m\u001b[0m\n\u001b[0;32m    796\u001b[0m         \u001b[1;32mif\u001b[0m \u001b[0mleft_drop\u001b[0m\u001b[1;33m:\u001b[0m\u001b[1;33m\u001b[0m\u001b[1;33m\u001b[0m\u001b[0m\n\u001b[0;32m    797\u001b[0m             \u001b[0mself\u001b[0m\u001b[1;33m.\u001b[0m\u001b[0mleft\u001b[0m \u001b[1;33m=\u001b[0m \u001b[0mself\u001b[0m\u001b[1;33m.\u001b[0m\u001b[0mleft\u001b[0m\u001b[1;33m.\u001b[0m\u001b[0m_drop_labels_or_levels\u001b[0m\u001b[1;33m(\u001b[0m\u001b[0mleft_drop\u001b[0m\u001b[1;33m)\u001b[0m\u001b[1;33m\u001b[0m\u001b[1;33m\u001b[0m\u001b[0m\n",
      "\u001b[1;32m~\\anaconda3\\Lib\\site-packages\\pandas\\core\\reshape\\merge.py\u001b[0m in \u001b[0;36m?\u001b[1;34m(self)\u001b[0m\n\u001b[0;32m   1293\u001b[0m                         \u001b[1;31m# Then we're either Hashable or a wrong-length arraylike,\u001b[0m\u001b[1;33m\u001b[0m\u001b[1;33m\u001b[0m\u001b[0m\n\u001b[0;32m   1294\u001b[0m                         \u001b[1;31m#  the latter of which will raise\u001b[0m\u001b[1;33m\u001b[0m\u001b[1;33m\u001b[0m\u001b[0m\n\u001b[0;32m   1295\u001b[0m                         \u001b[0mrk\u001b[0m \u001b[1;33m=\u001b[0m \u001b[0mcast\u001b[0m\u001b[1;33m(\u001b[0m\u001b[0mHashable\u001b[0m\u001b[1;33m,\u001b[0m \u001b[0mrk\u001b[0m\u001b[1;33m)\u001b[0m\u001b[1;33m\u001b[0m\u001b[1;33m\u001b[0m\u001b[0m\n\u001b[0;32m   1296\u001b[0m                         \u001b[1;32mif\u001b[0m \u001b[0mrk\u001b[0m \u001b[1;32mis\u001b[0m \u001b[1;32mnot\u001b[0m \u001b[1;32mNone\u001b[0m\u001b[1;33m:\u001b[0m\u001b[1;33m\u001b[0m\u001b[1;33m\u001b[0m\u001b[0m\n\u001b[1;32m-> 1297\u001b[1;33m                             \u001b[0mright_keys\u001b[0m\u001b[1;33m.\u001b[0m\u001b[0mappend\u001b[0m\u001b[1;33m(\u001b[0m\u001b[0mright\u001b[0m\u001b[1;33m.\u001b[0m\u001b[0m_get_label_or_level_values\u001b[0m\u001b[1;33m(\u001b[0m\u001b[0mrk\u001b[0m\u001b[1;33m)\u001b[0m\u001b[1;33m)\u001b[0m\u001b[1;33m\u001b[0m\u001b[1;33m\u001b[0m\u001b[0m\n\u001b[0m\u001b[0;32m   1298\u001b[0m                         \u001b[1;32melse\u001b[0m\u001b[1;33m:\u001b[0m\u001b[1;33m\u001b[0m\u001b[1;33m\u001b[0m\u001b[0m\n\u001b[0;32m   1299\u001b[0m                             \u001b[1;31m# work-around for merge_asof(right_index=True)\u001b[0m\u001b[1;33m\u001b[0m\u001b[1;33m\u001b[0m\u001b[0m\n\u001b[0;32m   1300\u001b[0m                             \u001b[0mright_keys\u001b[0m\u001b[1;33m.\u001b[0m\u001b[0mappend\u001b[0m\u001b[1;33m(\u001b[0m\u001b[0mright\u001b[0m\u001b[1;33m.\u001b[0m\u001b[0mindex\u001b[0m\u001b[1;33m.\u001b[0m\u001b[0m_values\u001b[0m\u001b[1;33m)\u001b[0m\u001b[1;33m\u001b[0m\u001b[1;33m\u001b[0m\u001b[0m\n",
      "\u001b[1;32m~\\anaconda3\\Lib\\site-packages\\pandas\\core\\generic.py\u001b[0m in \u001b[0;36m?\u001b[1;34m(self, key, axis)\u001b[0m\n\u001b[0;32m   1907\u001b[0m             \u001b[0mvalues\u001b[0m \u001b[1;33m=\u001b[0m \u001b[0mself\u001b[0m\u001b[1;33m.\u001b[0m\u001b[0mxs\u001b[0m\u001b[1;33m(\u001b[0m\u001b[0mkey\u001b[0m\u001b[1;33m,\u001b[0m \u001b[0maxis\u001b[0m\u001b[1;33m=\u001b[0m\u001b[0mother_axes\u001b[0m\u001b[1;33m[\u001b[0m\u001b[1;36m0\u001b[0m\u001b[1;33m]\u001b[0m\u001b[1;33m)\u001b[0m\u001b[1;33m.\u001b[0m\u001b[0m_values\u001b[0m\u001b[1;33m\u001b[0m\u001b[1;33m\u001b[0m\u001b[0m\n\u001b[0;32m   1908\u001b[0m         \u001b[1;32melif\u001b[0m \u001b[0mself\u001b[0m\u001b[1;33m.\u001b[0m\u001b[0m_is_level_reference\u001b[0m\u001b[1;33m(\u001b[0m\u001b[0mkey\u001b[0m\u001b[1;33m,\u001b[0m \u001b[0maxis\u001b[0m\u001b[1;33m=\u001b[0m\u001b[0maxis\u001b[0m\u001b[1;33m)\u001b[0m\u001b[1;33m:\u001b[0m\u001b[1;33m\u001b[0m\u001b[1;33m\u001b[0m\u001b[0m\n\u001b[0;32m   1909\u001b[0m             \u001b[0mvalues\u001b[0m \u001b[1;33m=\u001b[0m \u001b[0mself\u001b[0m\u001b[1;33m.\u001b[0m\u001b[0maxes\u001b[0m\u001b[1;33m[\u001b[0m\u001b[0maxis\u001b[0m\u001b[1;33m]\u001b[0m\u001b[1;33m.\u001b[0m\u001b[0mget_level_values\u001b[0m\u001b[1;33m(\u001b[0m\u001b[0mkey\u001b[0m\u001b[1;33m)\u001b[0m\u001b[1;33m.\u001b[0m\u001b[0m_values\u001b[0m\u001b[1;33m\u001b[0m\u001b[1;33m\u001b[0m\u001b[0m\n\u001b[0;32m   1910\u001b[0m         \u001b[1;32melse\u001b[0m\u001b[1;33m:\u001b[0m\u001b[1;33m\u001b[0m\u001b[1;33m\u001b[0m\u001b[0m\n\u001b[1;32m-> 1911\u001b[1;33m             \u001b[1;32mraise\u001b[0m \u001b[0mKeyError\u001b[0m\u001b[1;33m(\u001b[0m\u001b[0mkey\u001b[0m\u001b[1;33m)\u001b[0m\u001b[1;33m\u001b[0m\u001b[1;33m\u001b[0m\u001b[0m\n\u001b[0m\u001b[0;32m   1912\u001b[0m \u001b[1;33m\u001b[0m\u001b[0m\n\u001b[0;32m   1913\u001b[0m         \u001b[1;31m# Check for duplicates\u001b[0m\u001b[1;33m\u001b[0m\u001b[1;33m\u001b[0m\u001b[0m\n\u001b[0;32m   1914\u001b[0m         \u001b[1;32mif\u001b[0m \u001b[0mvalues\u001b[0m\u001b[1;33m.\u001b[0m\u001b[0mndim\u001b[0m \u001b[1;33m>\u001b[0m \u001b[1;36m1\u001b[0m\u001b[1;33m:\u001b[0m\u001b[1;33m\u001b[0m\u001b[1;33m\u001b[0m\u001b[0m\n",
      "\u001b[1;31mKeyError\u001b[0m: 'col_0'"
     ]
    }
   ],
   "source": [
    "result = pd.merge(testvvvv, testaaaaa, on=\"col_0\")\n",
    "\n"
   ]
  },
  {
   "cell_type": "code",
   "execution_count": null,
   "id": "bac3f478-8818-41d9-b54e-20b4e795084a",
   "metadata": {},
   "outputs": [],
   "source": []
  },
  {
   "cell_type": "code",
   "execution_count": null,
   "id": "e709e400-fbdf-42fa-af3b-0c28357b71a0",
   "metadata": {},
   "outputs": [],
   "source": []
  },
  {
   "cell_type": "code",
   "execution_count": 1854,
   "id": "2cd43447-b158-4fca-aafa-c785fe61fc6a",
   "metadata": {},
   "outputs": [
    {
     "data": {
      "text/plain": [
       "(2077591, 2)"
      ]
     },
     "execution_count": 1854,
     "metadata": {},
     "output_type": "execute_result"
    }
   ],
   "source": [
    "test2323.shape"
   ]
  },
  {
   "cell_type": "code",
   "execution_count": 1868,
   "id": "dfba3628-206c-4540-8b1c-68404fdd0464",
   "metadata": {},
   "outputs": [
    {
     "data": {
      "text/html": [
       "<div>\n",
       "<style scoped>\n",
       "    .dataframe tbody tr th:only-of-type {\n",
       "        vertical-align: middle;\n",
       "    }\n",
       "\n",
       "    .dataframe tbody tr th {\n",
       "        vertical-align: top;\n",
       "    }\n",
       "\n",
       "    .dataframe thead th {\n",
       "        text-align: right;\n",
       "    }\n",
       "</style>\n",
       "<table border=\"1\" class=\"dataframe\">\n",
       "  <thead>\n",
       "    <tr style=\"text-align: right;\">\n",
       "      <th>col_0</th>\n",
       "      <th>title</th>\n",
       "      <th>count</th>\n",
       "    </tr>\n",
       "  </thead>\n",
       "  <tbody>\n",
       "    <tr>\n",
       "      <th>558212</th>\n",
       "      <td>EYNMVR Oversized Sweatshirts for Women Tie Dye...</td>\n",
       "      <td>1</td>\n",
       "    </tr>\n",
       "    <tr>\n",
       "      <th>1568633</th>\n",
       "      <td>SecureFix Direct Horse Treat Ball Toy (Stable ...</td>\n",
       "      <td>1</td>\n",
       "    </tr>\n",
       "    <tr>\n",
       "      <th>1834247</th>\n",
       "      <td>Voltage Regulator Reliable for Generators</td>\n",
       "      <td>1</td>\n",
       "    </tr>\n",
       "    <tr>\n",
       "      <th>1446096</th>\n",
       "      <td>REHJJDFD Women Knitted Midi Sweater Dress Wome...</td>\n",
       "      <td>1</td>\n",
       "    </tr>\n",
       "    <tr>\n",
       "      <th>1170538</th>\n",
       "      <td>Mini Mechanical Keyboard, Acrylic Computer Uni...</td>\n",
       "      <td>1</td>\n",
       "    </tr>\n",
       "    <tr>\n",
       "      <th>229511</th>\n",
       "      <td>B.O.T. Cosmetics &amp; Wellness - Organic Peppermi...</td>\n",
       "      <td>1</td>\n",
       "    </tr>\n",
       "    <tr>\n",
       "      <th>2060059</th>\n",
       "      <td>slam ball Adjustable Fitness Aqua Bag for Home...</td>\n",
       "      <td>1</td>\n",
       "    </tr>\n",
       "    <tr>\n",
       "      <th>871536</th>\n",
       "      <td>Imation - CDRW 4-12X 10-pack Retail showbox - MTV</td>\n",
       "      <td>1</td>\n",
       "    </tr>\n",
       "    <tr>\n",
       "      <th>706769</th>\n",
       "      <td>Garden Wooden Greenhouse Cold frame, Transpare...</td>\n",
       "      <td>1</td>\n",
       "    </tr>\n",
       "    <tr>\n",
       "      <th>1776013</th>\n",
       "      <td>Ultra Fine Filter Cartridges 9991432-R4 Roboti...</td>\n",
       "      <td>1</td>\n",
       "    </tr>\n",
       "  </tbody>\n",
       "</table>\n",
       "</div>"
      ],
      "text/plain": [
       "col_0                                                title  count\n",
       "558212   EYNMVR Oversized Sweatshirts for Women Tie Dye...      1\n",
       "1568633  SecureFix Direct Horse Treat Ball Toy (Stable ...      1\n",
       "1834247          Voltage Regulator Reliable for Generators      1\n",
       "1446096  REHJJDFD Women Knitted Midi Sweater Dress Wome...      1\n",
       "1170538  Mini Mechanical Keyboard, Acrylic Computer Uni...      1\n",
       "229511   B.O.T. Cosmetics & Wellness - Organic Peppermi...      1\n",
       "2060059  slam ball Adjustable Fitness Aqua Bag for Home...      1\n",
       "871536   Imation - CDRW 4-12X 10-pack Retail showbox - MTV      1\n",
       "706769   Garden Wooden Greenhouse Cold frame, Transpare...      1\n",
       "1776013  Ultra Fine Filter Cartridges 9991432-R4 Roboti...      1"
      ]
     },
     "execution_count": 1868,
     "metadata": {},
     "output_type": "execute_result"
    }
   ],
   "source": [
    "test2323.sample(10)"
   ]
  },
  {
   "cell_type": "code",
   "execution_count": 1860,
   "id": "597708e7-dbe8-4efb-82eb-413232868b6d",
   "metadata": {},
   "outputs": [
    {
     "data": {
      "text/plain": [
       "723"
      ]
     },
     "execution_count": 1860,
     "metadata": {},
     "output_type": "execute_result"
    }
   ],
   "source": [
    "test2323[\"count\"].max()"
   ]
  },
  {
   "cell_type": "markdown",
   "id": "cdceaff3-977e-4b41-a4c2-8be69f3e3395",
   "metadata": {},
   "source": [
    "#### data"
   ]
  },
  {
   "cell_type": "code",
   "execution_count": 3051,
   "id": "4cdd1df2-9edf-4e91-94a3-7ceea8744098",
   "metadata": {},
   "outputs": [],
   "source": [
    "test_measures = test_measures_of_dispersion.copy()"
   ]
  },
  {
   "cell_type": "code",
   "execution_count": 3091,
   "id": "0ed5b1ac-2389-40b9-b7de-15a876a120a2",
   "metadata": {},
   "outputs": [
    {
     "data": {
      "text/html": [
       "<div>\n",
       "<style scoped>\n",
       "    .dataframe tbody tr th:only-of-type {\n",
       "        vertical-align: middle;\n",
       "    }\n",
       "\n",
       "    .dataframe tbody tr th {\n",
       "        vertical-align: top;\n",
       "    }\n",
       "\n",
       "    .dataframe thead th {\n",
       "        text-align: right;\n",
       "    }\n",
       "</style>\n",
       "<table border=\"1\" class=\"dataframe\">\n",
       "  <thead>\n",
       "    <tr style=\"text-align: right;\">\n",
       "      <th></th>\n",
       "      <th>title</th>\n",
       "      <th>category</th>\n",
       "      <th>price</th>\n",
       "    </tr>\n",
       "  </thead>\n",
       "  <tbody>\n",
       "    <tr>\n",
       "      <th>0</th>\n",
       "      <td>Echo Dot (5th generation, 2022 release) | Big ...</td>\n",
       "      <td>Hi-Fi Speakers</td>\n",
       "      <td>21.99</td>\n",
       "    </tr>\n",
       "  </tbody>\n",
       "</table>\n",
       "</div>"
      ],
      "text/plain": [
       "                                               title        category  price\n",
       "0  Echo Dot (5th generation, 2022 release) | Big ...  Hi-Fi Speakers  21.99"
      ]
     },
     "execution_count": 3091,
     "metadata": {},
     "output_type": "execute_result"
    }
   ],
   "source": [
    "test_measures.head(1)"
   ]
  },
  {
   "cell_type": "code",
   "execution_count": 3093,
   "id": "a64e417a-da88-4df3-a130-c22873663fa0",
   "metadata": {},
   "outputs": [
    {
     "data": {
      "text/html": [
       "<div>\n",
       "<style scoped>\n",
       "    .dataframe tbody tr th:only-of-type {\n",
       "        vertical-align: middle;\n",
       "    }\n",
       "\n",
       "    .dataframe tbody tr th {\n",
       "        vertical-align: top;\n",
       "    }\n",
       "\n",
       "    .dataframe thead th {\n",
       "        text-align: right;\n",
       "    }\n",
       "</style>\n",
       "<table border=\"1\" class=\"dataframe\">\n",
       "  <thead>\n",
       "    <tr style=\"text-align: right;\">\n",
       "      <th></th>\n",
       "      <th>title</th>\n",
       "      <th>category</th>\n",
       "      <th>price</th>\n",
       "    </tr>\n",
       "  </thead>\n",
       "  <tbody>\n",
       "    <tr>\n",
       "      <th>0</th>\n",
       "      <td>Echo Dot (5th generation, 2022 release) | Big ...</td>\n",
       "      <td>Hi-Fi Speakers</td>\n",
       "      <td>21.99</td>\n",
       "    </tr>\n",
       "  </tbody>\n",
       "</table>\n",
       "</div>"
      ],
      "text/plain": [
       "                                               title        category  price\n",
       "0  Echo Dot (5th generation, 2022 release) | Big ...  Hi-Fi Speakers  21.99"
      ]
     },
     "execution_count": 3093,
     "metadata": {},
     "output_type": "execute_result"
    }
   ],
   "source": [
    "test_measures['price'] = test_measures['price'].round(5)\n",
    "test_measures.head(1)"
   ]
  },
  {
   "cell_type": "code",
   "execution_count": 3057,
   "id": "a5d4242d-bfac-4c38-89f7-51ba58c34523",
   "metadata": {},
   "outputs": [
    {
     "data": {
      "text/plain": [
       "(2443651, 3)"
      ]
     },
     "execution_count": 3057,
     "metadata": {},
     "output_type": "execute_result"
    }
   ],
   "source": [
    "test_measures.shape"
   ]
  },
  {
   "cell_type": "code",
   "execution_count": 3061,
   "id": "66792af5-0473-4e4f-9fea-caa495a6af70",
   "metadata": {},
   "outputs": [
    {
     "data": {
      "text/html": [
       "<div>\n",
       "<style scoped>\n",
       "    .dataframe tbody tr th:only-of-type {\n",
       "        vertical-align: middle;\n",
       "    }\n",
       "\n",
       "    .dataframe tbody tr th {\n",
       "        vertical-align: top;\n",
       "    }\n",
       "\n",
       "    .dataframe thead th {\n",
       "        text-align: right;\n",
       "    }\n",
       "</style>\n",
       "<table border=\"1\" class=\"dataframe\">\n",
       "  <thead>\n",
       "    <tr style=\"text-align: right;\">\n",
       "      <th></th>\n",
       "      <th>title</th>\n",
       "      <th>category</th>\n",
       "      <th>price</th>\n",
       "    </tr>\n",
       "  </thead>\n",
       "  <tbody>\n",
       "    <tr>\n",
       "      <th>0</th>\n",
       "      <td>Echo Dot (5th generation, 2022 release) | Big ...</td>\n",
       "      <td>Hi-Fi Speakers</td>\n",
       "      <td>21.99</td>\n",
       "    </tr>\n",
       "    <tr>\n",
       "      <th>1</th>\n",
       "      <td>Anker Soundcore mini, Super-Portable Bluetooth...</td>\n",
       "      <td>Hi-Fi Speakers</td>\n",
       "      <td>23.99</td>\n",
       "    </tr>\n",
       "  </tbody>\n",
       "</table>\n",
       "</div>"
      ],
      "text/plain": [
       "                                               title        category  price\n",
       "0  Echo Dot (5th generation, 2022 release) | Big ...  Hi-Fi Speakers  21.99\n",
       "1  Anker Soundcore mini, Super-Portable Bluetooth...  Hi-Fi Speakers  23.99"
      ]
     },
     "execution_count": 3061,
     "metadata": {},
     "output_type": "execute_result"
    }
   ],
   "source": [
    "#test2323 = test2323.sort_values(by=\"count\", ascending=False)\n",
    "#test_measures  = test_measures[\"category\"].value_counts()\n",
    "test_measures.head(2)"
   ]
  },
  {
   "cell_type": "code",
   "execution_count": null,
   "id": "6f51772e-ecec-48a0-a2d7-58e30bb3f234",
   "metadata": {},
   "outputs": [],
   "source": []
  },
  {
   "cell_type": "code",
   "execution_count": 2943,
   "id": "e6a5e8ec-609a-49b5-83e9-5b557ede7da4",
   "metadata": {},
   "outputs": [],
   "source": [
    "xd = test_measures.describe()  #std **2 variaza, 0-10 normal -10-50 morderate  +50 alta\n",
    "xd = xd.reset_index()"
   ]
  },
  {
   "cell_type": "code",
   "execution_count": 2951,
   "id": "32de8fb3-9621-43fa-832f-bf8b76e41049",
   "metadata": {},
   "outputs": [],
   "source": [
    "xd[\"price\"] = xd[\"price\"].round(2)"
   ]
  },
  {
   "cell_type": "code",
   "execution_count": 2953,
   "id": "e4a4ad58-1bab-439e-aaa9-bb86308adccc",
   "metadata": {},
   "outputs": [
    {
     "data": {
      "text/html": [
       "<div>\n",
       "<style scoped>\n",
       "    .dataframe tbody tr th:only-of-type {\n",
       "        vertical-align: middle;\n",
       "    }\n",
       "\n",
       "    .dataframe tbody tr th {\n",
       "        vertical-align: top;\n",
       "    }\n",
       "\n",
       "    .dataframe thead th {\n",
       "        text-align: right;\n",
       "    }\n",
       "</style>\n",
       "<table border=\"1\" class=\"dataframe\">\n",
       "  <thead>\n",
       "    <tr style=\"text-align: right;\">\n",
       "      <th></th>\n",
       "      <th>index</th>\n",
       "      <th>price</th>\n",
       "    </tr>\n",
       "  </thead>\n",
       "  <tbody>\n",
       "    <tr>\n",
       "      <th>0</th>\n",
       "      <td>count</td>\n",
       "      <td>2443651.00</td>\n",
       "    </tr>\n",
       "    <tr>\n",
       "      <th>1</th>\n",
       "      <td>mean</td>\n",
       "      <td>89.24</td>\n",
       "    </tr>\n",
       "    <tr>\n",
       "      <th>2</th>\n",
       "      <td>std</td>\n",
       "      <td>345.61</td>\n",
       "    </tr>\n",
       "    <tr>\n",
       "      <th>3</th>\n",
       "      <td>min</td>\n",
       "      <td>0.00</td>\n",
       "    </tr>\n",
       "    <tr>\n",
       "      <th>4</th>\n",
       "      <td>25%</td>\n",
       "      <td>9.99</td>\n",
       "    </tr>\n",
       "    <tr>\n",
       "      <th>5</th>\n",
       "      <td>50%</td>\n",
       "      <td>19.09</td>\n",
       "    </tr>\n",
       "    <tr>\n",
       "      <th>6</th>\n",
       "      <td>75%</td>\n",
       "      <td>45.99</td>\n",
       "    </tr>\n",
       "    <tr>\n",
       "      <th>7</th>\n",
       "      <td>max</td>\n",
       "      <td>100000.00</td>\n",
       "    </tr>\n",
       "  </tbody>\n",
       "</table>\n",
       "</div>"
      ],
      "text/plain": [
       "   index       price\n",
       "0  count  2443651.00\n",
       "1   mean       89.24\n",
       "2    std      345.61\n",
       "3    min        0.00\n",
       "4    25%        9.99\n",
       "5    50%       19.09\n",
       "6    75%       45.99\n",
       "7    max   100000.00"
      ]
     },
     "execution_count": 2953,
     "metadata": {},
     "output_type": "execute_result"
    }
   ],
   "source": [
    "xd"
   ]
  },
  {
   "cell_type": "code",
   "execution_count": 3063,
   "id": "c0e9c9ed-c03c-4853-a183-2e72b2f0f2cd",
   "metadata": {},
   "outputs": [
    {
     "data": {
      "text/plain": [
       "100000.0"
      ]
     },
     "execution_count": 3063,
     "metadata": {},
     "output_type": "execute_result"
    }
   ],
   "source": [
    "df[\"price\"].max()"
   ]
  },
  {
   "cell_type": "code",
   "execution_count": 3073,
   "id": "2c335886-c0ed-4227-98bb-fcfdfed8d3ca",
   "metadata": {},
   "outputs": [
    {
     "data": {
      "text/plain": [
       "119446.27210000002"
      ]
     },
     "execution_count": 3073,
     "metadata": {},
     "output_type": "execute_result"
    }
   ],
   "source": [
    "c = 345.61 ** 2\n",
    "c  "
   ]
  },
  {
   "cell_type": "code",
   "execution_count": null,
   "id": "f08ba95f-083d-480e-9c87-2bca52d507ee",
   "metadata": {},
   "outputs": [],
   "source": [
    "#There is significant dispersion in the products, considering that the variance is 119446.27\n"
   ]
  },
  {
   "cell_type": "code",
   "execution_count": null,
   "id": "2b24f18c-f3ab-42b2-98b5-b521c7b14bad",
   "metadata": {},
   "outputs": [],
   "source": []
  },
  {
   "cell_type": "code",
   "execution_count": 3083,
   "id": "8e6600c2-6e77-475f-8568-218c51871981",
   "metadata": {},
   "outputs": [],
   "source": [
    "p1 = 9.99  # q1\n",
    "p3 = 45.99  # q3\n",
    "\n",
    "#IQR \n",
    "iqr = p3 - p1\n",
    "\n",
    "lim_sup = p3 + 1.5 * iqr  #limit superior\n",
    "lim_inf = p1 - 1.5 * iqr  #limit inferior\n",
    "\n",
    "var = 345.61 ** 2"
   ]
  },
  {
   "cell_type": "code",
   "execution_count": 3085,
   "id": "401a8bef-fbe1-4fdd-8c31-f26606c3cc8b",
   "metadata": {},
   "outputs": [
    {
     "data": {
      "text/plain": [
       "119446.27210000002"
      ]
     },
     "execution_count": 3085,
     "metadata": {},
     "output_type": "execute_result"
    }
   ],
   "source": [
    "var"
   ]
  },
  {
   "cell_type": "code",
   "execution_count": 3000,
   "id": "0547b27a-d12b-4b58-a48b-7532b0d9f62a",
   "metadata": {},
   "outputs": [
    {
     "data": {
      "text/plain": [
       "36.0"
      ]
     },
     "execution_count": 3000,
     "metadata": {},
     "output_type": "execute_result"
    }
   ],
   "source": [
    "iqr"
   ]
  },
  {
   "cell_type": "code",
   "execution_count": 3077,
   "id": "fbd04e71-c85d-43df-be61-a5741b7082e1",
   "metadata": {},
   "outputs": [
    {
     "data": {
      "text/plain": [
       "99.99000000000001"
      ]
     },
     "execution_count": 3077,
     "metadata": {},
     "output_type": "execute_result"
    }
   ],
   "source": [
    "lim_sup"
   ]
  },
  {
   "cell_type": "code",
   "execution_count": 3004,
   "id": "b0b50b05-ecc0-46ca-8fd4-ce9771201c41",
   "metadata": {},
   "outputs": [
    {
     "data": {
      "text/plain": [
       "-44.01"
      ]
     },
     "execution_count": 3004,
     "metadata": {},
     "output_type": "execute_result"
    }
   ],
   "source": [
    "lim_inf"
   ]
  },
  {
   "cell_type": "code",
   "execution_count": null,
   "id": "ea06cf1f-7820-4f12-b695-851a9a94f38e",
   "metadata": {},
   "outputs": [],
   "source": []
  },
  {
   "cell_type": "code",
   "execution_count": 3101,
   "id": "284a95e5-6590-4631-97c0-63f6ba78e675",
   "metadata": {},
   "outputs": [],
   "source": [
    "#range  max\t  100000.00     min\t0.00\n",
    "\n",
    "# mean\t89.24     std\t345.61 \n",
    "\n",
    "#There is significant dispersion in the products, considering that the variance is 119446.27   // std **2\n",
    "\n",
    "# IQR  min -44.01 max 99.990     (q3 - q1  = x  //  q3 + 1.5 * x (max)  // q1 - 1.5 * x (min)  \n"
   ]
  },
  {
   "cell_type": "code",
   "execution_count": null,
   "id": "10c8f49e-a382-4cdb-920e-4cc6395ba793",
   "metadata": {},
   "outputs": [],
   "source": []
  },
  {
   "cell_type": "code",
   "execution_count": null,
   "id": "a1906feb-606f-40f3-81db-e00859a7a0ce",
   "metadata": {},
   "outputs": [],
   "source": []
  },
  {
   "cell_type": "markdown",
   "id": "4595f7cf-6834-4fe6-a7ac-07f3c6070089",
   "metadata": {},
   "source": [
    "### 3 Visualizations:\n",
    "\n",
    "- Is there a specific price range where most products fall? Plot a histogram to visualize the distribution of product prices. If its hard to read these diagrams, think why this is, and explain how it could be solved..\n",
    "- Are there products that are priced significantly higher than the rest? Use a box plot to showcase the spread and potential outliers in product pricing."
   ]
  },
  {
   "cell_type": "code",
   "execution_count": null,
   "id": "e3aae25b-d7e7-4d28-aa82-bdb35b352aaf",
   "metadata": {},
   "outputs": [],
   "source": []
  },
  {
   "cell_type": "code",
   "execution_count": null,
   "id": "50cc6c1c-5d7e-44c6-9b54-47e35802d31d",
   "metadata": {},
   "outputs": [],
   "source": []
  },
  {
   "cell_type": "code",
   "execution_count": null,
   "id": "0d31dbe9-73c2-4edf-a4d1-372694855764",
   "metadata": {},
   "outputs": [],
   "source": []
  },
  {
   "cell_type": "code",
   "execution_count": null,
   "id": "30140b0c-f42e-48d9-baf1-bc3dcd0c591a",
   "metadata": {},
   "outputs": [],
   "source": []
  },
  {
   "cell_type": "code",
   "execution_count": null,
   "id": "1c9bec9f-86de-4e12-9bff-145b89864620",
   "metadata": {},
   "outputs": [],
   "source": []
  },
  {
   "cell_type": "code",
   "execution_count": null,
   "id": "77d310f2-3ea9-46c8-b5b0-452de2bdf6f0",
   "metadata": {},
   "outputs": [],
   "source": []
  },
  {
   "cell_type": "code",
   "execution_count": null,
   "id": "3a32cddf-5c2a-4a5b-a93c-8a75fa291c15",
   "metadata": {},
   "outputs": [],
   "source": []
  },
  {
   "cell_type": "code",
   "execution_count": null,
   "id": "7476d70f-651c-4909-883f-b345bfa1725a",
   "metadata": {},
   "outputs": [],
   "source": []
  },
  {
   "cell_type": "code",
   "execution_count": null,
   "id": "60488791-4a67-4e55-894a-0cd96956dbe0",
   "metadata": {},
   "outputs": [],
   "source": []
  },
  {
   "cell_type": "code",
   "execution_count": null,
   "id": "a862ace0-1fa6-4d30-af5f-6ad7e08934ae",
   "metadata": {},
   "outputs": [],
   "source": []
  },
  {
   "cell_type": "code",
   "execution_count": null,
   "id": "312466ad-6d32-4bca-b540-84dabd94c46d",
   "metadata": {},
   "outputs": [],
   "source": []
  },
  {
   "cell_type": "code",
   "execution_count": null,
   "id": "d29c9779-8f89-4ece-bc58-7f802a178955",
   "metadata": {},
   "outputs": [],
   "source": []
  },
  {
   "cell_type": "code",
   "execution_count": null,
   "id": "66f9f037-4889-40e8-ae12-1abe13e4a40b",
   "metadata": {},
   "outputs": [],
   "source": []
  },
  {
   "cell_type": "code",
   "execution_count": null,
   "id": "f880c779-35ef-4846-a350-e46ad396c828",
   "metadata": {},
   "outputs": [],
   "source": []
  },
  {
   "cell_type": "code",
   "execution_count": null,
   "id": "9a14767b-5119-41e6-aeea-07b43be2c1b2",
   "metadata": {},
   "outputs": [],
   "source": []
  },
  {
   "cell_type": "code",
   "execution_count": null,
   "id": "153e5871-7318-4ab6-b919-fafd919c4412",
   "metadata": {},
   "outputs": [],
   "source": []
  },
  {
   "cell_type": "code",
   "execution_count": null,
   "id": "bea93a35-b29d-432c-90ce-01d87a803f04",
   "metadata": {},
   "outputs": [],
   "source": []
  },
  {
   "cell_type": "code",
   "execution_count": null,
   "id": "95363fe3-23d9-40ce-bfad-99efcc2b33b0",
   "metadata": {},
   "outputs": [],
   "source": []
  },
  {
   "cell_type": "code",
   "execution_count": null,
   "id": "14221c27-ec97-492d-9643-c8d192f90fd5",
   "metadata": {},
   "outputs": [],
   "source": []
  },
  {
   "cell_type": "code",
   "execution_count": null,
   "id": "988e541f-d1e9-4adb-8708-c17504e6b42a",
   "metadata": {},
   "outputs": [],
   "source": []
  },
  {
   "cell_type": "markdown",
   "id": "39e85e43-8efa-41c7-8d6a-d9167711d539",
   "metadata": {},
   "source": [
    "## Part 3: Unpacking Product Ratings\n",
    "- Business Question: How do customers rate products on Amazon UK, and are there any patterns or tendencies in the ratings?"
   ]
  },
  {
   "cell_type": "markdown",
   "id": "93ad240d-7e37-49f7-a777-cb5546a5513d",
   "metadata": {},
   "source": [
    "### 1.Measures of Centrality:\n",
    "\n",
    "- Calculate the mean, median, and mode for the rating of products.\n",
    "- How do customers generally rate products? Is there a common trend?"
   ]
  },
  {
   "cell_type": "code",
   "execution_count": 3380,
   "id": "b4cfef97-df47-48e2-b0f7-95d1196263bd",
   "metadata": {},
   "outputs": [],
   "source": [
    "df_part3 = df.copy()"
   ]
  },
  {
   "cell_type": "code",
   "execution_count": 3382,
   "id": "37657c3a-857f-4ea0-90c0-bb1c12a9c64e",
   "metadata": {},
   "outputs": [
    {
     "data": {
      "text/html": [
       "<div>\n",
       "<style scoped>\n",
       "    .dataframe tbody tr th:only-of-type {\n",
       "        vertical-align: middle;\n",
       "    }\n",
       "\n",
       "    .dataframe tbody tr th {\n",
       "        vertical-align: top;\n",
       "    }\n",
       "\n",
       "    .dataframe thead th {\n",
       "        text-align: right;\n",
       "    }\n",
       "</style>\n",
       "<table border=\"1\" class=\"dataframe\">\n",
       "  <thead>\n",
       "    <tr style=\"text-align: right;\">\n",
       "      <th></th>\n",
       "      <th>category</th>\n",
       "      <th>stars</th>\n",
       "    </tr>\n",
       "  </thead>\n",
       "  <tbody>\n",
       "    <tr>\n",
       "      <th>0</th>\n",
       "      <td>Hi-Fi Speakers</td>\n",
       "      <td>4.7</td>\n",
       "    </tr>\n",
       "    <tr>\n",
       "      <th>1</th>\n",
       "      <td>Hi-Fi Speakers</td>\n",
       "      <td>4.7</td>\n",
       "    </tr>\n",
       "  </tbody>\n",
       "</table>\n",
       "</div>"
      ],
      "text/plain": [
       "         category  stars\n",
       "0  Hi-Fi Speakers    4.7\n",
       "1  Hi-Fi Speakers    4.7"
      ]
     },
     "execution_count": 3382,
     "metadata": {},
     "output_type": "execute_result"
    }
   ],
   "source": [
    "df_part3 = df_part3[[\"category\", \"stars\"]]\n",
    "df_part3.head(2)"
   ]
  },
  {
   "cell_type": "code",
   "execution_count": 3384,
   "id": "a4e64d74-d4fa-471c-a394-cd1ab37e56f9",
   "metadata": {},
   "outputs": [],
   "source": [
    "mean_part3 = df_part3.groupby(\"category\")[\"stars\"].mean().reset_index().round(2)\n",
    "\n",
    "median_part3 = df_part3.groupby(\"category\")[\"stars\"].median().reset_index().round(2)\n",
    "\n",
    " \n",
    "#mode_part3 = df_part3.groupby(\"category\")[\"stars\"].mode"
   ]
  },
  {
   "cell_type": "code",
   "execution_count": null,
   "id": "73381976-9c65-4a1b-8673-878bd8e6d4d8",
   "metadata": {},
   "outputs": [],
   "source": [
    " \n"
   ]
  },
  {
   "cell_type": "code",
   "execution_count": 3386,
   "id": "c3f8df75-8854-4180-9f0f-d40387c92c89",
   "metadata": {},
   "outputs": [
    {
     "data": {
      "text/html": [
       "<div>\n",
       "<style scoped>\n",
       "    .dataframe tbody tr th:only-of-type {\n",
       "        vertical-align: middle;\n",
       "    }\n",
       "\n",
       "    .dataframe tbody tr th {\n",
       "        vertical-align: top;\n",
       "    }\n",
       "\n",
       "    .dataframe thead th {\n",
       "        text-align: right;\n",
       "    }\n",
       "</style>\n",
       "<table border=\"1\" class=\"dataframe\">\n",
       "  <thead>\n",
       "    <tr style=\"text-align: right;\">\n",
       "      <th></th>\n",
       "      <th>category</th>\n",
       "      <th>stars</th>\n",
       "    </tr>\n",
       "  </thead>\n",
       "  <tbody>\n",
       "    <tr>\n",
       "      <th>0</th>\n",
       "      <td>3D Printers</td>\n",
       "      <td>2.64</td>\n",
       "    </tr>\n",
       "    <tr>\n",
       "      <th>1</th>\n",
       "      <td>3D Printing &amp; Scanning</td>\n",
       "      <td>0.15</td>\n",
       "    </tr>\n",
       "  </tbody>\n",
       "</table>\n",
       "</div>"
      ],
      "text/plain": [
       "                 category  stars\n",
       "0             3D Printers   2.64\n",
       "1  3D Printing & Scanning   0.15"
      ]
     },
     "execution_count": 3386,
     "metadata": {},
     "output_type": "execute_result"
    }
   ],
   "source": [
    "mean_part3.head(2)  \n",
    "#max starts range, 5, minimum 0 "
   ]
  },
  {
   "cell_type": "code",
   "execution_count": 3389,
   "id": "c6bd605c-dbe3-4536-a35f-89928c344e5b",
   "metadata": {},
   "outputs": [
    {
     "data": {
      "text/html": [
       "<div>\n",
       "<style scoped>\n",
       "    .dataframe tbody tr th:only-of-type {\n",
       "        vertical-align: middle;\n",
       "    }\n",
       "\n",
       "    .dataframe tbody tr th {\n",
       "        vertical-align: top;\n",
       "    }\n",
       "\n",
       "    .dataframe thead th {\n",
       "        text-align: right;\n",
       "    }\n",
       "</style>\n",
       "<table border=\"1\" class=\"dataframe\">\n",
       "  <thead>\n",
       "    <tr style=\"text-align: right;\">\n",
       "      <th></th>\n",
       "      <th>category</th>\n",
       "      <th>stars</th>\n",
       "    </tr>\n",
       "  </thead>\n",
       "  <tbody>\n",
       "    <tr>\n",
       "      <th>0</th>\n",
       "      <td>3D Printers</td>\n",
       "      <td>3.9</td>\n",
       "    </tr>\n",
       "    <tr>\n",
       "      <th>1</th>\n",
       "      <td>3D Printing &amp; Scanning</td>\n",
       "      <td>0.0</td>\n",
       "    </tr>\n",
       "    <tr>\n",
       "      <th>2</th>\n",
       "      <td>Abrasive &amp; Finishing Products</td>\n",
       "      <td>4.5</td>\n",
       "    </tr>\n",
       "  </tbody>\n",
       "</table>\n",
       "</div>"
      ],
      "text/plain": [
       "                        category  stars\n",
       "0                    3D Printers    3.9\n",
       "1         3D Printing & Scanning    0.0\n",
       "2  Abrasive & Finishing Products    4.5"
      ]
     },
     "execution_count": 3389,
     "metadata": {},
     "output_type": "execute_result"
    }
   ],
   "source": [
    "median_part3.head(3)"
   ]
  },
  {
   "cell_type": "code",
   "execution_count": 3391,
   "id": "6c5a6265-68b2-4804-b486-761188b633d7",
   "metadata": {},
   "outputs": [
    {
     "data": {
      "text/plain": [
       "(296, 2)"
      ]
     },
     "execution_count": 3391,
     "metadata": {},
     "output_type": "execute_result"
    }
   ],
   "source": [
    "median_part3.shape"
   ]
  },
  {
   "cell_type": "code",
   "execution_count": 3393,
   "id": "6bf789fc-e6a8-4ea5-9225-3173638cef10",
   "metadata": {},
   "outputs": [
    {
     "data": {
      "text/plain": [
       "category                                stars\n",
       "3D Printers                             3.9      1\n",
       "Motorbike Lighting                      0.0      1\n",
       "Motorbike Handlebars, Controls & Grips  0.0      1\n",
       "Motorbike Exhaust & Exhaust Systems     0.0      1\n",
       "Motorbike Engines & Engine Parts        3.1      1\n",
       "                                                ..\n",
       "Garden Décor                            4.4      1\n",
       "Games & Game Accessories                4.5      1\n",
       "GPS, Finders & Accessories              4.0      1\n",
       "Furniture & Lighting                    4.2      1\n",
       "eBook Readers & Accessories             0.0      1\n",
       "Name: count, Length: 296, dtype: int64"
      ]
     },
     "execution_count": 3393,
     "metadata": {},
     "output_type": "execute_result"
    }
   ],
   "source": [
    "rate_products = median_part3.value_counts()\n",
    "rate_products"
   ]
  },
  {
   "cell_type": "code",
   "execution_count": 3395,
   "id": "85ed173c-0f3f-451b-9a35-af70de9ca440",
   "metadata": {},
   "outputs": [],
   "source": [
    "rate_products = rate_products.reset_index()\n",
    "#rate_products =rate_products[\"stars\"].value_counts()\n",
    "#rate_products = rate_products.reset_index()\n"
   ]
  },
  {
   "cell_type": "code",
   "execution_count": 3397,
   "id": "de71f40b-3e86-4e94-bdbc-1cbdd02a7be8",
   "metadata": {},
   "outputs": [
    {
     "data": {
      "text/html": [
       "<div>\n",
       "<style scoped>\n",
       "    .dataframe tbody tr th:only-of-type {\n",
       "        vertical-align: middle;\n",
       "    }\n",
       "\n",
       "    .dataframe tbody tr th {\n",
       "        vertical-align: top;\n",
       "    }\n",
       "\n",
       "    .dataframe thead th {\n",
       "        text-align: right;\n",
       "    }\n",
       "</style>\n",
       "<table border=\"1\" class=\"dataframe\">\n",
       "  <thead>\n",
       "    <tr style=\"text-align: right;\">\n",
       "      <th></th>\n",
       "      <th>category</th>\n",
       "      <th>stars</th>\n",
       "      <th>count</th>\n",
       "    </tr>\n",
       "  </thead>\n",
       "  <tbody>\n",
       "    <tr>\n",
       "      <th>0</th>\n",
       "      <td>3D Printers</td>\n",
       "      <td>3.9</td>\n",
       "      <td>1</td>\n",
       "    </tr>\n",
       "    <tr>\n",
       "      <th>1</th>\n",
       "      <td>Motorbike Lighting</td>\n",
       "      <td>0.0</td>\n",
       "      <td>1</td>\n",
       "    </tr>\n",
       "    <tr>\n",
       "      <th>2</th>\n",
       "      <td>Motorbike Handlebars, Controls &amp; Grips</td>\n",
       "      <td>0.0</td>\n",
       "      <td>1</td>\n",
       "    </tr>\n",
       "    <tr>\n",
       "      <th>3</th>\n",
       "      <td>Motorbike Exhaust &amp; Exhaust Systems</td>\n",
       "      <td>0.0</td>\n",
       "      <td>1</td>\n",
       "    </tr>\n",
       "    <tr>\n",
       "      <th>4</th>\n",
       "      <td>Motorbike Engines &amp; Engine Parts</td>\n",
       "      <td>3.1</td>\n",
       "      <td>1</td>\n",
       "    </tr>\n",
       "    <tr>\n",
       "      <th>...</th>\n",
       "      <td>...</td>\n",
       "      <td>...</td>\n",
       "      <td>...</td>\n",
       "    </tr>\n",
       "    <tr>\n",
       "      <th>291</th>\n",
       "      <td>Garden Décor</td>\n",
       "      <td>4.4</td>\n",
       "      <td>1</td>\n",
       "    </tr>\n",
       "    <tr>\n",
       "      <th>292</th>\n",
       "      <td>Games &amp; Game Accessories</td>\n",
       "      <td>4.5</td>\n",
       "      <td>1</td>\n",
       "    </tr>\n",
       "    <tr>\n",
       "      <th>293</th>\n",
       "      <td>GPS, Finders &amp; Accessories</td>\n",
       "      <td>4.0</td>\n",
       "      <td>1</td>\n",
       "    </tr>\n",
       "    <tr>\n",
       "      <th>294</th>\n",
       "      <td>Furniture &amp; Lighting</td>\n",
       "      <td>4.2</td>\n",
       "      <td>1</td>\n",
       "    </tr>\n",
       "    <tr>\n",
       "      <th>295</th>\n",
       "      <td>eBook Readers &amp; Accessories</td>\n",
       "      <td>0.0</td>\n",
       "      <td>1</td>\n",
       "    </tr>\n",
       "  </tbody>\n",
       "</table>\n",
       "<p>296 rows × 3 columns</p>\n",
       "</div>"
      ],
      "text/plain": [
       "                                   category  stars  count\n",
       "0                               3D Printers    3.9      1\n",
       "1                        Motorbike Lighting    0.0      1\n",
       "2    Motorbike Handlebars, Controls & Grips    0.0      1\n",
       "3       Motorbike Exhaust & Exhaust Systems    0.0      1\n",
       "4          Motorbike Engines & Engine Parts    3.1      1\n",
       "..                                      ...    ...    ...\n",
       "291                            Garden Décor    4.4      1\n",
       "292                Games & Game Accessories    4.5      1\n",
       "293              GPS, Finders & Accessories    4.0      1\n",
       "294                    Furniture & Lighting    4.2      1\n",
       "295             eBook Readers & Accessories    0.0      1\n",
       "\n",
       "[296 rows x 3 columns]"
      ]
     },
     "execution_count": 3397,
     "metadata": {},
     "output_type": "execute_result"
    }
   ],
   "source": [
    "rate_products"
   ]
  },
  {
   "cell_type": "code",
   "execution_count": 3399,
   "id": "48ce6f2f-3ba4-4aad-a7e0-a8712be0c270",
   "metadata": {},
   "outputs": [
    {
     "data": {
      "image/png": "[encoded data removed]",
      "text/plain": [
       "<Figure size 640x480 with 1 Axes>"
      ]
     },
     "metadata": {},
     "output_type": "display_data"
    }
   ],
   "source": [
    "sns.histplot(rate_products.stars, bins=50)\n",
    "plt.show()"
   ]
  },
  {
   "cell_type": "code",
   "execution_count": 3403,
   "id": "2ffe1d43-0c96-4267-b5ae-6b142f5ee18c",
   "metadata": {},
   "outputs": [],
   "source": [
    "# How do customers generally rate products? Is there a common trend?\n",
    "\n",
    "#common trend is 0"
   ]
  },
  {
   "cell_type": "code",
   "execution_count": null,
   "id": "704d00bf-5f33-40dc-826f-525c3db12f6d",
   "metadata": {},
   "outputs": [],
   "source": []
  },
  {
   "cell_type": "code",
   "execution_count": null,
   "id": "eaad969d-1862-44bf-9be1-0122ecb02ab0",
   "metadata": {},
   "outputs": [],
   "source": []
  },
  {
   "cell_type": "code",
   "execution_count": null,
   "id": "d9e61ac0-b52b-40e4-bf54-8137d09a564b",
   "metadata": {},
   "outputs": [],
   "source": []
  },
  {
   "cell_type": "markdown",
   "id": "97f7023f-0b69-4db6-9495-aa3ebfeb9d78",
   "metadata": {},
   "source": [
    "### 2.Measures of Dispersion:\n",
    "\n",
    "- Determine the variance, standard deviation, and interquartile range for product rating.\n",
    "- Are the ratings consistent, or is there a wide variation in customer feedback?"
   ]
  },
  {
   "cell_type": "code",
   "execution_count": 3567,
   "id": "8e98e03d-3503-4804-bbbb-62ab0d6c7900",
   "metadata": {},
   "outputs": [],
   "source": [
    "df_rate = df.copy()  \n",
    "df_dispersion = df.copy() "
   ]
  },
  {
   "cell_type": "code",
   "execution_count": 3569,
   "id": "5f33d06f-a9aa-4595-b94c-28f0f97a0eb1",
   "metadata": {},
   "outputs": [
    {
     "data": {
      "text/html": [
       "<div>\n",
       "<style scoped>\n",
       "    .dataframe tbody tr th:only-of-type {\n",
       "        vertical-align: middle;\n",
       "    }\n",
       "\n",
       "    .dataframe tbody tr th {\n",
       "        vertical-align: top;\n",
       "    }\n",
       "\n",
       "    .dataframe thead th {\n",
       "        text-align: right;\n",
       "    }\n",
       "</style>\n",
       "<table border=\"1\" class=\"dataframe\">\n",
       "  <thead>\n",
       "    <tr style=\"text-align: right;\">\n",
       "      <th></th>\n",
       "      <th>stars</th>\n",
       "      <th>category</th>\n",
       "    </tr>\n",
       "  </thead>\n",
       "  <tbody>\n",
       "    <tr>\n",
       "      <th>0</th>\n",
       "      <td>4.7</td>\n",
       "      <td>Hi-Fi Speakers</td>\n",
       "    </tr>\n",
       "    <tr>\n",
       "      <th>1</th>\n",
       "      <td>4.7</td>\n",
       "      <td>Hi-Fi Speakers</td>\n",
       "    </tr>\n",
       "  </tbody>\n",
       "</table>\n",
       "</div>"
      ],
      "text/plain": [
       "   stars        category\n",
       "0    4.7  Hi-Fi Speakers\n",
       "1    4.7  Hi-Fi Speakers"
      ]
     },
     "execution_count": 3569,
     "metadata": {},
     "output_type": "execute_result"
    }
   ],
   "source": [
    "df_dispersion = df_rate[[\"stars\", \"category\"]]\n",
    "df_dispersion.head(2)"
   ]
  },
  {
   "cell_type": "code",
   "execution_count": null,
   "id": "9f096b0c-e13d-43a2-b395-5d2576025567",
   "metadata": {},
   "outputs": [],
   "source": []
  },
  {
   "cell_type": "markdown",
   "id": "3b6e8550-33e5-443c-b45d-e6350c3bc216",
   "metadata": {
    "jp-MarkdownHeadingCollapsed": true
   },
   "source": [
    "#### test "
   ]
  },
  {
   "cell_type": "code",
   "execution_count": 3505,
   "id": "299ab113-1995-455d-a200-94534c710e2a",
   "metadata": {},
   "outputs": [],
   "source": [
    "df_rate = df_rate[[\"stars\", \"category\"]]"
   ]
  },
  {
   "cell_type": "code",
   "execution_count": 3486,
   "id": "230cdc2e-69ab-4430-810c-430d118cb5c6",
   "metadata": {},
   "outputs": [
    {
     "data": {
      "text/plain": [
       "(2443651, 2)"
      ]
     },
     "execution_count": 3486,
     "metadata": {},
     "output_type": "execute_result"
    }
   ],
   "source": [
    "df_rate.shape"
   ]
  },
  {
   "cell_type": "code",
   "execution_count": 3486,
   "id": "34c96c13-c00c-4930-8aea-dd48a3906f15",
   "metadata": {},
   "outputs": [
    {
     "data": {
      "text/plain": [
       "(2443651, 2)"
      ]
     },
     "execution_count": 3486,
     "metadata": {},
     "output_type": "execute_result"
    }
   ],
   "source": [
    "df_rate.shape"
   ]
  },
  {
   "cell_type": "code",
   "execution_count": 3488,
   "id": "0a1d6bc1-4a9c-4823-a5cf-c901002d08b0",
   "metadata": {},
   "outputs": [
    {
     "data": {
      "text/html": [
       "<div>\n",
       "<style scoped>\n",
       "    .dataframe tbody tr th:only-of-type {\n",
       "        vertical-align: middle;\n",
       "    }\n",
       "\n",
       "    .dataframe tbody tr th {\n",
       "        vertical-align: top;\n",
       "    }\n",
       "\n",
       "    .dataframe thead th {\n",
       "        text-align: right;\n",
       "    }\n",
       "</style>\n",
       "<table border=\"1\" class=\"dataframe\">\n",
       "  <thead>\n",
       "    <tr style=\"text-align: right;\">\n",
       "      <th></th>\n",
       "      <th>stars</th>\n",
       "      <th>category</th>\n",
       "    </tr>\n",
       "  </thead>\n",
       "  <tbody>\n",
       "    <tr>\n",
       "      <th>0</th>\n",
       "      <td>4.7</td>\n",
       "      <td>Hi-Fi Speakers</td>\n",
       "    </tr>\n",
       "    <tr>\n",
       "      <th>1</th>\n",
       "      <td>4.7</td>\n",
       "      <td>Hi-Fi Speakers</td>\n",
       "    </tr>\n",
       "  </tbody>\n",
       "</table>\n",
       "</div>"
      ],
      "text/plain": [
       "   stars        category\n",
       "0    4.7  Hi-Fi Speakers\n",
       "1    4.7  Hi-Fi Speakers"
      ]
     },
     "execution_count": 3488,
     "metadata": {},
     "output_type": "execute_result"
    }
   ],
   "source": [
    "df_rate.head(2)"
   ]
  },
  {
   "cell_type": "code",
   "execution_count": 3490,
   "id": "570c0432-0c41-45bd-9cbc-7312f1af410e",
   "metadata": {},
   "outputs": [],
   "source": [
    "df_rate = df_rate.groupby(\"category\").value_counts()"
   ]
  },
  {
   "cell_type": "code",
   "execution_count": 3492,
   "id": "9165d14b-ee10-482e-85da-c6e4903550eb",
   "metadata": {},
   "outputs": [
    {
     "data": {
      "text/html": [
       "<div>\n",
       "<style scoped>\n",
       "    .dataframe tbody tr th:only-of-type {\n",
       "        vertical-align: middle;\n",
       "    }\n",
       "\n",
       "    .dataframe tbody tr th {\n",
       "        vertical-align: top;\n",
       "    }\n",
       "\n",
       "    .dataframe thead th {\n",
       "        text-align: right;\n",
       "    }\n",
       "</style>\n",
       "<table border=\"1\" class=\"dataframe\">\n",
       "  <thead>\n",
       "    <tr style=\"text-align: right;\">\n",
       "      <th></th>\n",
       "      <th>category</th>\n",
       "      <th>stars</th>\n",
       "      <th>count</th>\n",
       "    </tr>\n",
       "  </thead>\n",
       "  <tbody>\n",
       "    <tr>\n",
       "      <th>0</th>\n",
       "      <td>3D Printers</td>\n",
       "      <td>0.0</td>\n",
       "      <td>87</td>\n",
       "    </tr>\n",
       "    <tr>\n",
       "      <th>1</th>\n",
       "      <td>3D Printers</td>\n",
       "      <td>4.4</td>\n",
       "      <td>22</td>\n",
       "    </tr>\n",
       "    <tr>\n",
       "      <th>2</th>\n",
       "      <td>3D Printers</td>\n",
       "      <td>4.3</td>\n",
       "      <td>18</td>\n",
       "    </tr>\n",
       "    <tr>\n",
       "      <th>3</th>\n",
       "      <td>3D Printers</td>\n",
       "      <td>4.2</td>\n",
       "      <td>16</td>\n",
       "    </tr>\n",
       "    <tr>\n",
       "      <th>4</th>\n",
       "      <td>3D Printers</td>\n",
       "      <td>4.0</td>\n",
       "      <td>13</td>\n",
       "    </tr>\n",
       "    <tr>\n",
       "      <th>...</th>\n",
       "      <td>...</td>\n",
       "      <td>...</td>\n",
       "      <td>...</td>\n",
       "    </tr>\n",
       "    <tr>\n",
       "      <th>8780</th>\n",
       "      <td>eBook Readers &amp; Accessories</td>\n",
       "      <td>2.8</td>\n",
       "      <td>1</td>\n",
       "    </tr>\n",
       "    <tr>\n",
       "      <th>8781</th>\n",
       "      <td>eBook Readers &amp; Accessories</td>\n",
       "      <td>3.4</td>\n",
       "      <td>1</td>\n",
       "    </tr>\n",
       "    <tr>\n",
       "      <th>8782</th>\n",
       "      <td>eBook Readers &amp; Accessories</td>\n",
       "      <td>3.5</td>\n",
       "      <td>1</td>\n",
       "    </tr>\n",
       "    <tr>\n",
       "      <th>8783</th>\n",
       "      <td>eBook Readers &amp; Accessories</td>\n",
       "      <td>3.8</td>\n",
       "      <td>1</td>\n",
       "    </tr>\n",
       "    <tr>\n",
       "      <th>8784</th>\n",
       "      <td>eBook Readers &amp; Accessories</td>\n",
       "      <td>4.9</td>\n",
       "      <td>1</td>\n",
       "    </tr>\n",
       "  </tbody>\n",
       "</table>\n",
       "<p>8785 rows × 3 columns</p>\n",
       "</div>"
      ],
      "text/plain": [
       "                         category  stars  count\n",
       "0                     3D Printers    0.0     87\n",
       "1                     3D Printers    4.4     22\n",
       "2                     3D Printers    4.3     18\n",
       "3                     3D Printers    4.2     16\n",
       "4                     3D Printers    4.0     13\n",
       "...                           ...    ...    ...\n",
       "8780  eBook Readers & Accessories    2.8      1\n",
       "8781  eBook Readers & Accessories    3.4      1\n",
       "8782  eBook Readers & Accessories    3.5      1\n",
       "8783  eBook Readers & Accessories    3.8      1\n",
       "8784  eBook Readers & Accessories    4.9      1\n",
       "\n",
       "[8785 rows x 3 columns]"
      ]
     },
     "execution_count": 3492,
     "metadata": {},
     "output_type": "execute_result"
    }
   ],
   "source": [
    "df_rate = df_rate.reset_index()\n",
    "df_rate"
   ]
  },
  {
   "cell_type": "code",
   "execution_count": 3508,
   "id": "67b27b90-0292-4052-a31d-6eb2788a056f",
   "metadata": {},
   "outputs": [
    {
     "data": {
      "text/html": [
       "<div>\n",
       "<style scoped>\n",
       "    .dataframe tbody tr th:only-of-type {\n",
       "        vertical-align: middle;\n",
       "    }\n",
       "\n",
       "    .dataframe tbody tr th {\n",
       "        vertical-align: top;\n",
       "    }\n",
       "\n",
       "    .dataframe thead th {\n",
       "        text-align: right;\n",
       "    }\n",
       "</style>\n",
       "<table border=\"1\" class=\"dataframe\">\n",
       "  <thead>\n",
       "    <tr style=\"text-align: right;\">\n",
       "      <th></th>\n",
       "      <th>stars</th>\n",
       "    </tr>\n",
       "  </thead>\n",
       "  <tbody>\n",
       "    <tr>\n",
       "      <th>count</th>\n",
       "      <td>8785.000000</td>\n",
       "    </tr>\n",
       "    <tr>\n",
       "      <th>mean</th>\n",
       "      <td>3.310905</td>\n",
       "    </tr>\n",
       "    <tr>\n",
       "      <th>std</th>\n",
       "      <td>1.207035</td>\n",
       "    </tr>\n",
       "    <tr>\n",
       "      <th>min</th>\n",
       "      <td>0.000000</td>\n",
       "    </tr>\n",
       "    <tr>\n",
       "      <th>25%</th>\n",
       "      <td>2.600000</td>\n",
       "    </tr>\n",
       "    <tr>\n",
       "      <th>50%</th>\n",
       "      <td>3.500000</td>\n",
       "    </tr>\n",
       "    <tr>\n",
       "      <th>75%</th>\n",
       "      <td>4.300000</td>\n",
       "    </tr>\n",
       "    <tr>\n",
       "      <th>max</th>\n",
       "      <td>5.000000</td>\n",
       "    </tr>\n",
       "  </tbody>\n",
       "</table>\n",
       "</div>"
      ],
      "text/plain": [
       "             stars\n",
       "count  8785.000000\n",
       "mean      3.310905\n",
       "std       1.207035\n",
       "min       0.000000\n",
       "25%       2.600000\n",
       "50%       3.500000\n",
       "75%       4.300000\n",
       "max       5.000000"
      ]
     },
     "execution_count": 3508,
     "metadata": {},
     "output_type": "execute_result"
    }
   ],
   "source": [
    "df_rate.describe()"
   ]
  },
  {
   "cell_type": "code",
   "execution_count": null,
   "id": "e20e66d7-8bc0-4c77-b75f-fbdd42e946bd",
   "metadata": {},
   "outputs": [],
   "source": []
  },
  {
   "cell_type": "markdown",
   "id": "be66cec3-4a1f-4afc-95b9-eb57cb105edd",
   "metadata": {},
   "source": [
    "#### code"
   ]
  },
  {
   "cell_type": "code",
   "execution_count": null,
   "id": "2160d2d4-5b1b-4727-b1ef-0af67db33342",
   "metadata": {},
   "outputs": [],
   "source": []
  },
  {
   "cell_type": "code",
   "execution_count": 3571,
   "id": "6b938413-becd-4440-bbe8-5be968a292fe",
   "metadata": {},
   "outputs": [
    {
     "data": {
      "text/html": [
       "<div>\n",
       "<style scoped>\n",
       "    .dataframe tbody tr th:only-of-type {\n",
       "        vertical-align: middle;\n",
       "    }\n",
       "\n",
       "    .dataframe tbody tr th {\n",
       "        vertical-align: top;\n",
       "    }\n",
       "\n",
       "    .dataframe thead th {\n",
       "        text-align: right;\n",
       "    }\n",
       "</style>\n",
       "<table border=\"1\" class=\"dataframe\">\n",
       "  <thead>\n",
       "    <tr style=\"text-align: right;\">\n",
       "      <th></th>\n",
       "      <th>index</th>\n",
       "      <th>stars</th>\n",
       "    </tr>\n",
       "  </thead>\n",
       "  <tbody>\n",
       "    <tr>\n",
       "      <th>0</th>\n",
       "      <td>count</td>\n",
       "      <td>2443651.00</td>\n",
       "    </tr>\n",
       "    <tr>\n",
       "      <th>1</th>\n",
       "      <td>mean</td>\n",
       "      <td>2.15</td>\n",
       "    </tr>\n",
       "    <tr>\n",
       "      <th>2</th>\n",
       "      <td>std</td>\n",
       "      <td>2.19</td>\n",
       "    </tr>\n",
       "    <tr>\n",
       "      <th>3</th>\n",
       "      <td>min</td>\n",
       "      <td>0.00</td>\n",
       "    </tr>\n",
       "    <tr>\n",
       "      <th>4</th>\n",
       "      <td>25%</td>\n",
       "      <td>0.00</td>\n",
       "    </tr>\n",
       "    <tr>\n",
       "      <th>5</th>\n",
       "      <td>50%</td>\n",
       "      <td>0.00</td>\n",
       "    </tr>\n",
       "    <tr>\n",
       "      <th>6</th>\n",
       "      <td>75%</td>\n",
       "      <td>4.40</td>\n",
       "    </tr>\n",
       "    <tr>\n",
       "      <th>7</th>\n",
       "      <td>max</td>\n",
       "      <td>5.00</td>\n",
       "    </tr>\n",
       "  </tbody>\n",
       "</table>\n",
       "</div>"
      ],
      "text/plain": [
       "   index       stars\n",
       "0  count  2443651.00\n",
       "1   mean        2.15\n",
       "2    std        2.19\n",
       "3    min        0.00\n",
       "4    25%        0.00\n",
       "5    50%        0.00\n",
       "6    75%        4.40\n",
       "7    max        5.00"
      ]
     },
     "execution_count": 3571,
     "metadata": {},
     "output_type": "execute_result"
    }
   ],
   "source": [
    "df_dispersion = df_dispersion[\"stars\"].describe()\n",
    "df_dispersion = df_dispersion.reset_index().round(2)\n",
    "df_dispersion"
   ]
  },
  {
   "cell_type": "code",
   "execution_count": 3575,
   "id": "4997f0d0-ac3b-445e-acc8-04ba10e7b75d",
   "metadata": {},
   "outputs": [
    {
     "data": {
      "text/plain": [
       "4.7961"
      ]
     },
     "execution_count": 3575,
     "metadata": {},
     "output_type": "execute_result"
    }
   ],
   "source": [
    "2.19 ** 2"
   ]
  },
  {
   "cell_type": "code",
   "execution_count": 3587,
   "id": "b48b8f42-fc25-4074-a5f7-66318b998749",
   "metadata": {},
   "outputs": [
    {
     "data": {
      "text/plain": [
       "4.4"
      ]
     },
     "execution_count": 3587,
     "metadata": {},
     "output_type": "execute_result"
    }
   ],
   "source": [
    "q1 = 0.00 \n",
    "q3 = 4.40\n",
    "iqr = q3 - q1\n",
    "iqr"
   ]
  },
  {
   "cell_type": "code",
   "execution_count": 3589,
   "id": "bdf76098-46f6-4c1d-992e-b7af88ce4e86",
   "metadata": {},
   "outputs": [
    {
     "data": {
      "text/plain": [
       "11.0"
      ]
     },
     "execution_count": 3589,
     "metadata": {},
     "output_type": "execute_result"
    }
   ],
   "source": [
    "min_q = q3 + iqr * 1.5\n",
    "min_q"
   ]
  },
  {
   "cell_type": "code",
   "execution_count": 3591,
   "id": "6393f1e2-5c69-4b29-9f93-b7ff01ed2ffb",
   "metadata": {},
   "outputs": [
    {
     "data": {
      "text/plain": [
       "-6.6000000000000005"
      ]
     },
     "execution_count": 3591,
     "metadata": {},
     "output_type": "execute_result"
    }
   ],
   "source": [
    "max_q = q1 - iqr * 1.5\n",
    "max_q"
   ]
  },
  {
   "cell_type": "code",
   "execution_count": null,
   "id": "be9051ca-7e51-444d-8970-b67f87049234",
   "metadata": {},
   "outputs": [],
   "source": []
  },
  {
   "cell_type": "code",
   "execution_count": 3594,
   "id": "0584771c-a8ae-403f-b6cd-cf2eb04f18f6",
   "metadata": {},
   "outputs": [],
   "source": [
    "#variance: Approximately      4.7961\n",
    "#standard deviation:      std  2.19\n",
    "#interquartile range  iqr      4.4"
   ]
  },
  {
   "cell_type": "code",
   "execution_count": 3596,
   "id": "71a5d2d8-f31e-4d86-8ea4-0e6d8e42f21c",
   "metadata": {},
   "outputs": [],
   "source": [
    "#Are the ratings consistent, or is there a wide variation in customer feedback?\n",
    "#high variation"
   ]
  },
  {
   "cell_type": "code",
   "execution_count": null,
   "id": "5d322c70-cf3f-4144-873d-dfa1a65c2194",
   "metadata": {},
   "outputs": [],
   "source": []
  },
  {
   "cell_type": "code",
   "execution_count": null,
   "id": "79075aa7-1cce-4f42-a09b-eada6b85c031",
   "metadata": {},
   "outputs": [],
   "source": []
  },
  {
   "cell_type": "code",
   "execution_count": null,
   "id": "e5ee1937-d4b4-47f4-992c-49d6953f350b",
   "metadata": {},
   "outputs": [],
   "source": []
  },
  {
   "cell_type": "markdown",
   "id": "4b543704-688a-498a-9c80-a4c1b07b3c51",
   "metadata": {},
   "source": [
    "### 3.Shape of the Distribution:\n",
    "\n",
    "- Calculate the skewness and kurtosis for the rating column.\n",
    "- Are the ratings normally distributed, or do they lean towards higher or lower values?"
   ]
  },
  {
   "cell_type": "code",
   "execution_count": 3929,
   "id": "2610e0c5-fcc0-449d-807f-ecf8e9f3efec",
   "metadata": {},
   "outputs": [],
   "source": [
    "df_shape = df.copy()"
   ]
  },
  {
   "cell_type": "code",
   "execution_count": 3931,
   "id": "4dac091a-1c94-4188-a814-fd41681b846f",
   "metadata": {},
   "outputs": [
    {
     "data": {
      "text/html": [
       "<div>\n",
       "<style scoped>\n",
       "    .dataframe tbody tr th:only-of-type {\n",
       "        vertical-align: middle;\n",
       "    }\n",
       "\n",
       "    .dataframe tbody tr th {\n",
       "        vertical-align: top;\n",
       "    }\n",
       "\n",
       "    .dataframe thead th {\n",
       "        text-align: right;\n",
       "    }\n",
       "</style>\n",
       "<table border=\"1\" class=\"dataframe\">\n",
       "  <thead>\n",
       "    <tr style=\"text-align: right;\">\n",
       "      <th></th>\n",
       "      <th>uid</th>\n",
       "      <th>asin</th>\n",
       "      <th>title</th>\n",
       "      <th>stars</th>\n",
       "      <th>reviews</th>\n",
       "      <th>price</th>\n",
       "      <th>isBestSeller</th>\n",
       "      <th>boughtInLastMonth</th>\n",
       "      <th>category</th>\n",
       "    </tr>\n",
       "  </thead>\n",
       "  <tbody>\n",
       "    <tr>\n",
       "      <th>0</th>\n",
       "      <td>1</td>\n",
       "      <td>B09B96TG33</td>\n",
       "      <td>Echo Dot (5th generation, 2022 release) | Big ...</td>\n",
       "      <td>4.7</td>\n",
       "      <td>15308</td>\n",
       "      <td>21.99</td>\n",
       "      <td>False</td>\n",
       "      <td>0</td>\n",
       "      <td>Hi-Fi Speakers</td>\n",
       "    </tr>\n",
       "  </tbody>\n",
       "</table>\n",
       "</div>"
      ],
      "text/plain": [
       "   uid        asin                                              title  stars  \\\n",
       "0    1  B09B96TG33  Echo Dot (5th generation, 2022 release) | Big ...    4.7   \n",
       "\n",
       "   reviews  price  isBestSeller  boughtInLastMonth        category  \n",
       "0    15308  21.99         False                  0  Hi-Fi Speakers  "
      ]
     },
     "execution_count": 3931,
     "metadata": {},
     "output_type": "execute_result"
    }
   ],
   "source": [
    "df_shape.head(1)"
   ]
  },
  {
   "cell_type": "code",
   "execution_count": 3933,
   "id": "f3b77c4e-c157-4425-a4e2-a770742a6bf6",
   "metadata": {},
   "outputs": [
    {
     "data": {
      "text/html": [
       "<div>\n",
       "<style scoped>\n",
       "    .dataframe tbody tr th:only-of-type {\n",
       "        vertical-align: middle;\n",
       "    }\n",
       "\n",
       "    .dataframe tbody tr th {\n",
       "        vertical-align: top;\n",
       "    }\n",
       "\n",
       "    .dataframe thead th {\n",
       "        text-align: right;\n",
       "    }\n",
       "</style>\n",
       "<table border=\"1\" class=\"dataframe\">\n",
       "  <thead>\n",
       "    <tr style=\"text-align: right;\">\n",
       "      <th></th>\n",
       "      <th>stars</th>\n",
       "      <th>category</th>\n",
       "    </tr>\n",
       "  </thead>\n",
       "  <tbody>\n",
       "    <tr>\n",
       "      <th>0</th>\n",
       "      <td>4.7</td>\n",
       "      <td>Hi-Fi Speakers</td>\n",
       "    </tr>\n",
       "    <tr>\n",
       "      <th>1</th>\n",
       "      <td>4.7</td>\n",
       "      <td>Hi-Fi Speakers</td>\n",
       "    </tr>\n",
       "  </tbody>\n",
       "</table>\n",
       "</div>"
      ],
      "text/plain": [
       "   stars        category\n",
       "0    4.7  Hi-Fi Speakers\n",
       "1    4.7  Hi-Fi Speakers"
      ]
     },
     "execution_count": 3933,
     "metadata": {},
     "output_type": "execute_result"
    }
   ],
   "source": [
    "df_shape = df_shape[[\"stars\", \"category\"]]\n",
    "df_shape.head(2)"
   ]
  },
  {
   "cell_type": "code",
   "execution_count": 3935,
   "id": "4d6b2e19-09c6-4ca3-8323-8a239406e48c",
   "metadata": {},
   "outputs": [],
   "source": [
    "df_shape = df_shape[\"stars\"].value_counts()"
   ]
  },
  {
   "cell_type": "code",
   "execution_count": 3937,
   "id": "b785421c-67f4-4b07-a322-e700e4817087",
   "metadata": {},
   "outputs": [],
   "source": [
    "df_shape = df_shape.reset_index()"
   ]
  },
  {
   "cell_type": "code",
   "execution_count": 3945,
   "id": "e091c6d1-28ae-4f4a-8827-4bb9096527d1",
   "metadata": {},
   "outputs": [
    {
     "data": {
      "text/html": [
       "<div>\n",
       "<style scoped>\n",
       "    .dataframe tbody tr th:only-of-type {\n",
       "        vertical-align: middle;\n",
       "    }\n",
       "\n",
       "    .dataframe tbody tr th {\n",
       "        vertical-align: top;\n",
       "    }\n",
       "\n",
       "    .dataframe thead th {\n",
       "        text-align: right;\n",
       "    }\n",
       "</style>\n",
       "<table border=\"1\" class=\"dataframe\">\n",
       "  <thead>\n",
       "    <tr style=\"text-align: right;\">\n",
       "      <th></th>\n",
       "      <th>stars</th>\n",
       "      <th>count</th>\n",
       "    </tr>\n",
       "  </thead>\n",
       "  <tbody>\n",
       "    <tr>\n",
       "      <th>0</th>\n",
       "      <td>0.0</td>\n",
       "      <td>1225641</td>\n",
       "    </tr>\n",
       "    <tr>\n",
       "      <th>1</th>\n",
       "      <td>4.5</td>\n",
       "      <td>151577</td>\n",
       "    </tr>\n",
       "    <tr>\n",
       "      <th>2</th>\n",
       "      <td>4.6</td>\n",
       "      <td>136995</td>\n",
       "    </tr>\n",
       "    <tr>\n",
       "      <th>3</th>\n",
       "      <td>4.4</td>\n",
       "      <td>136165</td>\n",
       "    </tr>\n",
       "    <tr>\n",
       "      <th>4</th>\n",
       "      <td>5.0</td>\n",
       "      <td>128492</td>\n",
       "    </tr>\n",
       "  </tbody>\n",
       "</table>\n",
       "</div>"
      ],
      "text/plain": [
       "   stars    count\n",
       "0    0.0  1225641\n",
       "1    4.5   151577\n",
       "2    4.6   136995\n",
       "3    4.4   136165\n",
       "4    5.0   128492"
      ]
     },
     "execution_count": 3945,
     "metadata": {},
     "output_type": "execute_result"
    }
   ],
   "source": [
    "df_shape.head(5)"
   ]
  },
  {
   "cell_type": "code",
   "execution_count": null,
   "id": "539aca57-8cd3-4d46-8afc-61e6d7b20495",
   "metadata": {},
   "outputs": [],
   "source": []
  },
  {
   "cell_type": "code",
   "execution_count": 4040,
   "id": "f378c40a-d760-449c-af51-53760e94699e",
   "metadata": {},
   "outputs": [
    {
     "name": "stdout",
     "output_type": "stream",
     "text": [
      "Skewness: -0.028615310091667345\n",
      "Kurtosis: -1.1597134885521327\n"
     ]
    }
   ],
   "source": [
    "from scipy.stats import skew, kurtosis\n",
    "\n",
    "\n",
    "\n",
    "skewness = skew(xd[\"stars\"])\n",
    "kurtosis_value = kurtosis(xd[\"stars\"])\n",
    "\n",
    "print(\"Skewness:\", skewness)\n",
    "print(\"Kurtosis:\", kurtosis_value)\n"
   ]
  },
  {
   "cell_type": "code",
   "execution_count": 4042,
   "id": "f746f221-48d0-43de-9cde-adaf53c89521",
   "metadata": {},
   "outputs": [
    {
     "data": {
      "image/png": "[encoded data removed]",
      "text/plain": [
       "<Figure size 2200x700 with 1 Axes>"
      ]
     },
     "metadata": {},
     "output_type": "display_data"
    }
   ],
   "source": [
    "xd = df_shape[1:40]\n",
    "xd\n",
    "bins = sorted(xd[\"stars\"].unique())\n",
    "\n",
    "plt.figure(figsize=(22, 7))\n",
    "\n",
    "sns.histplot(xd, x=\"stars\", weights=\"count\", bins=bins, color=\"dodgerblue\", alpha=0.7, kde=True)\n",
    "plt.xlabel(\"Stars\", fontsize=15)\n",
    "plt.ylabel(\"Count\", fontsize=15)\n",
    "plt.xticks(bins)   \n",
    "plt.tight_layout()\n",
    "plt.show()\n"
   ]
  },
  {
   "cell_type": "code",
   "execution_count": 4035,
   "id": "acfceed8-a5af-44d9-a8f9-3ea5e64b2677",
   "metadata": {},
   "outputs": [],
   "source": [
    "#right skewenes\n",
    "#high kurtosis"
   ]
  },
  {
   "cell_type": "code",
   "execution_count": null,
   "id": "b4c0cff7-3d0f-4110-8174-70eccc926135",
   "metadata": {},
   "outputs": [],
   "source": [
    "#are the ratings normally distributed, or do they lean towards higher or lower values?\n",
    "#tends to favor higher values"
   ]
  },
  {
   "cell_type": "code",
   "execution_count": null,
   "id": "d92469fb-ab85-4b22-b14d-dfbb101cf079",
   "metadata": {},
   "outputs": [],
   "source": []
  },
  {
   "cell_type": "code",
   "execution_count": null,
   "id": "a88599c7-52e3-4505-9542-d7959b0a3058",
   "metadata": {},
   "outputs": [],
   "source": []
  },
  {
   "cell_type": "code",
   "execution_count": null,
   "id": "f65c05cb-8bf8-4884-b99e-601370c2a3c5",
   "metadata": {},
   "outputs": [],
   "source": []
  },
  {
   "cell_type": "code",
   "execution_count": null,
   "id": "7f447c85-e1bf-44b9-9258-77e80fef24b9",
   "metadata": {},
   "outputs": [],
   "source": []
  },
  {
   "cell_type": "markdown",
   "id": "cf68d06b-afe8-4137-a166-2fcbc122eec3",
   "metadata": {},
   "source": [
    "### 4. Visualizations:\n",
    "\n",
    "- Plot a histogram to visualize the distribution of product ratings. Is there a specific rating that is more common?"
   ]
  },
  {
   "cell_type": "code",
   "execution_count": 4033,
   "id": "85c3c018-7422-46cd-9666-164a3ee1c37f",
   "metadata": {},
   "outputs": [
    {
     "data": {
      "text/html": [
       "<div>\n",
       "<style scoped>\n",
       "    .dataframe tbody tr th:only-of-type {\n",
       "        vertical-align: middle;\n",
       "    }\n",
       "\n",
       "    .dataframe tbody tr th {\n",
       "        vertical-align: top;\n",
       "    }\n",
       "\n",
       "    .dataframe thead th {\n",
       "        text-align: right;\n",
       "    }\n",
       "</style>\n",
       "<table border=\"1\" class=\"dataframe\">\n",
       "  <thead>\n",
       "    <tr style=\"text-align: right;\">\n",
       "      <th></th>\n",
       "      <th>uid</th>\n",
       "      <th>asin</th>\n",
       "      <th>title</th>\n",
       "      <th>stars</th>\n",
       "      <th>reviews</th>\n",
       "      <th>price</th>\n",
       "      <th>isBestSeller</th>\n",
       "      <th>boughtInLastMonth</th>\n",
       "      <th>category</th>\n",
       "    </tr>\n",
       "  </thead>\n",
       "  <tbody>\n",
       "    <tr>\n",
       "      <th>0</th>\n",
       "      <td>1</td>\n",
       "      <td>B09B96TG33</td>\n",
       "      <td>Echo Dot (5th generation, 2022 release) | Big ...</td>\n",
       "      <td>4.7</td>\n",
       "      <td>15308</td>\n",
       "      <td>21.99</td>\n",
       "      <td>False</td>\n",
       "      <td>0</td>\n",
       "      <td>Hi-Fi Speakers</td>\n",
       "    </tr>\n",
       "    <tr>\n",
       "      <th>1</th>\n",
       "      <td>2</td>\n",
       "      <td>B01HTH3C8S</td>\n",
       "      <td>Anker Soundcore mini, Super-Portable Bluetooth...</td>\n",
       "      <td>4.7</td>\n",
       "      <td>98099</td>\n",
       "      <td>23.99</td>\n",
       "      <td>True</td>\n",
       "      <td>0</td>\n",
       "      <td>Hi-Fi Speakers</td>\n",
       "    </tr>\n",
       "  </tbody>\n",
       "</table>\n",
       "</div>"
      ],
      "text/plain": [
       "   uid        asin                                              title  stars  \\\n",
       "0    1  B09B96TG33  Echo Dot (5th generation, 2022 release) | Big ...    4.7   \n",
       "1    2  B01HTH3C8S  Anker Soundcore mini, Super-Portable Bluetooth...    4.7   \n",
       "\n",
       "   reviews  price  isBestSeller  boughtInLastMonth        category  \n",
       "0    15308  21.99         False                  0  Hi-Fi Speakers  \n",
       "1    98099  23.99          True                  0  Hi-Fi Speakers  "
      ]
     },
     "execution_count": 4033,
     "metadata": {},
     "output_type": "execute_result"
    }
   ],
   "source": [
    "df.head(2)"
   ]
  },
  {
   "cell_type": "code",
   "execution_count": null,
   "id": "983dfef2-8a7a-4255-ad34-e2000f465788",
   "metadata": {},
   "outputs": [],
   "source": []
  },
  {
   "cell_type": "code",
   "execution_count": null,
   "id": "142fa758-1a0f-4e75-8eed-edc64dbbe3be",
   "metadata": {},
   "outputs": [],
   "source": []
  },
  {
   "cell_type": "code",
   "execution_count": null,
   "id": "d747f165-099e-4248-bc35-3a712345ef4e",
   "metadata": {},
   "outputs": [],
   "source": []
  },
  {
   "cell_type": "code",
   "execution_count": null,
   "id": "f79d8158-d088-4168-aa58-2d81c8bc1c7f",
   "metadata": {},
   "outputs": [],
   "source": []
  },
  {
   "cell_type": "code",
   "execution_count": null,
   "id": "cc07af01-0ae0-422a-af1d-5d9e2a18f6dc",
   "metadata": {},
   "outputs": [],
   "source": []
  },
  {
   "cell_type": "code",
   "execution_count": null,
   "id": "42dfb4fb-831d-466d-863d-78abf9b64b46",
   "metadata": {},
   "outputs": [],
   "source": []
  },
  {
   "cell_type": "markdown",
   "id": "412a6b1a-6ad0-447b-b4b9-ea7d5557d4d2",
   "metadata": {},
   "source": [
    "## s"
   ]
  },
  {
   "cell_type": "code",
   "execution_count": null,
   "id": "62dc8142-824d-431b-b2f3-f7c4c711499b",
   "metadata": {},
   "outputs": [],
   "source": []
  },
  {
   "cell_type": "code",
   "execution_count": null,
   "id": "c8ee9553-42ee-4f64-885f-dbfac41d55b7",
   "metadata": {},
   "outputs": [],
   "source": []
  },
  {
   "cell_type": "code",
   "execution_count": null,
   "id": "8fe75739-605e-40b5-85f8-25c99efc84e9",
   "metadata": {},
   "outputs": [],
   "source": []
  },
  {
   "cell_type": "code",
   "execution_count": null,
   "id": "45d005d5-2b69-42ab-8c39-fb3aa579eb99",
   "metadata": {},
   "outputs": [],
   "source": []
  },
  {
   "cell_type": "code",
   "execution_count": null,
   "id": "c7047f74-ef0f-4bf3-bb28-81e95499cb8d",
   "metadata": {},
   "outputs": [],
   "source": []
  }
 ],
 "metadata": {
  "kernelspec": {
   "display_name": "Python 3 (ipykernel)",
   "language": "python",
   "name": "python3"
  },
  "language_info": {
   "codemirror_mode": {
    "name": "ipython",
    "version": 3
   },
   "file_extension": ".py",
   "mimetype": "text/x-python",
   "name": "python",
   "nbconvert_exporter": "python",
   "pygments_lexer": "ipython3",
   "version": "3.12.4"
  }
 },
 "nbformat": 4,
 "nbformat_minor": 5
}
